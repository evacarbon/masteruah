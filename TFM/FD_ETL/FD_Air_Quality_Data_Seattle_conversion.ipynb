{
 "cells": [
  {
   "cell_type": "code",
   "execution_count": 1,
   "metadata": {},
   "outputs": [],
   "source": [
    "import pandas as pd"
   ]
  },
  {
   "cell_type": "markdown",
   "metadata": {},
   "source": [
    "### Carbon monoxide (CO)"
   ]
  },
  {
   "cell_type": "code",
   "execution_count": 2,
   "metadata": {},
   "outputs": [],
   "source": [
    "aqs_co = pd.read_csv('./data/Air_Quality_Data_Seattle_CO.csv')"
   ]
  },
  {
   "cell_type": "code",
   "execution_count": 3,
   "metadata": {},
   "outputs": [],
   "source": [
    "import re\n",
    "\n",
    "_underscorer1 = re.compile(r'(.)([A-Z][a-z]+)')\n",
    "_underscorer2 = re.compile('([a-z0-9])([A-Z])')\n",
    "\n",
    "def camelToSnake(s):\n",
    "    subbed = _underscorer1.sub(r'\\1_\\2', s)\n",
    "    return _underscorer2.sub(r'\\1_\\2', subbed).lower()"
   ]
  },
  {
   "cell_type": "code",
   "execution_count": 4,
   "metadata": {},
   "outputs": [
    {
     "data": {
      "text/html": [
       "<div>\n",
       "<style scoped>\n",
       "    .dataframe tbody tr th:only-of-type {\n",
       "        vertical-align: middle;\n",
       "    }\n",
       "\n",
       "    .dataframe tbody tr th {\n",
       "        vertical-align: top;\n",
       "    }\n",
       "\n",
       "    .dataframe thead th {\n",
       "        text-align: right;\n",
       "    }\n",
       "</style>\n",
       "<table border=\"1\" class=\"dataframe\">\n",
       "  <thead>\n",
       "    <tr style=\"text-align: right;\">\n",
       "      <th></th>\n",
       "      <th>date</th>\n",
       "      <th>aqs_site_id</th>\n",
       "      <th>poc</th>\n",
       "      <th>daily _max 8-hour co _concentration</th>\n",
       "      <th>units</th>\n",
       "      <th>daily_aqi_value</th>\n",
       "      <th>daily_obs_count</th>\n",
       "      <th>percent_complete</th>\n",
       "      <th>aqs_parameter_code</th>\n",
       "      <th>aqs_parameter_desc</th>\n",
       "      <th>cbsa_code</th>\n",
       "      <th>cbsa_name</th>\n",
       "      <th>state_code</th>\n",
       "      <th>state</th>\n",
       "      <th>county_code</th>\n",
       "      <th>county</th>\n",
       "      <th>site_latitude</th>\n",
       "      <th>site_longitude</th>\n",
       "    </tr>\n",
       "  </thead>\n",
       "  <tbody>\n",
       "    <tr>\n",
       "      <th>0</th>\n",
       "      <td>01/01/2016</td>\n",
       "      <td>530330030</td>\n",
       "      <td>1</td>\n",
       "      <td>1.1</td>\n",
       "      <td>ppm</td>\n",
       "      <td>13</td>\n",
       "      <td>19</td>\n",
       "      <td>79.0</td>\n",
       "      <td>42101</td>\n",
       "      <td>Carbon monoxide</td>\n",
       "      <td>42660</td>\n",
       "      <td>Seattle-Tacoma-Bellevue, WA</td>\n",
       "      <td>53</td>\n",
       "      <td>Washington</td>\n",
       "      <td>33</td>\n",
       "      <td>King</td>\n",
       "      <td>47.597222</td>\n",
       "      <td>-122.319722</td>\n",
       "    </tr>\n",
       "    <tr>\n",
       "      <th>1</th>\n",
       "      <td>01/02/2016</td>\n",
       "      <td>530330030</td>\n",
       "      <td>1</td>\n",
       "      <td>1.3</td>\n",
       "      <td>ppm</td>\n",
       "      <td>15</td>\n",
       "      <td>24</td>\n",
       "      <td>100.0</td>\n",
       "      <td>42101</td>\n",
       "      <td>Carbon monoxide</td>\n",
       "      <td>42660</td>\n",
       "      <td>Seattle-Tacoma-Bellevue, WA</td>\n",
       "      <td>53</td>\n",
       "      <td>Washington</td>\n",
       "      <td>33</td>\n",
       "      <td>King</td>\n",
       "      <td>47.597222</td>\n",
       "      <td>-122.319722</td>\n",
       "    </tr>\n",
       "    <tr>\n",
       "      <th>2</th>\n",
       "      <td>01/03/2016</td>\n",
       "      <td>530330030</td>\n",
       "      <td>1</td>\n",
       "      <td>1.0</td>\n",
       "      <td>ppm</td>\n",
       "      <td>11</td>\n",
       "      <td>24</td>\n",
       "      <td>100.0</td>\n",
       "      <td>42101</td>\n",
       "      <td>Carbon monoxide</td>\n",
       "      <td>42660</td>\n",
       "      <td>Seattle-Tacoma-Bellevue, WA</td>\n",
       "      <td>53</td>\n",
       "      <td>Washington</td>\n",
       "      <td>33</td>\n",
       "      <td>King</td>\n",
       "      <td>47.597222</td>\n",
       "      <td>-122.319722</td>\n",
       "    </tr>\n",
       "  </tbody>\n",
       "</table>\n",
       "</div>"
      ],
      "text/plain": [
       "         date  aqs_site_id  poc  daily _max 8-hour co _concentration units  \\\n",
       "0  01/01/2016    530330030    1                                  1.1   ppm   \n",
       "1  01/02/2016    530330030    1                                  1.3   ppm   \n",
       "2  01/03/2016    530330030    1                                  1.0   ppm   \n",
       "\n",
       "   daily_aqi_value  daily_obs_count  percent_complete  aqs_parameter_code  \\\n",
       "0               13               19              79.0               42101   \n",
       "1               15               24             100.0               42101   \n",
       "2               11               24             100.0               42101   \n",
       "\n",
       "  aqs_parameter_desc  cbsa_code                    cbsa_name  state_code  \\\n",
       "0    Carbon monoxide      42660  Seattle-Tacoma-Bellevue, WA          53   \n",
       "1    Carbon monoxide      42660  Seattle-Tacoma-Bellevue, WA          53   \n",
       "2    Carbon monoxide      42660  Seattle-Tacoma-Bellevue, WA          53   \n",
       "\n",
       "        state  county_code county  site_latitude  site_longitude  \n",
       "0  Washington           33   King      47.597222     -122.319722  \n",
       "1  Washington           33   King      47.597222     -122.319722  \n",
       "2  Washington           33   King      47.597222     -122.319722  "
      ]
     },
     "execution_count": 4,
     "metadata": {},
     "output_type": "execute_result"
    }
   ],
   "source": [
    "aqs_co.columns = aqs_co.columns.map(lambda x: camelToSnake(x))\n",
    "aqs_co.head(3)"
   ]
  },
  {
   "cell_type": "code",
   "execution_count": 5,
   "metadata": {},
   "outputs": [
    {
     "data": {
      "text/plain": [
       "Index(['date', 'aqs_site_id', 'poc', 'daily _max 8-hour co _concentration',\n",
       "       'units', 'daily_aqi_value', 'daily_obs_count', 'percent_complete',\n",
       "       'aqs_parameter_code', 'aqs_parameter_desc', 'cbsa_code', 'cbsa_name',\n",
       "       'state_code', 'state', 'county_code', 'county', 'site_latitude',\n",
       "       'site_longitude', 'day_year'],\n",
       "      dtype='object')"
      ]
     },
     "execution_count": 5,
     "metadata": {},
     "output_type": "execute_result"
    }
   ],
   "source": [
    "aqs_co.date = pd.to_datetime(aqs_co.date)\n",
    "aqs_co['day_year'] = aqs_co.date.dt.dayofyear\n",
    "aqs_co.columns"
   ]
  },
  {
   "cell_type": "code",
   "execution_count": 6,
   "metadata": {},
   "outputs": [],
   "source": [
    "aqs_co = aqs_co[['day_year', 'daily _max 8-hour co _concentration']]\n",
    "aqs_co.columns = ['day_year', 'co']\n",
    "aqs_co['co'] = aqs_co.co * 1000 * 1.145  # CO: 1 ppb = 1.145 μg/m3"
   ]
  },
  {
   "cell_type": "code",
   "execution_count": 7,
   "metadata": {},
   "outputs": [
    {
     "data": {
      "text/plain": [
       "(652, 2)"
      ]
     },
     "execution_count": 7,
     "metadata": {},
     "output_type": "execute_result"
    }
   ],
   "source": [
    "aqs_co.shape"
   ]
  },
  {
   "cell_type": "code",
   "execution_count": 8,
   "metadata": {},
   "outputs": [],
   "source": [
    "aqs_co = aqs_co.groupby('day_year')['co'].mean()\n",
    "aqs_co = aqs_co.reset_index(level=['day_year'])"
   ]
  },
  {
   "cell_type": "markdown",
   "metadata": {},
   "source": [
    "### Nitrogen dioxide (NO<sub>2</sub>)"
   ]
  },
  {
   "cell_type": "code",
   "execution_count": 9,
   "metadata": {},
   "outputs": [
    {
     "data": {
      "text/html": [
       "<div>\n",
       "<style scoped>\n",
       "    .dataframe tbody tr th:only-of-type {\n",
       "        vertical-align: middle;\n",
       "    }\n",
       "\n",
       "    .dataframe tbody tr th {\n",
       "        vertical-align: top;\n",
       "    }\n",
       "\n",
       "    .dataframe thead th {\n",
       "        text-align: right;\n",
       "    }\n",
       "</style>\n",
       "<table border=\"1\" class=\"dataframe\">\n",
       "  <thead>\n",
       "    <tr style=\"text-align: right;\">\n",
       "      <th></th>\n",
       "      <th>date</th>\n",
       "      <th>aqs_site_id</th>\n",
       "      <th>poc</th>\n",
       "      <th>daily _max 1-hour no2 _concentration</th>\n",
       "      <th>units</th>\n",
       "      <th>daily_aqi_value</th>\n",
       "      <th>daily_obs_count</th>\n",
       "      <th>percent_complete</th>\n",
       "      <th>aqs_parameter_code</th>\n",
       "      <th>aqs_parameter_desc</th>\n",
       "      <th>cbsa_code</th>\n",
       "      <th>cbsa_name</th>\n",
       "      <th>state_code</th>\n",
       "      <th>state</th>\n",
       "      <th>county_code</th>\n",
       "      <th>county</th>\n",
       "      <th>site_latitude</th>\n",
       "      <th>site_longitude</th>\n",
       "    </tr>\n",
       "  </thead>\n",
       "  <tbody>\n",
       "    <tr>\n",
       "      <th>0</th>\n",
       "      <td>01/01/2016</td>\n",
       "      <td>530330030</td>\n",
       "      <td>1</td>\n",
       "      <td>48.6</td>\n",
       "      <td>ppb</td>\n",
       "      <td>45</td>\n",
       "      <td>24</td>\n",
       "      <td>100.0</td>\n",
       "      <td>42602</td>\n",
       "      <td>Nitrogen dioxide (NO2)</td>\n",
       "      <td>42660</td>\n",
       "      <td>Seattle-Tacoma-Bellevue, WA</td>\n",
       "      <td>53</td>\n",
       "      <td>Washington</td>\n",
       "      <td>33</td>\n",
       "      <td>King</td>\n",
       "      <td>47.597222</td>\n",
       "      <td>-122.319722</td>\n",
       "    </tr>\n",
       "    <tr>\n",
       "      <th>1</th>\n",
       "      <td>01/02/2016</td>\n",
       "      <td>530330030</td>\n",
       "      <td>1</td>\n",
       "      <td>42.1</td>\n",
       "      <td>ppb</td>\n",
       "      <td>40</td>\n",
       "      <td>24</td>\n",
       "      <td>100.0</td>\n",
       "      <td>42602</td>\n",
       "      <td>Nitrogen dioxide (NO2)</td>\n",
       "      <td>42660</td>\n",
       "      <td>Seattle-Tacoma-Bellevue, WA</td>\n",
       "      <td>53</td>\n",
       "      <td>Washington</td>\n",
       "      <td>33</td>\n",
       "      <td>King</td>\n",
       "      <td>47.597222</td>\n",
       "      <td>-122.319722</td>\n",
       "    </tr>\n",
       "    <tr>\n",
       "      <th>2</th>\n",
       "      <td>01/03/2016</td>\n",
       "      <td>530330030</td>\n",
       "      <td>1</td>\n",
       "      <td>40.4</td>\n",
       "      <td>ppb</td>\n",
       "      <td>38</td>\n",
       "      <td>24</td>\n",
       "      <td>100.0</td>\n",
       "      <td>42602</td>\n",
       "      <td>Nitrogen dioxide (NO2)</td>\n",
       "      <td>42660</td>\n",
       "      <td>Seattle-Tacoma-Bellevue, WA</td>\n",
       "      <td>53</td>\n",
       "      <td>Washington</td>\n",
       "      <td>33</td>\n",
       "      <td>King</td>\n",
       "      <td>47.597222</td>\n",
       "      <td>-122.319722</td>\n",
       "    </tr>\n",
       "  </tbody>\n",
       "</table>\n",
       "</div>"
      ],
      "text/plain": [
       "         date  aqs_site_id  poc  daily _max 1-hour no2 _concentration units  \\\n",
       "0  01/01/2016    530330030    1                                  48.6   ppb   \n",
       "1  01/02/2016    530330030    1                                  42.1   ppb   \n",
       "2  01/03/2016    530330030    1                                  40.4   ppb   \n",
       "\n",
       "   daily_aqi_value  daily_obs_count  percent_complete  aqs_parameter_code  \\\n",
       "0               45               24             100.0               42602   \n",
       "1               40               24             100.0               42602   \n",
       "2               38               24             100.0               42602   \n",
       "\n",
       "       aqs_parameter_desc  cbsa_code                    cbsa_name  state_code  \\\n",
       "0  Nitrogen dioxide (NO2)      42660  Seattle-Tacoma-Bellevue, WA          53   \n",
       "1  Nitrogen dioxide (NO2)      42660  Seattle-Tacoma-Bellevue, WA          53   \n",
       "2  Nitrogen dioxide (NO2)      42660  Seattle-Tacoma-Bellevue, WA          53   \n",
       "\n",
       "        state  county_code county  site_latitude  site_longitude  \n",
       "0  Washington           33   King      47.597222     -122.319722  \n",
       "1  Washington           33   King      47.597222     -122.319722  \n",
       "2  Washington           33   King      47.597222     -122.319722  "
      ]
     },
     "execution_count": 9,
     "metadata": {},
     "output_type": "execute_result"
    }
   ],
   "source": [
    "aqs_no = pd.read_csv('./data/Air_Quality_Data_Seattle_NO.csv')\n",
    "aqs_no.columns = aqs_no.columns.map(lambda x: camelToSnake(x))\n",
    "aqs_no.head(3)"
   ]
  },
  {
   "cell_type": "code",
   "execution_count": 10,
   "metadata": {},
   "outputs": [],
   "source": [
    "aqs_no.date = pd.to_datetime(aqs_no.date)\n",
    "aqs_no['day_year'] = aqs_no.date.dt.dayofyear\n",
    "aqs_no = aqs_no[['day_year', 'daily _max 1-hour no2 _concentration']]\n",
    "aqs_no.columns = ['day_year', 'no2']\n",
    "aqs_no['no2'] = aqs_no.no2 * 1.88  # NO2: 1 ppb = 1.88 μg/m3"
   ]
  },
  {
   "cell_type": "code",
   "execution_count": 11,
   "metadata": {},
   "outputs": [
    {
     "data": {
      "text/plain": [
       "(1004, 2)"
      ]
     },
     "execution_count": 11,
     "metadata": {},
     "output_type": "execute_result"
    }
   ],
   "source": [
    "aqs_no.shape"
   ]
  },
  {
   "cell_type": "code",
   "execution_count": 12,
   "metadata": {},
   "outputs": [],
   "source": [
    "aqs_no = aqs_no.groupby('day_year')['no2'].mean()\n",
    "aqs_no = aqs_no.reset_index(level=['day_year'])"
   ]
  },
  {
   "cell_type": "markdown",
   "metadata": {},
   "source": [
    "### Ozone (O<sub>3</sub>)"
   ]
  },
  {
   "cell_type": "code",
   "execution_count": 13,
   "metadata": {},
   "outputs": [
    {
     "data": {
      "text/html": [
       "<div>\n",
       "<style scoped>\n",
       "    .dataframe tbody tr th:only-of-type {\n",
       "        vertical-align: middle;\n",
       "    }\n",
       "\n",
       "    .dataframe tbody tr th {\n",
       "        vertical-align: top;\n",
       "    }\n",
       "\n",
       "    .dataframe thead th {\n",
       "        text-align: right;\n",
       "    }\n",
       "</style>\n",
       "<table border=\"1\" class=\"dataframe\">\n",
       "  <thead>\n",
       "    <tr style=\"text-align: right;\">\n",
       "      <th></th>\n",
       "      <th>date</th>\n",
       "      <th>aqs_site_id</th>\n",
       "      <th>poc</th>\n",
       "      <th>daily _max 8-hour _ozone _concentration</th>\n",
       "      <th>units</th>\n",
       "      <th>daily_aqi_value</th>\n",
       "      <th>daily_obs_count</th>\n",
       "      <th>percent_complete</th>\n",
       "      <th>aqs_parameter_code</th>\n",
       "      <th>aqs_parameter_desc</th>\n",
       "      <th>cbsa_code</th>\n",
       "      <th>cbsa_name</th>\n",
       "      <th>state_code</th>\n",
       "      <th>state</th>\n",
       "      <th>county_code</th>\n",
       "      <th>county</th>\n",
       "      <th>site_latitude</th>\n",
       "      <th>site_longitude</th>\n",
       "    </tr>\n",
       "  </thead>\n",
       "  <tbody>\n",
       "    <tr>\n",
       "      <th>0</th>\n",
       "      <td>05/01/2016</td>\n",
       "      <td>530330010</td>\n",
       "      <td>1</td>\n",
       "      <td>0.041</td>\n",
       "      <td>ppm</td>\n",
       "      <td>38</td>\n",
       "      <td>17</td>\n",
       "      <td>100.0</td>\n",
       "      <td>44201</td>\n",
       "      <td>Ozone</td>\n",
       "      <td>42660</td>\n",
       "      <td>Seattle-Tacoma-Bellevue, WA</td>\n",
       "      <td>53</td>\n",
       "      <td>Washington</td>\n",
       "      <td>33</td>\n",
       "      <td>King</td>\n",
       "      <td>47.5525</td>\n",
       "      <td>-122.064722</td>\n",
       "    </tr>\n",
       "    <tr>\n",
       "      <th>1</th>\n",
       "      <td>05/02/2016</td>\n",
       "      <td>530330010</td>\n",
       "      <td>1</td>\n",
       "      <td>0.046</td>\n",
       "      <td>ppm</td>\n",
       "      <td>43</td>\n",
       "      <td>17</td>\n",
       "      <td>100.0</td>\n",
       "      <td>44201</td>\n",
       "      <td>Ozone</td>\n",
       "      <td>42660</td>\n",
       "      <td>Seattle-Tacoma-Bellevue, WA</td>\n",
       "      <td>53</td>\n",
       "      <td>Washington</td>\n",
       "      <td>33</td>\n",
       "      <td>King</td>\n",
       "      <td>47.5525</td>\n",
       "      <td>-122.064722</td>\n",
       "    </tr>\n",
       "    <tr>\n",
       "      <th>2</th>\n",
       "      <td>05/03/2016</td>\n",
       "      <td>530330010</td>\n",
       "      <td>1</td>\n",
       "      <td>0.046</td>\n",
       "      <td>ppm</td>\n",
       "      <td>43</td>\n",
       "      <td>17</td>\n",
       "      <td>100.0</td>\n",
       "      <td>44201</td>\n",
       "      <td>Ozone</td>\n",
       "      <td>42660</td>\n",
       "      <td>Seattle-Tacoma-Bellevue, WA</td>\n",
       "      <td>53</td>\n",
       "      <td>Washington</td>\n",
       "      <td>33</td>\n",
       "      <td>King</td>\n",
       "      <td>47.5525</td>\n",
       "      <td>-122.064722</td>\n",
       "    </tr>\n",
       "  </tbody>\n",
       "</table>\n",
       "</div>"
      ],
      "text/plain": [
       "         date  aqs_site_id  poc  daily _max 8-hour _ozone _concentration  \\\n",
       "0  05/01/2016    530330010    1                                    0.041   \n",
       "1  05/02/2016    530330010    1                                    0.046   \n",
       "2  05/03/2016    530330010    1                                    0.046   \n",
       "\n",
       "  units  daily_aqi_value  daily_obs_count  percent_complete  \\\n",
       "0   ppm               38               17             100.0   \n",
       "1   ppm               43               17             100.0   \n",
       "2   ppm               43               17             100.0   \n",
       "\n",
       "   aqs_parameter_code aqs_parameter_desc  cbsa_code  \\\n",
       "0               44201              Ozone      42660   \n",
       "1               44201              Ozone      42660   \n",
       "2               44201              Ozone      42660   \n",
       "\n",
       "                     cbsa_name  state_code       state  county_code county  \\\n",
       "0  Seattle-Tacoma-Bellevue, WA          53  Washington           33   King   \n",
       "1  Seattle-Tacoma-Bellevue, WA          53  Washington           33   King   \n",
       "2  Seattle-Tacoma-Bellevue, WA          53  Washington           33   King   \n",
       "\n",
       "   site_latitude  site_longitude  \n",
       "0        47.5525     -122.064722  \n",
       "1        47.5525     -122.064722  \n",
       "2        47.5525     -122.064722  "
      ]
     },
     "execution_count": 13,
     "metadata": {},
     "output_type": "execute_result"
    }
   ],
   "source": [
    "aqs_oz = pd.read_csv('./data/Air_Quality_Data_Seattle_Ozone.csv')\n",
    "aqs_oz.columns = aqs_oz.columns.map(lambda x: camelToSnake(x))\n",
    "aqs_oz.head(3)"
   ]
  },
  {
   "cell_type": "code",
   "execution_count": 14,
   "metadata": {},
   "outputs": [],
   "source": [
    "aqs_oz.date = pd.to_datetime(aqs_oz.date)\n",
    "aqs_oz['day_year'] = aqs_oz.date.dt.dayofyear\n",
    "aqs_oz = aqs_oz[['day_year', 'daily _max 8-hour _ozone _concentration']]\n",
    "aqs_oz.columns = ['day_year', 'o3']\n",
    "aqs_oz['o3'] = aqs_oz.o3 * 1000 * 2  # O3: 1 ppb = 2.00 μg/m3"
   ]
  },
  {
   "cell_type": "code",
   "execution_count": 15,
   "metadata": {},
   "outputs": [
    {
     "data": {
      "text/plain": [
       "(1106, 2)"
      ]
     },
     "execution_count": 15,
     "metadata": {},
     "output_type": "execute_result"
    }
   ],
   "source": [
    "aqs_oz.shape"
   ]
  },
  {
   "cell_type": "code",
   "execution_count": 16,
   "metadata": {},
   "outputs": [],
   "source": [
    "aqs_oz = aqs_oz.groupby('day_year')['o3'].mean()\n",
    "aqs_oz = aqs_oz.reset_index(level=['day_year'])"
   ]
  },
  {
   "cell_type": "markdown",
   "metadata": {},
   "source": [
    "### Particulate matter (PM<sub>2.5</sub>)"
   ]
  },
  {
   "cell_type": "code",
   "execution_count": 17,
   "metadata": {},
   "outputs": [
    {
     "data": {
      "text/html": [
       "<div>\n",
       "<style scoped>\n",
       "    .dataframe tbody tr th:only-of-type {\n",
       "        vertical-align: middle;\n",
       "    }\n",
       "\n",
       "    .dataframe tbody tr th {\n",
       "        vertical-align: top;\n",
       "    }\n",
       "\n",
       "    .dataframe thead th {\n",
       "        text-align: right;\n",
       "    }\n",
       "</style>\n",
       "<table border=\"1\" class=\"dataframe\">\n",
       "  <thead>\n",
       "    <tr style=\"text-align: right;\">\n",
       "      <th></th>\n",
       "      <th>date</th>\n",
       "      <th>aqs_site_id</th>\n",
       "      <th>poc</th>\n",
       "      <th>daily _mean pm2.5 _concentration</th>\n",
       "      <th>units</th>\n",
       "      <th>daily_aqi_value</th>\n",
       "      <th>daily_obs_count</th>\n",
       "      <th>percent_complete</th>\n",
       "      <th>aqs_parameter_code</th>\n",
       "      <th>aqs_parameter_desc</th>\n",
       "      <th>cbsa_code</th>\n",
       "      <th>cbsa_name</th>\n",
       "      <th>state_code</th>\n",
       "      <th>state</th>\n",
       "      <th>county_code</th>\n",
       "      <th>county</th>\n",
       "      <th>site_latitude</th>\n",
       "      <th>site_longitude</th>\n",
       "    </tr>\n",
       "  </thead>\n",
       "  <tbody>\n",
       "    <tr>\n",
       "      <th>0</th>\n",
       "      <td>01/01/2016</td>\n",
       "      <td>530330017</td>\n",
       "      <td>4</td>\n",
       "      <td>1.5</td>\n",
       "      <td>ug/m3 LC</td>\n",
       "      <td>6</td>\n",
       "      <td>1</td>\n",
       "      <td>100.0</td>\n",
       "      <td>88502</td>\n",
       "      <td>Acceptable PM2.5 AQI &amp; Speciation Mass</td>\n",
       "      <td>42660</td>\n",
       "      <td>Seattle-Tacoma-Bellevue, WA</td>\n",
       "      <td>53</td>\n",
       "      <td>Washington</td>\n",
       "      <td>33</td>\n",
       "      <td>King</td>\n",
       "      <td>47.49022</td>\n",
       "      <td>-121.77278</td>\n",
       "    </tr>\n",
       "    <tr>\n",
       "      <th>1</th>\n",
       "      <td>01/02/2016</td>\n",
       "      <td>530330017</td>\n",
       "      <td>4</td>\n",
       "      <td>2.3</td>\n",
       "      <td>ug/m3 LC</td>\n",
       "      <td>10</td>\n",
       "      <td>1</td>\n",
       "      <td>100.0</td>\n",
       "      <td>88502</td>\n",
       "      <td>Acceptable PM2.5 AQI &amp; Speciation Mass</td>\n",
       "      <td>42660</td>\n",
       "      <td>Seattle-Tacoma-Bellevue, WA</td>\n",
       "      <td>53</td>\n",
       "      <td>Washington</td>\n",
       "      <td>33</td>\n",
       "      <td>King</td>\n",
       "      <td>47.49022</td>\n",
       "      <td>-121.77278</td>\n",
       "    </tr>\n",
       "    <tr>\n",
       "      <th>2</th>\n",
       "      <td>01/03/2016</td>\n",
       "      <td>530330017</td>\n",
       "      <td>4</td>\n",
       "      <td>2.2</td>\n",
       "      <td>ug/m3 LC</td>\n",
       "      <td>9</td>\n",
       "      <td>1</td>\n",
       "      <td>100.0</td>\n",
       "      <td>88502</td>\n",
       "      <td>Acceptable PM2.5 AQI &amp; Speciation Mass</td>\n",
       "      <td>42660</td>\n",
       "      <td>Seattle-Tacoma-Bellevue, WA</td>\n",
       "      <td>53</td>\n",
       "      <td>Washington</td>\n",
       "      <td>33</td>\n",
       "      <td>King</td>\n",
       "      <td>47.49022</td>\n",
       "      <td>-121.77278</td>\n",
       "    </tr>\n",
       "  </tbody>\n",
       "</table>\n",
       "</div>"
      ],
      "text/plain": [
       "         date  aqs_site_id  poc  daily _mean pm2.5 _concentration     units  \\\n",
       "0  01/01/2016    530330017    4                               1.5  ug/m3 LC   \n",
       "1  01/02/2016    530330017    4                               2.3  ug/m3 LC   \n",
       "2  01/03/2016    530330017    4                               2.2  ug/m3 LC   \n",
       "\n",
       "   daily_aqi_value  daily_obs_count  percent_complete  aqs_parameter_code  \\\n",
       "0                6                1             100.0               88502   \n",
       "1               10                1             100.0               88502   \n",
       "2                9                1             100.0               88502   \n",
       "\n",
       "                       aqs_parameter_desc  cbsa_code  \\\n",
       "0  Acceptable PM2.5 AQI & Speciation Mass      42660   \n",
       "1  Acceptable PM2.5 AQI & Speciation Mass      42660   \n",
       "2  Acceptable PM2.5 AQI & Speciation Mass      42660   \n",
       "\n",
       "                     cbsa_name  state_code       state  county_code county  \\\n",
       "0  Seattle-Tacoma-Bellevue, WA          53  Washington           33   King   \n",
       "1  Seattle-Tacoma-Bellevue, WA          53  Washington           33   King   \n",
       "2  Seattle-Tacoma-Bellevue, WA          53  Washington           33   King   \n",
       "\n",
       "   site_latitude  site_longitude  \n",
       "0       47.49022      -121.77278  \n",
       "1       47.49022      -121.77278  \n",
       "2       47.49022      -121.77278  "
      ]
     },
     "execution_count": 17,
     "metadata": {},
     "output_type": "execute_result"
    }
   ],
   "source": [
    "aqs_pm = pd.read_csv('./data/Air_Quality_Data_Seattle_PM2.5.csv')\n",
    "aqs_pm.columns = aqs_pm.columns.map(lambda x: camelToSnake(x))\n",
    "aqs_pm.head(3)"
   ]
  },
  {
   "cell_type": "code",
   "execution_count": 18,
   "metadata": {},
   "outputs": [],
   "source": [
    "aqs_pm.date = pd.to_datetime(aqs_pm.date)\n",
    "aqs_pm['day_year'] = aqs_pm.date.dt.dayofyear\n",
    "aqs_pm = aqs_pm[['day_year', 'daily _mean pm2.5 _concentration']]\n",
    "aqs_pm.columns = ['day_year', 'pm2_5']"
   ]
  },
  {
   "cell_type": "code",
   "execution_count": 19,
   "metadata": {},
   "outputs": [
    {
     "data": {
      "text/plain": [
       "(6031, 2)"
      ]
     },
     "execution_count": 19,
     "metadata": {},
     "output_type": "execute_result"
    }
   ],
   "source": [
    "aqs_pm.shape"
   ]
  },
  {
   "cell_type": "code",
   "execution_count": 20,
   "metadata": {},
   "outputs": [],
   "source": [
    "aqs_pm = aqs_pm.groupby('day_year')['pm2_5'].mean()\n",
    "aqs_pm = aqs_pm.reset_index(level=['day_year'])"
   ]
  },
  {
   "cell_type": "markdown",
   "metadata": {},
   "source": [
    "### Combinación de las 4 variables"
   ]
  },
  {
   "cell_type": "code",
   "execution_count": 21,
   "metadata": {},
   "outputs": [
    {
     "data": {
      "text/plain": [
       "365"
      ]
     },
     "execution_count": 21,
     "metadata": {},
     "output_type": "execute_result"
    }
   ],
   "source": [
    "aqs_co.day_year.unique().size"
   ]
  },
  {
   "cell_type": "code",
   "execution_count": 22,
   "metadata": {},
   "outputs": [
    {
     "data": {
      "text/plain": [
       "366"
      ]
     },
     "execution_count": 22,
     "metadata": {},
     "output_type": "execute_result"
    }
   ],
   "source": [
    "aqs_no.day_year.unique().size"
   ]
  },
  {
   "cell_type": "code",
   "execution_count": 23,
   "metadata": {},
   "outputs": [
    {
     "data": {
      "text/plain": [
       "366"
      ]
     },
     "execution_count": 23,
     "metadata": {},
     "output_type": "execute_result"
    }
   ],
   "source": [
    "aqs_pm.day_year.unique().size"
   ]
  },
  {
   "cell_type": "code",
   "execution_count": 24,
   "metadata": {},
   "outputs": [
    {
     "data": {
      "text/plain": [
       "365"
      ]
     },
     "execution_count": 24,
     "metadata": {},
     "output_type": "execute_result"
    }
   ],
   "source": [
    "aqs_oz.day_year.unique().size"
   ]
  },
  {
   "cell_type": "code",
   "execution_count": 25,
   "metadata": {},
   "outputs": [],
   "source": [
    "aqs_co_no = pd.merge(aqs_no, aqs_co, on='day_year', how='left')"
   ]
  },
  {
   "cell_type": "code",
   "execution_count": 26,
   "metadata": {},
   "outputs": [],
   "source": [
    "aqs_co_no_pm = pd.merge(aqs_co_no, aqs_pm, on='day_year', how='left')"
   ]
  },
  {
   "cell_type": "code",
   "execution_count": 27,
   "metadata": {},
   "outputs": [],
   "source": [
    "aqs_co_no_pm_oz = pd.merge(aqs_co_no_pm, aqs_oz, on='day_year', how='left')"
   ]
  },
  {
   "cell_type": "code",
   "execution_count": 28,
   "metadata": {},
   "outputs": [
    {
     "data": {
      "text/html": [
       "<div>\n",
       "<style scoped>\n",
       "    .dataframe tbody tr th:only-of-type {\n",
       "        vertical-align: middle;\n",
       "    }\n",
       "\n",
       "    .dataframe tbody tr th {\n",
       "        vertical-align: top;\n",
       "    }\n",
       "\n",
       "    .dataframe thead th {\n",
       "        text-align: right;\n",
       "    }\n",
       "</style>\n",
       "<table border=\"1\" class=\"dataframe\">\n",
       "  <thead>\n",
       "    <tr style=\"text-align: right;\">\n",
       "      <th></th>\n",
       "      <th>day_year</th>\n",
       "      <th>no2</th>\n",
       "      <th>co</th>\n",
       "      <th>pm2_5</th>\n",
       "      <th>o3</th>\n",
       "    </tr>\n",
       "  </thead>\n",
       "  <tbody>\n",
       "    <tr>\n",
       "      <th>0</th>\n",
       "      <td>1</td>\n",
       "      <td>75.262667</td>\n",
       "      <td>858.75</td>\n",
       "      <td>26.685000</td>\n",
       "      <td>61.0</td>\n",
       "    </tr>\n",
       "    <tr>\n",
       "      <th>1</th>\n",
       "      <td>2</td>\n",
       "      <td>71.001333</td>\n",
       "      <td>1030.50</td>\n",
       "      <td>19.875000</td>\n",
       "      <td>83.0</td>\n",
       "    </tr>\n",
       "    <tr>\n",
       "      <th>2</th>\n",
       "      <td>3</td>\n",
       "      <td>72.568000</td>\n",
       "      <td>801.50</td>\n",
       "      <td>14.281250</td>\n",
       "      <td>62.0</td>\n",
       "    </tr>\n",
       "    <tr>\n",
       "      <th>3</th>\n",
       "      <td>4</td>\n",
       "      <td>64.860000</td>\n",
       "      <td>629.75</td>\n",
       "      <td>11.047368</td>\n",
       "      <td>49.0</td>\n",
       "    </tr>\n",
       "    <tr>\n",
       "      <th>4</th>\n",
       "      <td>5</td>\n",
       "      <td>70.938667</td>\n",
       "      <td>1030.50</td>\n",
       "      <td>14.912500</td>\n",
       "      <td>45.0</td>\n",
       "    </tr>\n",
       "  </tbody>\n",
       "</table>\n",
       "</div>"
      ],
      "text/plain": [
       "   day_year        no2       co      pm2_5    o3\n",
       "0         1  75.262667   858.75  26.685000  61.0\n",
       "1         2  71.001333  1030.50  19.875000  83.0\n",
       "2         3  72.568000   801.50  14.281250  62.0\n",
       "3         4  64.860000   629.75  11.047368  49.0\n",
       "4         5  70.938667  1030.50  14.912500  45.0"
      ]
     },
     "execution_count": 28,
     "metadata": {},
     "output_type": "execute_result"
    }
   ],
   "source": [
    "aqs_co_no_pm_oz.head()"
   ]
  },
  {
   "cell_type": "code",
   "execution_count": 29,
   "metadata": {},
   "outputs": [
    {
     "data": {
      "text/plain": [
       "(366, 5)"
      ]
     },
     "execution_count": 29,
     "metadata": {},
     "output_type": "execute_result"
    }
   ],
   "source": [
    "aqs_co_no_pm_oz.shape"
   ]
  },
  {
   "cell_type": "code",
   "execution_count": 38,
   "metadata": {},
   "outputs": [
    {
     "data": {
      "text/plain": [
       "day_year    0\n",
       "no2         0\n",
       "co          0\n",
       "pm2_5       0\n",
       "o3          0\n",
       "dtype: int64"
      ]
     },
     "execution_count": 38,
     "metadata": {},
     "output_type": "execute_result"
    }
   ],
   "source": [
    "aqs_co_no_pm_oz.isnull().sum()"
   ]
  },
  {
   "cell_type": "code",
   "execution_count": 37,
   "metadata": {},
   "outputs": [],
   "source": [
    "aqs_co_no_pm_oz.fillna(method='ffill', inplace=True)"
   ]
  },
  {
   "cell_type": "code",
   "execution_count": 39,
   "metadata": {},
   "outputs": [],
   "source": [
    "aqs_co_no_pm_oz.to_csv('./data/Air_Quality_Data_Seattle_2016.csv', index=False)"
   ]
  }
 ],
 "metadata": {
  "kernelspec": {
   "display_name": "Python 3",
   "language": "python",
   "name": "python3"
  },
  "language_info": {
   "codemirror_mode": {
    "name": "ipython",
    "version": 3
   },
   "file_extension": ".py",
   "mimetype": "text/x-python",
   "name": "python",
   "nbconvert_exporter": "python",
   "pygments_lexer": "ipython3",
   "version": "3.6.4"
  }
 },
 "nbformat": 4,
 "nbformat_minor": 2
}
