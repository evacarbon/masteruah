{
 "cells": [
  {
   "cell_type": "markdown",
   "metadata": {
    "toc": "true"
   },
   "source": [
    "# Índice\n",
    "<p>\n",
    "<div class=\"lev1 toc-item\">\n",
    "    <a href=\"#Extracción-de-transacciones-de-2016\" data-toc-modified-id=\"Extracción-de-transacciones-de-2016\">\n",
    "        <span class=\"toc-item-num\">1&nbsp;&nbsp;</span>\n",
    "        Extracción de transacciones de 2016</a></div>\n",
    "\n",
    "<div class=\"lev1 toc-item\">\n",
    "    <a href=\"#Limpieza-y-transformación-de-transacciones\" data-toc-modified-id=\"Limpieza-y-transformación-de-transacciones\">\n",
    "    <span class=\"toc-item-num\">2&nbsp;&nbsp;</span>\n",
    "    Limpieza y transformación de transacciones</a></div>\n",
    "    \n",
    "<div class=\"lev1 toc-item\">\n",
    "    <a href=\"#Extracción-de-datos-de-capacidad-de-plazas\" data-toc-modified-id=\"Extracción-de-datos-de-capacidad-de-plazas\">\n",
    "    <span class=\"toc-item-num\">3&nbsp;&nbsp;</span>\n",
    "    Extracción de datos de capacidad de plazas</a></div>\n",
    "    \n",
    "<div class=\"lev1 toc-item\">\n",
    "    <a href=\"#Extracción-de-datos-de-ubicación-geográfica\" data-toc-modified-id=\"Extracción-de-datos-de-ubicación-geográfica\">\n",
    "    <span class=\"toc-item-num\">4&nbsp;&nbsp;</span>\n",
    "    Extracción de datos de ubicación geográfica</a></div>\n",
    "    \n",
    "<div class=\"lev1 toc-item\">\n",
    "    <a href=\"#Relación-de-transacciones,-ubicaciones-y-capacidad\" data-toc-modified-id=\"Relación-de-transacciones,-ubicaciones-y-capacidad\">\n",
    "    <span class=\"toc-item-num\">5&nbsp;&nbsp;</span>\n",
    "    Relación de transacciones, ubicaciones y capacidad</a></div>\n",
    "          \n",
    "<div class=\"lev1 toc-item\">\n",
    "    <a href=\"#Construcción-de-la-serie-de-ocupación-por-timestamp\" data-toc-modified-id=\"Construcción-de-la-serie-de-ocupación-por-timestamp\">\n",
    "    <span class=\"toc-item-num\">6&nbsp;&nbsp;</span>\n",
    "    Construcción de la serie de ocupación por timestamp</a></div>\n",
    "\n",
    "<div class=\"lev1 toc-item\">\n",
    "    <a href=\"#Corrección-de-la-capacidad-de-plazas-disponibles\" data-toc-modified-id=\"Corrección-de-la-capacidad-de-plazas-disponibles\">\n",
    "    <span class=\"toc-item-num\">7&nbsp;&nbsp;</span>\n",
    "    Corrección de la capacidad de plazas disponibles</a></div>\n",
    "\n",
    "<div class=\"lev1 toc-item\">\n",
    "    <a href=\"#Completamos-la-serie-con-las-horas-intermedias-faltantes\" data-toc-modified-id=\"Completamos-la-serie-con-las-horas-intermedias-faltantes\">\n",
    "    <span class=\"toc-item-num\">8&nbsp;&nbsp;</span>\n",
    "    Completamos la serie con las horas intermedias faltantes</a></div>\n",
    "\n",
    "<div class=\"lev1 toc-item\">\n",
    "    <a href=\"#Completamos-la-serie-con-variables-adicionales\" data-toc-modified-id=\"Completamos-la-serie-con-variables-adicionales\">\n",
    "    <span class=\"toc-item-num\">9&nbsp;&nbsp;</span>\n",
    "    Completamos la serie con variables adicionales</a></div>\n",
    "    \n",
    "<div class=\"lev1 toc-item\">\n",
    "    <a href=\"#Filtramos-la-serie\" data-toc-modified-id=\"Filtramos-la-serie\">\n",
    "    <span class=\"toc-item-num\">10&nbsp;&nbsp;</span>\n",
    "    Filtramos la serie</a></div>"
   ]
  },
  {
   "cell_type": "code",
   "execution_count": 1,
   "metadata": {
    "ExecuteTime": {
     "end_time": "2018-07-03T17:34:13.558645Z",
     "start_time": "2018-07-03T17:34:12.654286Z"
    }
   },
   "outputs": [],
   "source": [
    "import numpy as np\n",
    "import pandas as pd\n",
    "import os\n",
    "import operator\n",
    "import seaborn as sns\n",
    "% matplotlib inline"
   ]
  },
  {
   "cell_type": "markdown",
   "metadata": {},
   "source": [
    "## Extracción de transacciones de 2016"
   ]
  },
  {
   "cell_type": "code",
   "execution_count": 2,
   "metadata": {},
   "outputs": [],
   "source": [
    "df = pd.read_csv('./data/ParkingTransaction_2016_cleaned.csv', parse_dates=['TransactionDateTime'])"
   ]
  },
  {
   "cell_type": "code",
   "execution_count": 3,
   "metadata": {},
   "outputs": [
    {
     "data": {
      "text/plain": [
       "count                10935395\n",
       "unique                5505469\n",
       "top       2016-04-08 12:03:59\n",
       "freq                       63\n",
       "first     2016-01-01 11:49:15\n",
       "last      2016-12-31 20:00:51\n",
       "Name: TransactionDateTime, dtype: object"
      ]
     },
     "execution_count": 3,
     "metadata": {},
     "output_type": "execute_result"
    }
   ],
   "source": [
    "df['TransactionDateTime'].describe()"
   ]
  },
  {
   "cell_type": "code",
   "execution_count": 4,
   "metadata": {},
   "outputs": [],
   "source": [
    "init_transactions = df['TransactionDateTime'].count()"
   ]
  },
  {
   "cell_type": "code",
   "execution_count": 5,
   "metadata": {},
   "outputs": [],
   "source": [
    "import re\n",
    "\n",
    "_underscorer1 = re.compile(r'(.)([A-Z][a-z]+)')\n",
    "_underscorer2 = re.compile('([a-z0-9])([A-Z])')\n",
    "\n",
    "def camelToSnake(s):\n",
    "    subbed = _underscorer1.sub(r'\\1_\\2', s)\n",
    "    return _underscorer2.sub(r'\\1_\\2', subbed).lower()"
   ]
  },
  {
   "cell_type": "code",
   "execution_count": 6,
   "metadata": {},
   "outputs": [
    {
     "name": "stdout",
     "output_type": "stream",
     "text": [
      "<class 'pandas.core.frame.DataFrame'>\n",
      "Int64Index: 10935395 entries, 8 to 10912795\n",
      "Data columns (total 12 columns):\n",
      "unnamed: 0               int64\n",
      "transaction_id           int64\n",
      "transaction_date_time    datetime64[ns]\n",
      "transaction_date         object\n",
      "time_start               object\n",
      "time_expired             object\n",
      "duration_mins            int64\n",
      "amount                   float64\n",
      "payment_mean             object\n",
      "meter_code               int64\n",
      "element_key              int64\n",
      "final_date_time          datetime64[ns]\n",
      "dtypes: datetime64[ns](2), float64(1), int64(5), object(4)\n",
      "memory usage: 3.4 GB\n"
     ]
    }
   ],
   "source": [
    "df.columns = df.columns.map(lambda x: camelToSnake(x))\n",
    "\n",
    "df.sort_values('transaction_date_time', inplace=True)\n",
    "\n",
    "# creamos nueva columna 'final_date_time'\n",
    "df['final_date_time'] = df.transaction_date_time.add(pd.to_timedelta(df.duration_mins, unit=\"m\"))\n",
    "\n",
    "df.info(memory_usage='deep')"
   ]
  },
  {
   "cell_type": "code",
   "execution_count": 15,
   "metadata": {},
   "outputs": [],
   "source": [
    "df = df.drop(columns=['unnamed: 0','transaction_date','amount','payment_mean',\n",
    "                      'meter_code','time_start','time_expired'])"
   ]
  },
  {
   "cell_type": "code",
   "execution_count": 16,
   "metadata": {},
   "outputs": [
    {
     "data": {
      "text/html": [
       "<div>\n",
       "<style scoped>\n",
       "    .dataframe tbody tr th:only-of-type {\n",
       "        vertical-align: middle;\n",
       "    }\n",
       "\n",
       "    .dataframe tbody tr th {\n",
       "        vertical-align: top;\n",
       "    }\n",
       "\n",
       "    .dataframe thead th {\n",
       "        text-align: right;\n",
       "    }\n",
       "</style>\n",
       "<table border=\"1\" class=\"dataframe\">\n",
       "  <thead>\n",
       "    <tr style=\"text-align: right;\">\n",
       "      <th></th>\n",
       "      <th>transaction_id</th>\n",
       "      <th>transaction_date_time</th>\n",
       "      <th>duration_mins</th>\n",
       "      <th>element_key</th>\n",
       "      <th>final_date_time</th>\n",
       "    </tr>\n",
       "  </thead>\n",
       "  <tbody>\n",
       "    <tr>\n",
       "      <th>8</th>\n",
       "      <td>183506786</td>\n",
       "      <td>2016-01-01 11:49:15</td>\n",
       "      <td>0</td>\n",
       "      <td>54730</td>\n",
       "      <td>2016-01-01 11:49:15</td>\n",
       "    </tr>\n",
       "    <tr>\n",
       "      <th>4</th>\n",
       "      <td>183511748</td>\n",
       "      <td>2016-01-01 12:36:04</td>\n",
       "      <td>0</td>\n",
       "      <td>88773</td>\n",
       "      <td>2016-01-01 12:36:04</td>\n",
       "    </tr>\n",
       "    <tr>\n",
       "      <th>17</th>\n",
       "      <td>183511753</td>\n",
       "      <td>2016-01-01 12:36:08</td>\n",
       "      <td>0</td>\n",
       "      <td>88773</td>\n",
       "      <td>2016-01-01 12:36:08</td>\n",
       "    </tr>\n",
       "    <tr>\n",
       "      <th>15</th>\n",
       "      <td>183529739</td>\n",
       "      <td>2016-01-01 12:40:30</td>\n",
       "      <td>0</td>\n",
       "      <td>57354</td>\n",
       "      <td>2016-01-01 12:40:30</td>\n",
       "    </tr>\n",
       "    <tr>\n",
       "      <th>12</th>\n",
       "      <td>183527118</td>\n",
       "      <td>2016-01-01 14:52:45</td>\n",
       "      <td>0</td>\n",
       "      <td>76102</td>\n",
       "      <td>2016-01-01 14:52:45</td>\n",
       "    </tr>\n",
       "  </tbody>\n",
       "</table>\n",
       "</div>"
      ],
      "text/plain": [
       "    transaction_id transaction_date_time  duration_mins  element_key  \\\n",
       "8        183506786   2016-01-01 11:49:15              0        54730   \n",
       "4        183511748   2016-01-01 12:36:04              0        88773   \n",
       "17       183511753   2016-01-01 12:36:08              0        88773   \n",
       "15       183529739   2016-01-01 12:40:30              0        57354   \n",
       "12       183527118   2016-01-01 14:52:45              0        76102   \n",
       "\n",
       "       final_date_time  \n",
       "8  2016-01-01 11:49:15  \n",
       "4  2016-01-01 12:36:04  \n",
       "17 2016-01-01 12:36:08  \n",
       "15 2016-01-01 12:40:30  \n",
       "12 2016-01-01 14:52:45  "
      ]
     },
     "execution_count": 16,
     "metadata": {},
     "output_type": "execute_result"
    }
   ],
   "source": [
    "df.head()"
   ]
  },
  {
   "cell_type": "code",
   "execution_count": 17,
   "metadata": {},
   "outputs": [
    {
     "data": {
      "text/html": [
       "<div>\n",
       "<style scoped>\n",
       "    .dataframe tbody tr th:only-of-type {\n",
       "        vertical-align: middle;\n",
       "    }\n",
       "\n",
       "    .dataframe tbody tr th {\n",
       "        vertical-align: top;\n",
       "    }\n",
       "\n",
       "    .dataframe thead th {\n",
       "        text-align: right;\n",
       "    }\n",
       "</style>\n",
       "<table border=\"1\" class=\"dataframe\">\n",
       "  <thead>\n",
       "    <tr style=\"text-align: right;\">\n",
       "      <th></th>\n",
       "      <th>transaction_id</th>\n",
       "      <th>transaction_date_time</th>\n",
       "      <th>duration_mins</th>\n",
       "      <th>element_key</th>\n",
       "      <th>final_date_time</th>\n",
       "    </tr>\n",
       "  </thead>\n",
       "  <tbody>\n",
       "    <tr>\n",
       "      <th>10909957</th>\n",
       "      <td>313159887</td>\n",
       "      <td>2016-12-31 19:58:49</td>\n",
       "      <td>2</td>\n",
       "      <td>81194</td>\n",
       "      <td>2016-12-31 20:00:49</td>\n",
       "    </tr>\n",
       "    <tr>\n",
       "      <th>10918741</th>\n",
       "      <td>313159702</td>\n",
       "      <td>2016-12-31 19:58:53</td>\n",
       "      <td>2</td>\n",
       "      <td>79570</td>\n",
       "      <td>2016-12-31 20:00:53</td>\n",
       "    </tr>\n",
       "    <tr>\n",
       "      <th>10910192</th>\n",
       "      <td>313159980</td>\n",
       "      <td>2016-12-31 19:59:24</td>\n",
       "      <td>1</td>\n",
       "      <td>1234</td>\n",
       "      <td>2016-12-31 20:00:24</td>\n",
       "    </tr>\n",
       "    <tr>\n",
       "      <th>10907062</th>\n",
       "      <td>313159989</td>\n",
       "      <td>2016-12-31 19:59:45</td>\n",
       "      <td>0</td>\n",
       "      <td>43914</td>\n",
       "      <td>2016-12-31 19:59:45</td>\n",
       "    </tr>\n",
       "    <tr>\n",
       "      <th>10912795</th>\n",
       "      <td>313160195</td>\n",
       "      <td>2016-12-31 20:00:51</td>\n",
       "      <td>0</td>\n",
       "      <td>8306</td>\n",
       "      <td>2016-12-31 20:00:51</td>\n",
       "    </tr>\n",
       "  </tbody>\n",
       "</table>\n",
       "</div>"
      ],
      "text/plain": [
       "          transaction_id transaction_date_time  duration_mins  element_key  \\\n",
       "10909957       313159887   2016-12-31 19:58:49              2        81194   \n",
       "10918741       313159702   2016-12-31 19:58:53              2        79570   \n",
       "10910192       313159980   2016-12-31 19:59:24              1         1234   \n",
       "10907062       313159989   2016-12-31 19:59:45              0        43914   \n",
       "10912795       313160195   2016-12-31 20:00:51              0         8306   \n",
       "\n",
       "             final_date_time  \n",
       "10909957 2016-12-31 20:00:49  \n",
       "10918741 2016-12-31 20:00:53  \n",
       "10910192 2016-12-31 20:00:24  \n",
       "10907062 2016-12-31 19:59:45  \n",
       "10912795 2016-12-31 20:00:51  "
      ]
     },
     "execution_count": 17,
     "metadata": {},
     "output_type": "execute_result"
    }
   ],
   "source": [
    "df.tail()"
   ]
  },
  {
   "cell_type": "markdown",
   "metadata": {},
   "source": [
    "### Limpieza y transformación de transacciones"
   ]
  },
  {
   "cell_type": "code",
   "execution_count": 18,
   "metadata": {},
   "outputs": [
    {
     "data": {
      "text/plain": [
       "0"
      ]
     },
     "execution_count": 18,
     "metadata": {},
     "output_type": "execute_result"
    }
   ],
   "source": [
    "df.transaction_id.duplicated().sum()  # no hay transacciones con id duplicado"
   ]
  },
  {
   "cell_type": "code",
   "execution_count": 19,
   "metadata": {},
   "outputs": [
    {
     "data": {
      "text/plain": [
       "transaction_id           0\n",
       "transaction_date_time    0\n",
       "duration_mins            0\n",
       "element_key              0\n",
       "final_date_time          0\n",
       "dtype: int64"
      ]
     },
     "execution_count": 19,
     "metadata": {},
     "output_type": "execute_result"
    }
   ],
   "source": [
    "df.isnull().sum()  # no hay valores nulos en el dataset"
   ]
  },
  {
   "cell_type": "markdown",
   "metadata": {},
   "source": [
    "#### Duración incorrecta"
   ]
  },
  {
   "cell_type": "code",
   "execution_count": 20,
   "metadata": {},
   "outputs": [
    {
     "data": {
      "text/plain": [
       "9086"
      ]
     },
     "execution_count": 20,
     "metadata": {},
     "output_type": "execute_result"
    }
   ],
   "source": [
    "# Observamos algunas transacciones con duración = 0\n",
    "df.duration_mins.loc[df.duration_mins == 0].count()"
   ]
  },
  {
   "cell_type": "code",
   "execution_count": 21,
   "metadata": {},
   "outputs": [
    {
     "data": {
      "text/plain": [
       "1118"
      ]
     },
     "execution_count": 21,
     "metadata": {},
     "output_type": "execute_result"
    }
   ],
   "source": [
    "# Incluso hay algunas transacciones con duración negativa\n",
    "df.duration_mins.loc[df.duration_mins < 0].count()"
   ]
  },
  {
   "cell_type": "code",
   "execution_count": 22,
   "metadata": {
    "ExecuteTime": {
     "end_time": "2018-07-03T17:34:59.469053Z",
     "start_time": "2018-07-03T17:34:59.411159Z"
    }
   },
   "outputs": [],
   "source": [
    "# Eliminamos ambos casos que suponen menos de un 0.1% del total\n",
    "df = df.loc[df.duration_mins > 0]\n",
    "df = df.drop(columns=['duration_mins'])"
   ]
  },
  {
   "cell_type": "markdown",
   "metadata": {},
   "source": [
    "#### Transacciones de larga duración"
   ]
  },
  {
   "cell_type": "code",
   "execution_count": 23,
   "metadata": {},
   "outputs": [
    {
     "name": "stdout",
     "output_type": "stream",
     "text": [
      "(13403, 4)\n"
     ]
    }
   ],
   "source": [
    "# Procesado de transacciones con distinta fecha de inicio y fin\n",
    "long_trans = df.loc[df.transaction_date_time.dt.date != df.final_date_time.dt.date]\n",
    "print(long_trans.shape)\n",
    "indexes = df.loc[df.transaction_date_time.dt.date != df.final_date_time.dt.date].index.get_values()\n",
    "df = df.drop(index=indexes, axis=1)"
   ]
  },
  {
   "cell_type": "code",
   "execution_count": 24,
   "metadata": {},
   "outputs": [],
   "source": [
    "long_trans_dup = long_trans.copy()\n",
    "long_trans_dup = long_trans_dup.loc[long_trans_dup.final_date_time.dt.hour >= 8]\n",
    "long_trans.final_date_time = long_trans.transaction_date_time.apply(\n",
    "    lambda x: x.replace(hour=20,minute=0,second=0,microsecond=0))\n",
    "long_trans_dup.transaction_date_time = long_trans_dup.final_date_time.apply(\n",
    "    lambda x: x.replace(hour=8,minute=0,second=0,microsecond=0))"
   ]
  },
  {
   "cell_type": "code",
   "execution_count": 25,
   "metadata": {},
   "outputs": [],
   "source": [
    "long_trans_full = pd.concat([long_trans,long_trans_dup], ignore_index=True, sort=True)\n",
    "df = pd.concat([df,long_trans_full], ignore_index=True, sort=True)"
   ]
  },
  {
   "cell_type": "markdown",
   "metadata": {},
   "source": [
    "#### Horario de funcionamiento de los parquímetros"
   ]
  },
  {
   "cell_type": "code",
   "execution_count": 26,
   "metadata": {},
   "outputs": [
    {
     "name": "stdout",
     "output_type": "stream",
     "text": [
      "55413\n"
     ]
    }
   ],
   "source": [
    "# Eliminamos las transacciones con inicio y fin antes de las 08:00\n",
    "indexes = df.loc[(df.transaction_date_time.dt.hour < 8) & (df.final_date_time.dt.hour < 8)].index.get_values()\n",
    "print(indexes.size)\n",
    "df = df.drop(index=indexes, axis=1)"
   ]
  },
  {
   "cell_type": "code",
   "execution_count": 27,
   "metadata": {},
   "outputs": [
    {
     "name": "stdout",
     "output_type": "stream",
     "text": [
      "17107\n"
     ]
    }
   ],
   "source": [
    "# Eliminamos las transacciones con inicio y fin después de las 20:00\n",
    "indexes = df.loc[(df.transaction_date_time.dt.hour >= 20) & (df.final_date_time.dt.hour >= 20)].index.get_values()\n",
    "print(indexes.size)\n",
    "df = df.drop(index=indexes, axis=1)"
   ]
  },
  {
   "cell_type": "code",
   "execution_count": 28,
   "metadata": {},
   "outputs": [],
   "source": [
    "# Redondeamos la hora (sin minutos o segundos) y fijamos a 08:00 la hora mínima de comienzo\n",
    "df.transaction_date_time = np.where(df.transaction_date_time.dt.hour < 8, \n",
    "                                    df.transaction_date_time.apply(lambda x: x.replace(hour=8,minute=0,second=0,microsecond=0)), \n",
    "                                    df.transaction_date_time.apply(lambda x: x.replace(minute=0,second=0,microsecond=0)))"
   ]
  },
  {
   "cell_type": "code",
   "execution_count": 29,
   "metadata": {},
   "outputs": [],
   "source": [
    "# Redondeamos la hora final (sin minutos o segundos) y fijamos a 20:00 la hora máxima final\n",
    "df.final_date_time = np.where(df.final_date_time.dt.hour > 20,\n",
    "                              df.final_date_time.apply(lambda x: x.replace(hour=20,minute=0,second=0,microsecond=0)), \n",
    "                              df.final_date_time.apply(lambda x: x.replace(minute=0,second=0,microsecond=0)))"
   ]
  },
  {
   "cell_type": "code",
   "execution_count": 30,
   "metadata": {},
   "outputs": [
    {
     "data": {
      "text/plain": [
       "0"
      ]
     },
     "execution_count": 30,
     "metadata": {},
     "output_type": "execute_result"
    }
   ],
   "source": [
    "# Comprobamos que no hay transacciones fuera del rango horario de uso de los parquímetros (de 8 a 20h)\n",
    "df.element_key.loc[((df.transaction_date_time.dt.hour > 20) | (df.transaction_date_time.dt.hour < 8)) | \n",
    "       ((df.final_date_time.dt.hour > 20) | (df.final_date_time.dt.hour < 8))].count()"
   ]
  },
  {
   "cell_type": "markdown",
   "metadata": {},
   "source": [
    "#### Domingos"
   ]
  },
  {
   "cell_type": "code",
   "execution_count": 35,
   "metadata": {},
   "outputs": [
    {
     "data": {
      "text/plain": [
       "0"
      ]
     },
     "execution_count": 35,
     "metadata": {},
     "output_type": "execute_result"
    }
   ],
   "source": [
    "# Observamos algunas transacciones realizadas por error en domingo\n",
    "df.transaction_date_time.loc[df.transaction_date_time.dt.weekday == 6].count()"
   ]
  },
  {
   "cell_type": "code",
   "execution_count": 36,
   "metadata": {},
   "outputs": [],
   "source": [
    "# Las eliminamos también\n",
    "df = df.loc[df.transaction_date_time.dt.weekday != 6]"
   ]
  },
  {
   "cell_type": "code",
   "execution_count": 37,
   "metadata": {},
   "outputs": [
    {
     "data": {
      "text/plain": [
       "(10855107, 4)"
      ]
     },
     "execution_count": 37,
     "metadata": {},
     "output_type": "execute_result"
    }
   ],
   "source": [
    "df.shape  "
   ]
  },
  {
   "cell_type": "code",
   "execution_count": 38,
   "metadata": {},
   "outputs": [
    {
     "data": {
      "text/plain": [
       "0.7586648676156645"
      ]
     },
     "execution_count": 38,
     "metadata": {},
     "output_type": "execute_result"
    }
   ],
   "source": [
    "# Con la limpieza hemos reducido el tamaño del dataset inicial en un 0.75%\n",
    "(init_transactions-(df.shape[0]-long_trans_dup.shape[0]))/init_transactions*100"
   ]
  },
  {
   "cell_type": "code",
   "execution_count": 29,
   "metadata": {},
   "outputs": [],
   "source": [
    "df.to_csv('./data/ParkingTransaction_2016_cleaned_ourETL.csv', index=False)"
   ]
  },
  {
   "cell_type": "markdown",
   "metadata": {},
   "source": [
    "## Extracción de datos de capacidad de plazas"
   ]
  },
  {
   "cell_type": "code",
   "execution_count": 39,
   "metadata": {},
   "outputs": [],
   "source": [
    "blocks = pd.read_csv('./data/Blockface_cleaned.csv')"
   ]
  },
  {
   "cell_type": "code",
   "execution_count": 40,
   "metadata": {},
   "outputs": [
    {
     "data": {
      "text/plain": [
       "(13706, 39)"
      ]
     },
     "execution_count": 40,
     "metadata": {},
     "output_type": "execute_result"
    }
   ],
   "source": [
    "blocks.shape"
   ]
  },
  {
   "cell_type": "code",
   "execution_count": 41,
   "metadata": {},
   "outputs": [],
   "source": [
    "blocks.columns = blocks.columns.map(lambda x: camelToSnake(x))"
   ]
  },
  {
   "cell_type": "code",
   "execution_count": 42,
   "metadata": {},
   "outputs": [
    {
     "data": {
      "text/html": [
       "<div>\n",
       "<style scoped>\n",
       "    .dataframe tbody tr th:only-of-type {\n",
       "        vertical-align: middle;\n",
       "    }\n",
       "\n",
       "    .dataframe tbody tr th {\n",
       "        vertical-align: top;\n",
       "    }\n",
       "\n",
       "    .dataframe thead th {\n",
       "        text-align: right;\n",
       "    }\n",
       "</style>\n",
       "<table border=\"1\" class=\"dataframe\">\n",
       "  <thead>\n",
       "    <tr style=\"text-align: right;\">\n",
       "      <th></th>\n",
       "      <th>pay_station_blockface_id</th>\n",
       "      <th>element_key</th>\n",
       "      <th>parking_spaces</th>\n",
       "      <th>paid_parking_area</th>\n",
       "      <th>parking_time_limit_category</th>\n",
       "      <th>peak_hour_start1</th>\n",
       "      <th>peak_hour_end1</th>\n",
       "      <th>peak_hour_start2</th>\n",
       "      <th>peak_hour_end2</th>\n",
       "      <th>paid_area_start_time</th>\n",
       "      <th>...</th>\n",
       "      <th>saturday_start1</th>\n",
       "      <th>saturday_end1</th>\n",
       "      <th>saturday_rate2</th>\n",
       "      <th>saturday_start2</th>\n",
       "      <th>saturday_end2</th>\n",
       "      <th>saturday_rate3</th>\n",
       "      <th>saturday_start3</th>\n",
       "      <th>saturday_end3</th>\n",
       "      <th>start_time_saturday</th>\n",
       "      <th>end_time_saturday</th>\n",
       "    </tr>\n",
       "  </thead>\n",
       "  <tbody>\n",
       "    <tr>\n",
       "      <th>469</th>\n",
       "      <td>7576</td>\n",
       "      <td>1001</td>\n",
       "      <td>5.0</td>\n",
       "      <td>Pioneer Square</td>\n",
       "      <td>120.0</td>\n",
       "      <td>06:00:00</td>\n",
       "      <td>09:00:00</td>\n",
       "      <td>15:00:00</td>\n",
       "      <td>18:00:00</td>\n",
       "      <td>08:00:00</td>\n",
       "      <td>...</td>\n",
       "      <td>08:00:00</td>\n",
       "      <td>11:00:00</td>\n",
       "      <td>4.0</td>\n",
       "      <td>11:00:00</td>\n",
       "      <td>18:00:00</td>\n",
       "      <td>NaN</td>\n",
       "      <td>NaN</td>\n",
       "      <td>NaN</td>\n",
       "      <td>08:00:00</td>\n",
       "      <td>18:00:00</td>\n",
       "    </tr>\n",
       "    <tr>\n",
       "      <th>2783</th>\n",
       "      <td>10071</td>\n",
       "      <td>1001</td>\n",
       "      <td>5.0</td>\n",
       "      <td>Pioneer Square</td>\n",
       "      <td>120.0</td>\n",
       "      <td>06:00:00</td>\n",
       "      <td>09:00:00</td>\n",
       "      <td>15:00:00</td>\n",
       "      <td>18:00:00</td>\n",
       "      <td>08:00:00</td>\n",
       "      <td>...</td>\n",
       "      <td>08:00:00</td>\n",
       "      <td>11:00:00</td>\n",
       "      <td>4.5</td>\n",
       "      <td>11:00:00</td>\n",
       "      <td>18:00:00</td>\n",
       "      <td>NaN</td>\n",
       "      <td>NaN</td>\n",
       "      <td>NaN</td>\n",
       "      <td>08:00:00</td>\n",
       "      <td>18:00:00</td>\n",
       "    </tr>\n",
       "    <tr>\n",
       "      <th>3017</th>\n",
       "      <td>10262</td>\n",
       "      <td>1001</td>\n",
       "      <td>4.0</td>\n",
       "      <td>Pioneer Square</td>\n",
       "      <td>120.0</td>\n",
       "      <td>06:00:00</td>\n",
       "      <td>09:00:00</td>\n",
       "      <td>15:00:00</td>\n",
       "      <td>18:00:00</td>\n",
       "      <td>08:00:00</td>\n",
       "      <td>...</td>\n",
       "      <td>08:00:00</td>\n",
       "      <td>11:00:00</td>\n",
       "      <td>4.5</td>\n",
       "      <td>11:00:00</td>\n",
       "      <td>18:00:00</td>\n",
       "      <td>NaN</td>\n",
       "      <td>NaN</td>\n",
       "      <td>NaN</td>\n",
       "      <td>08:00:00</td>\n",
       "      <td>18:00:00</td>\n",
       "    </tr>\n",
       "    <tr>\n",
       "      <th>4648</th>\n",
       "      <td>11976</td>\n",
       "      <td>1001</td>\n",
       "      <td>4.0</td>\n",
       "      <td>NaN</td>\n",
       "      <td>120.0</td>\n",
       "      <td>06:00:00</td>\n",
       "      <td>09:00:00</td>\n",
       "      <td>15:00:00</td>\n",
       "      <td>18:00:00</td>\n",
       "      <td>NaN</td>\n",
       "      <td>...</td>\n",
       "      <td>00:00:00</td>\n",
       "      <td>00:00:00</td>\n",
       "      <td>0.0</td>\n",
       "      <td>00:00:00</td>\n",
       "      <td>00:00:00</td>\n",
       "      <td>0.0</td>\n",
       "      <td>00:00:00</td>\n",
       "      <td>00:00:00</td>\n",
       "      <td>NaN</td>\n",
       "      <td>NaN</td>\n",
       "    </tr>\n",
       "    <tr>\n",
       "      <th>5989</th>\n",
       "      <td>13670</td>\n",
       "      <td>1001</td>\n",
       "      <td>4.0</td>\n",
       "      <td>Pioneer Square</td>\n",
       "      <td>120.0</td>\n",
       "      <td>06:00:00</td>\n",
       "      <td>09:00:00</td>\n",
       "      <td>15:00:00</td>\n",
       "      <td>18:00:00</td>\n",
       "      <td>08:00:00</td>\n",
       "      <td>...</td>\n",
       "      <td>08:00:00</td>\n",
       "      <td>11:00:00</td>\n",
       "      <td>4.5</td>\n",
       "      <td>11:00:00</td>\n",
       "      <td>18:00:00</td>\n",
       "      <td>NaN</td>\n",
       "      <td>NaN</td>\n",
       "      <td>NaN</td>\n",
       "      <td>08:00:00</td>\n",
       "      <td>18:00:00</td>\n",
       "    </tr>\n",
       "    <tr>\n",
       "      <th>6301</th>\n",
       "      <td>14348</td>\n",
       "      <td>1001</td>\n",
       "      <td>5.0</td>\n",
       "      <td>Pioneer Square</td>\n",
       "      <td>120.0</td>\n",
       "      <td>06:00:00</td>\n",
       "      <td>09:00:00</td>\n",
       "      <td>15:00:00</td>\n",
       "      <td>18:00:00</td>\n",
       "      <td>08:00:00</td>\n",
       "      <td>...</td>\n",
       "      <td>08:00:00</td>\n",
       "      <td>11:00:00</td>\n",
       "      <td>5.0</td>\n",
       "      <td>11:00:00</td>\n",
       "      <td>18:00:00</td>\n",
       "      <td>NaN</td>\n",
       "      <td>NaN</td>\n",
       "      <td>NaN</td>\n",
       "      <td>08:00:00</td>\n",
       "      <td>18:00:00</td>\n",
       "    </tr>\n",
       "    <tr>\n",
       "      <th>7077</th>\n",
       "      <td>13939</td>\n",
       "      <td>1001</td>\n",
       "      <td>5.0</td>\n",
       "      <td>Pioneer Square</td>\n",
       "      <td>120.0</td>\n",
       "      <td>06:00:00</td>\n",
       "      <td>09:00:00</td>\n",
       "      <td>15:00:00</td>\n",
       "      <td>18:00:00</td>\n",
       "      <td>08:00:00</td>\n",
       "      <td>...</td>\n",
       "      <td>08:00:00</td>\n",
       "      <td>11:00:00</td>\n",
       "      <td>4.5</td>\n",
       "      <td>11:00:00</td>\n",
       "      <td>18:00:00</td>\n",
       "      <td>NaN</td>\n",
       "      <td>NaN</td>\n",
       "      <td>NaN</td>\n",
       "      <td>08:00:00</td>\n",
       "      <td>18:00:00</td>\n",
       "    </tr>\n",
       "    <tr>\n",
       "      <th>8059</th>\n",
       "      <td>3405</td>\n",
       "      <td>1001</td>\n",
       "      <td>5.0</td>\n",
       "      <td>Pioneer Square</td>\n",
       "      <td>120.0</td>\n",
       "      <td>06:00:00</td>\n",
       "      <td>09:00:00</td>\n",
       "      <td>15:00:00</td>\n",
       "      <td>18:00:00</td>\n",
       "      <td>08:00:00</td>\n",
       "      <td>...</td>\n",
       "      <td>NaN</td>\n",
       "      <td>NaN</td>\n",
       "      <td>NaN</td>\n",
       "      <td>NaN</td>\n",
       "      <td>NaN</td>\n",
       "      <td>NaN</td>\n",
       "      <td>NaN</td>\n",
       "      <td>NaN</td>\n",
       "      <td>NaN</td>\n",
       "      <td>NaN</td>\n",
       "    </tr>\n",
       "    <tr>\n",
       "      <th>10576</th>\n",
       "      <td>1352</td>\n",
       "      <td>1001</td>\n",
       "      <td>7.0</td>\n",
       "      <td>Pioneer Square</td>\n",
       "      <td>120.0</td>\n",
       "      <td>06:00:00</td>\n",
       "      <td>09:00:00</td>\n",
       "      <td>15:00:00</td>\n",
       "      <td>18:00:00</td>\n",
       "      <td>08:00:00</td>\n",
       "      <td>...</td>\n",
       "      <td>NaN</td>\n",
       "      <td>NaN</td>\n",
       "      <td>NaN</td>\n",
       "      <td>NaN</td>\n",
       "      <td>NaN</td>\n",
       "      <td>NaN</td>\n",
       "      <td>NaN</td>\n",
       "      <td>NaN</td>\n",
       "      <td>NaN</td>\n",
       "      <td>NaN</td>\n",
       "    </tr>\n",
       "    <tr>\n",
       "      <th>11332</th>\n",
       "      <td>6046</td>\n",
       "      <td>1001</td>\n",
       "      <td>5.0</td>\n",
       "      <td>Pioneer Square</td>\n",
       "      <td>120.0</td>\n",
       "      <td>06:00:00</td>\n",
       "      <td>09:00:00</td>\n",
       "      <td>15:00:00</td>\n",
       "      <td>18:00:00</td>\n",
       "      <td>08:00:00</td>\n",
       "      <td>...</td>\n",
       "      <td>08:00:00</td>\n",
       "      <td>11:00:00</td>\n",
       "      <td>3.5</td>\n",
       "      <td>11:00:00</td>\n",
       "      <td>18:00:00</td>\n",
       "      <td>NaN</td>\n",
       "      <td>NaN</td>\n",
       "      <td>NaN</td>\n",
       "      <td>08:00:00</td>\n",
       "      <td>18:00:00</td>\n",
       "    </tr>\n",
       "    <tr>\n",
       "      <th>11812</th>\n",
       "      <td>7333</td>\n",
       "      <td>1001</td>\n",
       "      <td>5.0</td>\n",
       "      <td>NaN</td>\n",
       "      <td>120.0</td>\n",
       "      <td>06:00:00</td>\n",
       "      <td>09:00:00</td>\n",
       "      <td>15:00:00</td>\n",
       "      <td>18:00:00</td>\n",
       "      <td>NaN</td>\n",
       "      <td>...</td>\n",
       "      <td>00:00:00</td>\n",
       "      <td>00:00:00</td>\n",
       "      <td>0.0</td>\n",
       "      <td>00:00:00</td>\n",
       "      <td>00:00:00</td>\n",
       "      <td>0.0</td>\n",
       "      <td>00:00:00</td>\n",
       "      <td>00:00:00</td>\n",
       "      <td>NaN</td>\n",
       "      <td>NaN</td>\n",
       "    </tr>\n",
       "    <tr>\n",
       "      <th>12193</th>\n",
       "      <td>7440</td>\n",
       "      <td>1001</td>\n",
       "      <td>5.0</td>\n",
       "      <td>Pioneer Square</td>\n",
       "      <td>120.0</td>\n",
       "      <td>06:00:00</td>\n",
       "      <td>09:00:00</td>\n",
       "      <td>15:00:00</td>\n",
       "      <td>18:00:00</td>\n",
       "      <td>08:00:00</td>\n",
       "      <td>...</td>\n",
       "      <td>08:00:00</td>\n",
       "      <td>11:00:00</td>\n",
       "      <td>3.5</td>\n",
       "      <td>11:00:00</td>\n",
       "      <td>18:00:00</td>\n",
       "      <td>NaN</td>\n",
       "      <td>NaN</td>\n",
       "      <td>NaN</td>\n",
       "      <td>08:00:00</td>\n",
       "      <td>18:00:00</td>\n",
       "    </tr>\n",
       "  </tbody>\n",
       "</table>\n",
       "<p>12 rows × 39 columns</p>\n",
       "</div>"
      ],
      "text/plain": [
       "       pay_station_blockface_id  element_key  parking_spaces  \\\n",
       "469                        7576         1001             5.0   \n",
       "2783                      10071         1001             5.0   \n",
       "3017                      10262         1001             4.0   \n",
       "4648                      11976         1001             4.0   \n",
       "5989                      13670         1001             4.0   \n",
       "6301                      14348         1001             5.0   \n",
       "7077                      13939         1001             5.0   \n",
       "8059                       3405         1001             5.0   \n",
       "10576                      1352         1001             7.0   \n",
       "11332                      6046         1001             5.0   \n",
       "11812                      7333         1001             5.0   \n",
       "12193                      7440         1001             5.0   \n",
       "\n",
       "      paid_parking_area  parking_time_limit_category peak_hour_start1  \\\n",
       "469      Pioneer Square                        120.0         06:00:00   \n",
       "2783     Pioneer Square                        120.0         06:00:00   \n",
       "3017     Pioneer Square                        120.0         06:00:00   \n",
       "4648                NaN                        120.0         06:00:00   \n",
       "5989     Pioneer Square                        120.0         06:00:00   \n",
       "6301     Pioneer Square                        120.0         06:00:00   \n",
       "7077     Pioneer Square                        120.0         06:00:00   \n",
       "8059     Pioneer Square                        120.0         06:00:00   \n",
       "10576    Pioneer Square                        120.0         06:00:00   \n",
       "11332    Pioneer Square                        120.0         06:00:00   \n",
       "11812               NaN                        120.0         06:00:00   \n",
       "12193    Pioneer Square                        120.0         06:00:00   \n",
       "\n",
       "      peak_hour_end1 peak_hour_start2 peak_hour_end2 paid_area_start_time  \\\n",
       "469         09:00:00         15:00:00       18:00:00             08:00:00   \n",
       "2783        09:00:00         15:00:00       18:00:00             08:00:00   \n",
       "3017        09:00:00         15:00:00       18:00:00             08:00:00   \n",
       "4648        09:00:00         15:00:00       18:00:00                  NaN   \n",
       "5989        09:00:00         15:00:00       18:00:00             08:00:00   \n",
       "6301        09:00:00         15:00:00       18:00:00             08:00:00   \n",
       "7077        09:00:00         15:00:00       18:00:00             08:00:00   \n",
       "8059        09:00:00         15:00:00       18:00:00             08:00:00   \n",
       "10576       09:00:00         15:00:00       18:00:00             08:00:00   \n",
       "11332       09:00:00         15:00:00       18:00:00             08:00:00   \n",
       "11812       09:00:00         15:00:00       18:00:00                  NaN   \n",
       "12193       09:00:00         15:00:00       18:00:00             08:00:00   \n",
       "\n",
       "             ...        saturday_start1 saturday_end1 saturday_rate2  \\\n",
       "469          ...               08:00:00      11:00:00            4.0   \n",
       "2783         ...               08:00:00      11:00:00            4.5   \n",
       "3017         ...               08:00:00      11:00:00            4.5   \n",
       "4648         ...               00:00:00      00:00:00            0.0   \n",
       "5989         ...               08:00:00      11:00:00            4.5   \n",
       "6301         ...               08:00:00      11:00:00            5.0   \n",
       "7077         ...               08:00:00      11:00:00            4.5   \n",
       "8059         ...                    NaN           NaN            NaN   \n",
       "10576        ...                    NaN           NaN            NaN   \n",
       "11332        ...               08:00:00      11:00:00            3.5   \n",
       "11812        ...               00:00:00      00:00:00            0.0   \n",
       "12193        ...               08:00:00      11:00:00            3.5   \n",
       "\n",
       "       saturday_start2 saturday_end2  saturday_rate3  saturday_start3  \\\n",
       "469           11:00:00      18:00:00             NaN              NaN   \n",
       "2783          11:00:00      18:00:00             NaN              NaN   \n",
       "3017          11:00:00      18:00:00             NaN              NaN   \n",
       "4648          00:00:00      00:00:00             0.0         00:00:00   \n",
       "5989          11:00:00      18:00:00             NaN              NaN   \n",
       "6301          11:00:00      18:00:00             NaN              NaN   \n",
       "7077          11:00:00      18:00:00             NaN              NaN   \n",
       "8059               NaN           NaN             NaN              NaN   \n",
       "10576              NaN           NaN             NaN              NaN   \n",
       "11332         11:00:00      18:00:00             NaN              NaN   \n",
       "11812         00:00:00      00:00:00             0.0         00:00:00   \n",
       "12193         11:00:00      18:00:00             NaN              NaN   \n",
       "\n",
       "       saturday_end3 start_time_saturday end_time_saturday  \n",
       "469              NaN            08:00:00          18:00:00  \n",
       "2783             NaN            08:00:00          18:00:00  \n",
       "3017             NaN            08:00:00          18:00:00  \n",
       "4648        00:00:00                 NaN               NaN  \n",
       "5989             NaN            08:00:00          18:00:00  \n",
       "6301             NaN            08:00:00          18:00:00  \n",
       "7077             NaN            08:00:00          18:00:00  \n",
       "8059             NaN                 NaN               NaN  \n",
       "10576            NaN                 NaN               NaN  \n",
       "11332            NaN            08:00:00          18:00:00  \n",
       "11812       00:00:00                 NaN               NaN  \n",
       "12193            NaN            08:00:00          18:00:00  \n",
       "\n",
       "[12 rows x 39 columns]"
      ]
     },
     "execution_count": 42,
     "metadata": {},
     "output_type": "execute_result"
    }
   ],
   "source": [
    "blocks.loc[blocks.element_key == 1001]"
   ]
  },
  {
   "cell_type": "code",
   "execution_count": 43,
   "metadata": {},
   "outputs": [
    {
     "data": {
      "text/plain": [
       "pay_station_blockface_id           0\n",
       "element_key                        0\n",
       "parking_spaces                    14\n",
       "paid_parking_area               1831\n",
       "parking_time_limit_category     1330\n",
       "peak_hour_start1               12368\n",
       "peak_hour_end1                 12368\n",
       "peak_hour_start2               13209\n",
       "peak_hour_end2                 13209\n",
       "paid_area_start_time            1831\n",
       "paid_area_end_time              1831\n",
       "effective_start_date               0\n",
       "effective_end_date              1707\n",
       "paid_parking_rate               9057\n",
       "parking_category                   0\n",
       "load                               0\n",
       "zone                               0\n",
       "weekday_rate1                   4677\n",
       "weekday_start1                  4677\n",
       "weekday_end1                    4677\n",
       "weekday_rate2                   4677\n",
       "weekday_start2                  4677\n",
       "weekday_end2                    4677\n",
       "weekday_rate3                   7532\n",
       "weekday_start3                  7532\n",
       "weekday_end3                    7532\n",
       "start_time_weekday              6480\n",
       "end_time_weekday                6480\n",
       "saturday_rate1                  4719\n",
       "saturday_start1                 4719\n",
       "saturday_end1                   4719\n",
       "saturday_rate2                  4719\n",
       "saturday_start2                 4719\n",
       "saturday_end2                   4719\n",
       "saturday_rate3                  7532\n",
       "saturday_start3                 7532\n",
       "saturday_end3                   7532\n",
       "start_time_saturday             6522\n",
       "end_time_saturday               6522\n",
       "dtype: int64"
      ]
     },
     "execution_count": 43,
     "metadata": {},
     "output_type": "execute_result"
    }
   ],
   "source": [
    "blocks.isnull().sum()"
   ]
  },
  {
   "cell_type": "markdown",
   "metadata": {},
   "source": [
    "Dado que hay algunos casos como el anterior donde hay divergencia en la información de plazas asociadas a un mismo element_key, calculamos la media redondeada a un valor entero de los distintos valores existentes."
   ]
  },
  {
   "cell_type": "code",
   "execution_count": 44,
   "metadata": {},
   "outputs": [],
   "source": [
    "park_spaces = blocks[['element_key','parking_spaces','paid_parking_area']]\n",
    "park_spaces = park_spaces.dropna()\n",
    "park_spaces = park_spaces.groupby(['element_key','paid_parking_area'])['parking_spaces'].max()"
   ]
  },
  {
   "cell_type": "code",
   "execution_count": 45,
   "metadata": {},
   "outputs": [],
   "source": [
    "park_spaces = park_spaces.reset_index()"
   ]
  },
  {
   "cell_type": "code",
   "execution_count": 46,
   "metadata": {},
   "outputs": [
    {
     "data": {
      "text/html": [
       "<div>\n",
       "<style scoped>\n",
       "    .dataframe tbody tr th:only-of-type {\n",
       "        vertical-align: middle;\n",
       "    }\n",
       "\n",
       "    .dataframe tbody tr th {\n",
       "        vertical-align: top;\n",
       "    }\n",
       "\n",
       "    .dataframe thead th {\n",
       "        text-align: right;\n",
       "    }\n",
       "</style>\n",
       "<table border=\"1\" class=\"dataframe\">\n",
       "  <thead>\n",
       "    <tr style=\"text-align: right;\">\n",
       "      <th></th>\n",
       "      <th>element_key</th>\n",
       "      <th>paid_parking_area</th>\n",
       "      <th>parking_spaces</th>\n",
       "    </tr>\n",
       "  </thead>\n",
       "  <tbody>\n",
       "    <tr>\n",
       "      <th>0</th>\n",
       "      <td>1001</td>\n",
       "      <td>Pioneer Square</td>\n",
       "      <td>7.0</td>\n",
       "    </tr>\n",
       "    <tr>\n",
       "      <th>1</th>\n",
       "      <td>1002</td>\n",
       "      <td>Pioneer Square</td>\n",
       "      <td>9.0</td>\n",
       "    </tr>\n",
       "    <tr>\n",
       "      <th>2</th>\n",
       "      <td>1005</td>\n",
       "      <td>Commercial Core</td>\n",
       "      <td>8.0</td>\n",
       "    </tr>\n",
       "    <tr>\n",
       "      <th>3</th>\n",
       "      <td>1006</td>\n",
       "      <td>Commercial Core</td>\n",
       "      <td>6.0</td>\n",
       "    </tr>\n",
       "    <tr>\n",
       "      <th>4</th>\n",
       "      <td>1009</td>\n",
       "      <td>Commercial Core</td>\n",
       "      <td>5.0</td>\n",
       "    </tr>\n",
       "  </tbody>\n",
       "</table>\n",
       "</div>"
      ],
      "text/plain": [
       "   element_key paid_parking_area  parking_spaces\n",
       "0         1001    Pioneer Square             7.0\n",
       "1         1002    Pioneer Square             9.0\n",
       "2         1005   Commercial Core             8.0\n",
       "3         1006   Commercial Core             6.0\n",
       "4         1009   Commercial Core             5.0"
      ]
     },
     "execution_count": 46,
     "metadata": {},
     "output_type": "execute_result"
    }
   ],
   "source": [
    "park_spaces.head()"
   ]
  },
  {
   "cell_type": "code",
   "execution_count": 47,
   "metadata": {},
   "outputs": [
    {
     "data": {
      "text/plain": [
       "0"
      ]
     },
     "execution_count": 47,
     "metadata": {},
     "output_type": "execute_result"
    }
   ],
   "source": [
    "park_spaces[['element_key','paid_parking_area']].duplicated().sum()"
   ]
  },
  {
   "cell_type": "code",
   "execution_count": 48,
   "metadata": {},
   "outputs": [
    {
     "data": {
      "text/plain": [
       "(1709, 3)"
      ]
     },
     "execution_count": 48,
     "metadata": {},
     "output_type": "execute_result"
    }
   ],
   "source": [
    "park_spaces.shape"
   ]
  },
  {
   "cell_type": "code",
   "execution_count": 49,
   "metadata": {},
   "outputs": [
    {
     "data": {
      "text/html": [
       "<div>\n",
       "<style scoped>\n",
       "    .dataframe tbody tr th:only-of-type {\n",
       "        vertical-align: middle;\n",
       "    }\n",
       "\n",
       "    .dataframe tbody tr th {\n",
       "        vertical-align: top;\n",
       "    }\n",
       "\n",
       "    .dataframe thead th {\n",
       "        text-align: right;\n",
       "    }\n",
       "</style>\n",
       "<table border=\"1\" class=\"dataframe\">\n",
       "  <thead>\n",
       "    <tr style=\"text-align: right;\">\n",
       "      <th></th>\n",
       "      <th>element_key</th>\n",
       "      <th>paid_parking_area</th>\n",
       "      <th>parking_spaces</th>\n",
       "    </tr>\n",
       "  </thead>\n",
       "  <tbody>\n",
       "    <tr>\n",
       "      <th>194</th>\n",
       "      <td>9762</td>\n",
       "      <td>Commercial Core</td>\n",
       "      <td>4.0</td>\n",
       "    </tr>\n",
       "    <tr>\n",
       "      <th>195</th>\n",
       "      <td>9762</td>\n",
       "      <td>Pioneer Square</td>\n",
       "      <td>4.0</td>\n",
       "    </tr>\n",
       "    <tr>\n",
       "      <th>1439</th>\n",
       "      <td>78114</td>\n",
       "      <td>Belltown</td>\n",
       "      <td>15.0</td>\n",
       "    </tr>\n",
       "    <tr>\n",
       "      <th>1440</th>\n",
       "      <td>78114</td>\n",
       "      <td>Commercial Core</td>\n",
       "      <td>17.0</td>\n",
       "    </tr>\n",
       "  </tbody>\n",
       "</table>\n",
       "</div>"
      ],
      "text/plain": [
       "      element_key paid_parking_area  parking_spaces\n",
       "194          9762   Commercial Core             4.0\n",
       "195          9762    Pioneer Square             4.0\n",
       "1439        78114          Belltown            15.0\n",
       "1440        78114   Commercial Core            17.0"
      ]
     },
     "execution_count": 49,
     "metadata": {},
     "output_type": "execute_result"
    }
   ],
   "source": [
    "park_spaces[park_spaces.element_key.duplicated(keep=False)]\n",
    "# Encontramos dos element key con información ambigua del distrito asociado\n",
    "# Los analizaremos en el siguiente apartado ubicándolos en un mapa"
   ]
  },
  {
   "cell_type": "code",
   "execution_count": 50,
   "metadata": {},
   "outputs": [
    {
     "data": {
      "text/plain": [
       "count               1709.0\n",
       "mean     8.537741369221767\n",
       "std      5.441127087493119\n",
       "min                    0.0\n",
       "25%                    5.0\n",
       "50%                    8.0\n",
       "75%                   10.0\n",
       "max                   63.0\n",
       "Name: parking_spaces, dtype: object"
      ]
     },
     "execution_count": 50,
     "metadata": {},
     "output_type": "execute_result"
    }
   ],
   "source": [
    "park_spaces.parking_spaces.describe().astype(str)"
   ]
  },
  {
   "cell_type": "code",
   "execution_count": 51,
   "metadata": {},
   "outputs": [
    {
     "data": {
      "text/plain": [
       "1161    63.0\n",
       "1685    50.0\n",
       "754     48.0\n",
       "1683    47.0\n",
       "753     45.0\n",
       "1673    40.0\n",
       "536     39.0\n",
       "919     36.0\n",
       "1682    36.0\n",
       "1365    34.0\n",
       "Name: parking_spaces, dtype: float64"
      ]
     },
     "execution_count": 51,
     "metadata": {},
     "output_type": "execute_result"
    }
   ],
   "source": [
    "park_spaces.parking_spaces.sort_values(ascending=False).head(10)  \n",
    "# el valor de 63 podría ser outlier\n",
    "# comprobamos que no influye en el análisis porque ese EK no está en el fichero de coordenadas"
   ]
  },
  {
   "cell_type": "code",
   "execution_count": 52,
   "metadata": {},
   "outputs": [
    {
     "data": {
      "text/plain": [
       "6"
      ]
     },
     "execution_count": 52,
     "metadata": {},
     "output_type": "execute_result"
    }
   ],
   "source": [
    "park_spaces.element_key.loc[park_spaces.parking_spaces == 0].count()"
   ]
  },
  {
   "cell_type": "code",
   "execution_count": 53,
   "metadata": {},
   "outputs": [],
   "source": [
    "# Eliminamos los registros que no tienen información de la capacidad de plazas\n",
    "park_spaces = park_spaces.loc[park_spaces.parking_spaces != 0]"
   ]
  },
  {
   "cell_type": "code",
   "execution_count": 54,
   "metadata": {},
   "outputs": [
    {
     "data": {
      "text/html": [
       "<div>\n",
       "<style scoped>\n",
       "    .dataframe tbody tr th:only-of-type {\n",
       "        vertical-align: middle;\n",
       "    }\n",
       "\n",
       "    .dataframe tbody tr th {\n",
       "        vertical-align: top;\n",
       "    }\n",
       "\n",
       "    .dataframe thead th {\n",
       "        text-align: right;\n",
       "    }\n",
       "</style>\n",
       "<table border=\"1\" class=\"dataframe\">\n",
       "  <thead>\n",
       "    <tr style=\"text-align: right;\">\n",
       "      <th></th>\n",
       "      <th>element_key</th>\n",
       "      <th>paid_parking_area</th>\n",
       "      <th>parking_spaces</th>\n",
       "    </tr>\n",
       "  </thead>\n",
       "  <tbody>\n",
       "    <tr>\n",
       "      <th>0</th>\n",
       "      <td>1001</td>\n",
       "      <td>Pioneer Square</td>\n",
       "      <td>7.0</td>\n",
       "    </tr>\n",
       "    <tr>\n",
       "      <th>1</th>\n",
       "      <td>1002</td>\n",
       "      <td>Pioneer Square</td>\n",
       "      <td>9.0</td>\n",
       "    </tr>\n",
       "    <tr>\n",
       "      <th>2</th>\n",
       "      <td>1005</td>\n",
       "      <td>Commercial Core</td>\n",
       "      <td>8.0</td>\n",
       "    </tr>\n",
       "    <tr>\n",
       "      <th>3</th>\n",
       "      <td>1006</td>\n",
       "      <td>Commercial Core</td>\n",
       "      <td>6.0</td>\n",
       "    </tr>\n",
       "    <tr>\n",
       "      <th>4</th>\n",
       "      <td>1009</td>\n",
       "      <td>Commercial Core</td>\n",
       "      <td>5.0</td>\n",
       "    </tr>\n",
       "  </tbody>\n",
       "</table>\n",
       "</div>"
      ],
      "text/plain": [
       "   element_key paid_parking_area  parking_spaces\n",
       "0         1001    Pioneer Square             7.0\n",
       "1         1002    Pioneer Square             9.0\n",
       "2         1005   Commercial Core             8.0\n",
       "3         1006   Commercial Core             6.0\n",
       "4         1009   Commercial Core             5.0"
      ]
     },
     "execution_count": 54,
     "metadata": {},
     "output_type": "execute_result"
    }
   ],
   "source": [
    "park_spaces.head()"
   ]
  },
  {
   "cell_type": "markdown",
   "metadata": {},
   "source": [
    "## Extracción de datos de ubicación geográfica"
   ]
  },
  {
   "cell_type": "code",
   "execution_count": 55,
   "metadata": {},
   "outputs": [],
   "source": [
    "coord = pd.read_csv('./data/Coord_EK.csv')"
   ]
  },
  {
   "cell_type": "code",
   "execution_count": 56,
   "metadata": {
    "ExecuteTime": {
     "end_time": "2018-07-03T17:34:59.893643Z",
     "start_time": "2018-07-03T17:34:59.880961Z"
    }
   },
   "outputs": [
    {
     "data": {
      "text/html": [
       "<div>\n",
       "<style scoped>\n",
       "    .dataframe tbody tr th:only-of-type {\n",
       "        vertical-align: middle;\n",
       "    }\n",
       "\n",
       "    .dataframe tbody tr th {\n",
       "        vertical-align: top;\n",
       "    }\n",
       "\n",
       "    .dataframe thead th {\n",
       "        text-align: right;\n",
       "    }\n",
       "</style>\n",
       "<table border=\"1\" class=\"dataframe\">\n",
       "  <thead>\n",
       "    <tr style=\"text-align: right;\">\n",
       "      <th></th>\n",
       "      <th>element_key</th>\n",
       "      <th>latitude</th>\n",
       "      <th>longitude</th>\n",
       "    </tr>\n",
       "  </thead>\n",
       "  <tbody>\n",
       "    <tr>\n",
       "      <th>0</th>\n",
       "      <td>1001</td>\n",
       "      <td>47.602862</td>\n",
       "      <td>-122.334703</td>\n",
       "    </tr>\n",
       "    <tr>\n",
       "      <th>1</th>\n",
       "      <td>1002</td>\n",
       "      <td>47.602997</td>\n",
       "      <td>-122.334538</td>\n",
       "    </tr>\n",
       "    <tr>\n",
       "      <th>2</th>\n",
       "      <td>1005</td>\n",
       "      <td>47.603602</td>\n",
       "      <td>-122.335382</td>\n",
       "    </tr>\n",
       "    <tr>\n",
       "      <th>3</th>\n",
       "      <td>1006</td>\n",
       "      <td>47.603725</td>\n",
       "      <td>-122.335171</td>\n",
       "    </tr>\n",
       "    <tr>\n",
       "      <th>4</th>\n",
       "      <td>1009</td>\n",
       "      <td>47.605010</td>\n",
       "      <td>-122.336669</td>\n",
       "    </tr>\n",
       "  </tbody>\n",
       "</table>\n",
       "</div>"
      ],
      "text/plain": [
       "   element_key   latitude   longitude\n",
       "0         1001  47.602862 -122.334703\n",
       "1         1002  47.602997 -122.334538\n",
       "2         1005  47.603602 -122.335382\n",
       "3         1006  47.603725 -122.335171\n",
       "4         1009  47.605010 -122.336669"
      ]
     },
     "execution_count": 56,
     "metadata": {},
     "output_type": "execute_result"
    }
   ],
   "source": [
    "coord.head()"
   ]
  },
  {
   "cell_type": "code",
   "execution_count": 57,
   "metadata": {},
   "outputs": [
    {
     "data": {
      "text/plain": [
       "(1517, 3)"
      ]
     },
     "execution_count": 57,
     "metadata": {},
     "output_type": "execute_result"
    }
   ],
   "source": [
    "coord.shape"
   ]
  },
  {
   "cell_type": "code",
   "execution_count": 58,
   "metadata": {},
   "outputs": [
    {
     "data": {
      "text/plain": [
       "0"
      ]
     },
     "execution_count": 58,
     "metadata": {},
     "output_type": "execute_result"
    }
   ],
   "source": [
    "coord.duplicated().sum()  # no hay registros duplicados"
   ]
  },
  {
   "cell_type": "code",
   "execution_count": 59,
   "metadata": {},
   "outputs": [
    {
     "data": {
      "text/plain": [
       "0"
      ]
     },
     "execution_count": 59,
     "metadata": {},
     "output_type": "execute_result"
    }
   ],
   "source": [
    "coord.element_key.duplicated().sum()  # tampoco hay duplicados de Element Key"
   ]
  },
  {
   "cell_type": "code",
   "execution_count": 60,
   "metadata": {},
   "outputs": [
    {
     "data": {
      "text/plain": [
       "0"
      ]
     },
     "execution_count": 60,
     "metadata": {},
     "output_type": "execute_result"
    }
   ],
   "source": [
    "coord[['latitude','longitude']].duplicated().sum()  # ni hay ubicaciones repetidas"
   ]
  },
  {
   "cell_type": "markdown",
   "metadata": {},
   "source": [
    "#### Análisis de ubicación de los element_key duplicados en park_spaces"
   ]
  },
  {
   "cell_type": "code",
   "execution_count": 61,
   "metadata": {},
   "outputs": [
    {
     "data": {
      "text/html": [
       "<div>\n",
       "<style scoped>\n",
       "    .dataframe tbody tr th:only-of-type {\n",
       "        vertical-align: middle;\n",
       "    }\n",
       "\n",
       "    .dataframe tbody tr th {\n",
       "        vertical-align: top;\n",
       "    }\n",
       "\n",
       "    .dataframe thead th {\n",
       "        text-align: right;\n",
       "    }\n",
       "</style>\n",
       "<table border=\"1\" class=\"dataframe\">\n",
       "  <thead>\n",
       "    <tr style=\"text-align: right;\">\n",
       "      <th></th>\n",
       "      <th>element_key</th>\n",
       "      <th>latitude</th>\n",
       "      <th>longitude</th>\n",
       "    </tr>\n",
       "  </thead>\n",
       "  <tbody>\n",
       "    <tr>\n",
       "      <th>175</th>\n",
       "      <td>9762</td>\n",
       "      <td>47.602669</td>\n",
       "      <td>-122.336182</td>\n",
       "    </tr>\n",
       "    <tr>\n",
       "      <th>1270</th>\n",
       "      <td>78114</td>\n",
       "      <td>47.609074</td>\n",
       "      <td>-122.343332</td>\n",
       "    </tr>\n",
       "  </tbody>\n",
       "</table>\n",
       "</div>"
      ],
      "text/plain": [
       "      element_key   latitude   longitude\n",
       "175          9762  47.602669 -122.336182\n",
       "1270        78114  47.609074 -122.343332"
      ]
     },
     "execution_count": 61,
     "metadata": {},
     "output_type": "execute_result"
    }
   ],
   "source": [
    "coord.loc[(coord.element_key == 9762) | (coord.element_key == 78114)]"
   ]
  },
  {
   "cell_type": "markdown",
   "metadata": {},
   "source": [
    "Utilizamos la web https://www.coordenadas-gps.com para analizar las ubicaciones y decidimos asociar ambos segmentos de calle con el distrito Commercial Core:"
   ]
  },
  {
   "cell_type": "code",
   "execution_count": 62,
   "metadata": {},
   "outputs": [],
   "source": [
    "park_spaces = park_spaces[(park_spaces.index != 195) & (park_spaces.index != 1439)]  # eliminamos los duplicados"
   ]
  },
  {
   "cell_type": "markdown",
   "metadata": {},
   "source": [
    "## Relación de transacciones, ubicaciones y capacidad"
   ]
  },
  {
   "cell_type": "code",
   "execution_count": 63,
   "metadata": {
    "ExecuteTime": {
     "end_time": "2018-07-03T17:35:00.005598Z",
     "start_time": "2018-07-03T17:34:59.983371Z"
    }
   },
   "outputs": [
    {
     "data": {
      "text/plain": [
       "1514"
      ]
     },
     "execution_count": 63,
     "metadata": {},
     "output_type": "execute_result"
    }
   ],
   "source": [
    "df.element_key.unique().size"
   ]
  },
  {
   "cell_type": "code",
   "execution_count": 64,
   "metadata": {},
   "outputs": [
    {
     "data": {
      "text/plain": [
       "1517"
      ]
     },
     "execution_count": 64,
     "metadata": {},
     "output_type": "execute_result"
    }
   ],
   "source": [
    "coord.element_key.unique().size"
   ]
  },
  {
   "cell_type": "code",
   "execution_count": 65,
   "metadata": {},
   "outputs": [
    {
     "data": {
      "text/plain": [
       "1701"
      ]
     },
     "execution_count": 65,
     "metadata": {},
     "output_type": "execute_result"
    }
   ],
   "source": [
    "park_spaces.element_key.unique().size"
   ]
  },
  {
   "cell_type": "code",
   "execution_count": 66,
   "metadata": {
    "ExecuteTime": {
     "end_time": "2018-07-03T17:35:00.317807Z",
     "start_time": "2018-07-03T17:35:00.006918Z"
    }
   },
   "outputs": [
    {
     "data": {
      "text/plain": [
       "1445"
      ]
     },
     "execution_count": 66,
     "metadata": {},
     "output_type": "execute_result"
    }
   ],
   "source": [
    "len(set(coord.element_key).intersection(set(df.element_key)))"
   ]
  },
  {
   "cell_type": "code",
   "execution_count": 67,
   "metadata": {},
   "outputs": [
    {
     "data": {
      "text/plain": [
       "1498"
      ]
     },
     "execution_count": 67,
     "metadata": {},
     "output_type": "execute_result"
    }
   ],
   "source": [
    "len(set(park_spaces.element_key).intersection(set(coord.element_key)))"
   ]
  },
  {
   "cell_type": "markdown",
   "metadata": {},
   "source": [
    "**Mezclamos los datasets:**"
   ]
  },
  {
   "cell_type": "code",
   "execution_count": 68,
   "metadata": {
    "ExecuteTime": {
     "end_time": "2018-07-03T17:35:02.704490Z",
     "start_time": "2018-07-03T17:35:00.319180Z"
    }
   },
   "outputs": [],
   "source": [
    "# Transacciones con Coordenadas\n",
    "df_c = pd.merge(df, coord, on='element_key', how='inner', validate='many_to_one')"
   ]
  },
  {
   "cell_type": "code",
   "execution_count": 69,
   "metadata": {},
   "outputs": [],
   "source": [
    "# Transacciones con Coordenadas y con Capacidad de Plazas disponibles\n",
    "df_cp = pd.merge(df_c, park_spaces, on='element_key', how='inner', validate='many_to_one')"
   ]
  },
  {
   "cell_type": "code",
   "execution_count": 70,
   "metadata": {
    "ExecuteTime": {
     "end_time": "2018-07-03T17:35:04.274684Z",
     "start_time": "2018-07-03T17:35:04.271724Z"
    }
   },
   "outputs": [
    {
     "data": {
      "text/plain": [
       "((10855107, 4), (10690446, 6), (10685053, 8))"
      ]
     },
     "execution_count": 70,
     "metadata": {},
     "output_type": "execute_result"
    }
   ],
   "source": [
    "df.shape, df_c.shape, df_cp.shape"
   ]
  },
  {
   "cell_type": "code",
   "execution_count": 71,
   "metadata": {
    "ExecuteTime": {
     "end_time": "2018-07-03T17:35:04.684905Z",
     "start_time": "2018-07-03T17:35:04.634751Z"
    }
   },
   "outputs": [
    {
     "data": {
      "text/html": [
       "<div>\n",
       "<style scoped>\n",
       "    .dataframe tbody tr th:only-of-type {\n",
       "        vertical-align: middle;\n",
       "    }\n",
       "\n",
       "    .dataframe tbody tr th {\n",
       "        vertical-align: top;\n",
       "    }\n",
       "\n",
       "    .dataframe thead th {\n",
       "        text-align: right;\n",
       "    }\n",
       "</style>\n",
       "<table border=\"1\" class=\"dataframe\">\n",
       "  <thead>\n",
       "    <tr style=\"text-align: right;\">\n",
       "      <th></th>\n",
       "      <th>element_key</th>\n",
       "      <th>final_date_time</th>\n",
       "      <th>transaction_date_time</th>\n",
       "      <th>transaction_id</th>\n",
       "      <th>latitude</th>\n",
       "      <th>longitude</th>\n",
       "      <th>paid_parking_area</th>\n",
       "      <th>parking_spaces</th>\n",
       "    </tr>\n",
       "  </thead>\n",
       "  <tbody>\n",
       "    <tr>\n",
       "      <th>0</th>\n",
       "      <td>35693</td>\n",
       "      <td>2016-01-02 10:00:00</td>\n",
       "      <td>2016-01-02 08:00:00</td>\n",
       "      <td>64059668</td>\n",
       "      <td>47.619158</td>\n",
       "      <td>-122.346457</td>\n",
       "      <td>Uptown Triangle</td>\n",
       "      <td>10.0</td>\n",
       "    </tr>\n",
       "    <tr>\n",
       "      <th>1</th>\n",
       "      <td>35693</td>\n",
       "      <td>2016-01-02 10:00:00</td>\n",
       "      <td>2016-01-02 08:00:00</td>\n",
       "      <td>64059669</td>\n",
       "      <td>47.619158</td>\n",
       "      <td>-122.346457</td>\n",
       "      <td>Uptown Triangle</td>\n",
       "      <td>10.0</td>\n",
       "    </tr>\n",
       "    <tr>\n",
       "      <th>2</th>\n",
       "      <td>35693</td>\n",
       "      <td>2016-01-02 14:00:00</td>\n",
       "      <td>2016-01-02 08:00:00</td>\n",
       "      <td>64084672</td>\n",
       "      <td>47.619158</td>\n",
       "      <td>-122.346457</td>\n",
       "      <td>Uptown Triangle</td>\n",
       "      <td>10.0</td>\n",
       "    </tr>\n",
       "    <tr>\n",
       "      <th>3</th>\n",
       "      <td>35693</td>\n",
       "      <td>2016-01-02 09:00:00</td>\n",
       "      <td>2016-01-02 08:00:00</td>\n",
       "      <td>183563751</td>\n",
       "      <td>47.619158</td>\n",
       "      <td>-122.346457</td>\n",
       "      <td>Uptown Triangle</td>\n",
       "      <td>10.0</td>\n",
       "    </tr>\n",
       "    <tr>\n",
       "      <th>4</th>\n",
       "      <td>35693</td>\n",
       "      <td>2016-01-02 10:00:00</td>\n",
       "      <td>2016-01-02 08:00:00</td>\n",
       "      <td>64084673</td>\n",
       "      <td>47.619158</td>\n",
       "      <td>-122.346457</td>\n",
       "      <td>Uptown Triangle</td>\n",
       "      <td>10.0</td>\n",
       "    </tr>\n",
       "  </tbody>\n",
       "</table>\n",
       "</div>"
      ],
      "text/plain": [
       "   element_key     final_date_time transaction_date_time  transaction_id  \\\n",
       "0        35693 2016-01-02 10:00:00   2016-01-02 08:00:00        64059668   \n",
       "1        35693 2016-01-02 10:00:00   2016-01-02 08:00:00        64059669   \n",
       "2        35693 2016-01-02 14:00:00   2016-01-02 08:00:00        64084672   \n",
       "3        35693 2016-01-02 09:00:00   2016-01-02 08:00:00       183563751   \n",
       "4        35693 2016-01-02 10:00:00   2016-01-02 08:00:00        64084673   \n",
       "\n",
       "    latitude   longitude paid_parking_area  parking_spaces  \n",
       "0  47.619158 -122.346457   Uptown Triangle            10.0  \n",
       "1  47.619158 -122.346457   Uptown Triangle            10.0  \n",
       "2  47.619158 -122.346457   Uptown Triangle            10.0  \n",
       "3  47.619158 -122.346457   Uptown Triangle            10.0  \n",
       "4  47.619158 -122.346457   Uptown Triangle            10.0  "
      ]
     },
     "execution_count": 71,
     "metadata": {},
     "output_type": "execute_result"
    }
   ],
   "source": [
    "df_cp.head()"
   ]
  },
  {
   "cell_type": "code",
   "execution_count": 72,
   "metadata": {},
   "outputs": [
    {
     "data": {
      "text/plain": [
       "1443"
      ]
     },
     "execution_count": 72,
     "metadata": {},
     "output_type": "execute_result"
    }
   ],
   "source": [
    "df_cp.element_key.unique().size"
   ]
  },
  {
   "cell_type": "markdown",
   "metadata": {},
   "source": [
    "## Construcción de la serie de ocupación por timestamp\n",
    "\n",
    "Construimos primero la tabla corta que usaremos para montar las series temporales:"
   ]
  },
  {
   "cell_type": "code",
   "execution_count": 73,
   "metadata": {
    "ExecuteTime": {
     "end_time": "2018-07-03T17:36:46.500695Z",
     "start_time": "2018-07-03T17:36:42.079494Z"
    }
   },
   "outputs": [],
   "source": [
    "in_cols = ['element_key', 'latitude', 'longitude', 'transaction_date_time', 'parking_spaces','paid_parking_area']\n",
    "out_cols = ['element_key', 'latitude', 'longitude', 'final_date_time', 'parking_spaces','paid_parking_area']\n",
    "\n",
    "df_in = df_cp[in_cols].reset_index(drop=True)\n",
    "df_in['timestamp_sign'] = 1.0\n",
    "df_in.rename(columns={'transaction_date_time': 'timestamp'}, inplace=True)\n",
    "\n",
    "df_out = df_cp[out_cols].reset_index(drop=True)\n",
    "df_out['timestamp_sign'] = - 1.0\n",
    "df_out.rename(columns={'final_date_time': 'timestamp'}, inplace=True)  # inplace = True, value of copy is ignored"
   ]
  },
  {
   "cell_type": "code",
   "execution_count": 74,
   "metadata": {
    "ExecuteTime": {
     "end_time": "2018-07-03T17:36:46.511121Z",
     "start_time": "2018-07-03T17:36:46.502183Z"
    }
   },
   "outputs": [
    {
     "data": {
      "text/html": [
       "<div>\n",
       "<style scoped>\n",
       "    .dataframe tbody tr th:only-of-type {\n",
       "        vertical-align: middle;\n",
       "    }\n",
       "\n",
       "    .dataframe tbody tr th {\n",
       "        vertical-align: top;\n",
       "    }\n",
       "\n",
       "    .dataframe thead th {\n",
       "        text-align: right;\n",
       "    }\n",
       "</style>\n",
       "<table border=\"1\" class=\"dataframe\">\n",
       "  <thead>\n",
       "    <tr style=\"text-align: right;\">\n",
       "      <th></th>\n",
       "      <th>element_key</th>\n",
       "      <th>latitude</th>\n",
       "      <th>longitude</th>\n",
       "      <th>timestamp</th>\n",
       "      <th>parking_spaces</th>\n",
       "      <th>paid_parking_area</th>\n",
       "      <th>timestamp_sign</th>\n",
       "    </tr>\n",
       "  </thead>\n",
       "  <tbody>\n",
       "    <tr>\n",
       "      <th>0</th>\n",
       "      <td>35693</td>\n",
       "      <td>47.619158</td>\n",
       "      <td>-122.346457</td>\n",
       "      <td>2016-01-02 08:00:00</td>\n",
       "      <td>10.0</td>\n",
       "      <td>Uptown Triangle</td>\n",
       "      <td>1.0</td>\n",
       "    </tr>\n",
       "    <tr>\n",
       "      <th>1</th>\n",
       "      <td>35693</td>\n",
       "      <td>47.619158</td>\n",
       "      <td>-122.346457</td>\n",
       "      <td>2016-01-02 08:00:00</td>\n",
       "      <td>10.0</td>\n",
       "      <td>Uptown Triangle</td>\n",
       "      <td>1.0</td>\n",
       "    </tr>\n",
       "    <tr>\n",
       "      <th>2</th>\n",
       "      <td>35693</td>\n",
       "      <td>47.619158</td>\n",
       "      <td>-122.346457</td>\n",
       "      <td>2016-01-02 08:00:00</td>\n",
       "      <td>10.0</td>\n",
       "      <td>Uptown Triangle</td>\n",
       "      <td>1.0</td>\n",
       "    </tr>\n",
       "    <tr>\n",
       "      <th>3</th>\n",
       "      <td>35693</td>\n",
       "      <td>47.619158</td>\n",
       "      <td>-122.346457</td>\n",
       "      <td>2016-01-02 08:00:00</td>\n",
       "      <td>10.0</td>\n",
       "      <td>Uptown Triangle</td>\n",
       "      <td>1.0</td>\n",
       "    </tr>\n",
       "    <tr>\n",
       "      <th>4</th>\n",
       "      <td>35693</td>\n",
       "      <td>47.619158</td>\n",
       "      <td>-122.346457</td>\n",
       "      <td>2016-01-02 08:00:00</td>\n",
       "      <td>10.0</td>\n",
       "      <td>Uptown Triangle</td>\n",
       "      <td>1.0</td>\n",
       "    </tr>\n",
       "  </tbody>\n",
       "</table>\n",
       "</div>"
      ],
      "text/plain": [
       "   element_key   latitude   longitude           timestamp  parking_spaces  \\\n",
       "0        35693  47.619158 -122.346457 2016-01-02 08:00:00            10.0   \n",
       "1        35693  47.619158 -122.346457 2016-01-02 08:00:00            10.0   \n",
       "2        35693  47.619158 -122.346457 2016-01-02 08:00:00            10.0   \n",
       "3        35693  47.619158 -122.346457 2016-01-02 08:00:00            10.0   \n",
       "4        35693  47.619158 -122.346457 2016-01-02 08:00:00            10.0   \n",
       "\n",
       "  paid_parking_area  timestamp_sign  \n",
       "0   Uptown Triangle             1.0  \n",
       "1   Uptown Triangle             1.0  \n",
       "2   Uptown Triangle             1.0  \n",
       "3   Uptown Triangle             1.0  \n",
       "4   Uptown Triangle             1.0  "
      ]
     },
     "execution_count": 74,
     "metadata": {},
     "output_type": "execute_result"
    }
   ],
   "source": [
    "df_in.head()"
   ]
  },
  {
   "cell_type": "code",
   "execution_count": 75,
   "metadata": {
    "ExecuteTime": {
     "end_time": "2018-07-03T17:36:46.522761Z",
     "start_time": "2018-07-03T17:36:46.512194Z"
    }
   },
   "outputs": [
    {
     "data": {
      "text/html": [
       "<div>\n",
       "<style scoped>\n",
       "    .dataframe tbody tr th:only-of-type {\n",
       "        vertical-align: middle;\n",
       "    }\n",
       "\n",
       "    .dataframe tbody tr th {\n",
       "        vertical-align: top;\n",
       "    }\n",
       "\n",
       "    .dataframe thead th {\n",
       "        text-align: right;\n",
       "    }\n",
       "</style>\n",
       "<table border=\"1\" class=\"dataframe\">\n",
       "  <thead>\n",
       "    <tr style=\"text-align: right;\">\n",
       "      <th></th>\n",
       "      <th>element_key</th>\n",
       "      <th>latitude</th>\n",
       "      <th>longitude</th>\n",
       "      <th>timestamp</th>\n",
       "      <th>parking_spaces</th>\n",
       "      <th>paid_parking_area</th>\n",
       "      <th>timestamp_sign</th>\n",
       "    </tr>\n",
       "  </thead>\n",
       "  <tbody>\n",
       "    <tr>\n",
       "      <th>0</th>\n",
       "      <td>35693</td>\n",
       "      <td>47.619158</td>\n",
       "      <td>-122.346457</td>\n",
       "      <td>2016-01-02 10:00:00</td>\n",
       "      <td>10.0</td>\n",
       "      <td>Uptown Triangle</td>\n",
       "      <td>-1.0</td>\n",
       "    </tr>\n",
       "    <tr>\n",
       "      <th>1</th>\n",
       "      <td>35693</td>\n",
       "      <td>47.619158</td>\n",
       "      <td>-122.346457</td>\n",
       "      <td>2016-01-02 10:00:00</td>\n",
       "      <td>10.0</td>\n",
       "      <td>Uptown Triangle</td>\n",
       "      <td>-1.0</td>\n",
       "    </tr>\n",
       "    <tr>\n",
       "      <th>2</th>\n",
       "      <td>35693</td>\n",
       "      <td>47.619158</td>\n",
       "      <td>-122.346457</td>\n",
       "      <td>2016-01-02 14:00:00</td>\n",
       "      <td>10.0</td>\n",
       "      <td>Uptown Triangle</td>\n",
       "      <td>-1.0</td>\n",
       "    </tr>\n",
       "    <tr>\n",
       "      <th>3</th>\n",
       "      <td>35693</td>\n",
       "      <td>47.619158</td>\n",
       "      <td>-122.346457</td>\n",
       "      <td>2016-01-02 09:00:00</td>\n",
       "      <td>10.0</td>\n",
       "      <td>Uptown Triangle</td>\n",
       "      <td>-1.0</td>\n",
       "    </tr>\n",
       "    <tr>\n",
       "      <th>4</th>\n",
       "      <td>35693</td>\n",
       "      <td>47.619158</td>\n",
       "      <td>-122.346457</td>\n",
       "      <td>2016-01-02 10:00:00</td>\n",
       "      <td>10.0</td>\n",
       "      <td>Uptown Triangle</td>\n",
       "      <td>-1.0</td>\n",
       "    </tr>\n",
       "  </tbody>\n",
       "</table>\n",
       "</div>"
      ],
      "text/plain": [
       "   element_key   latitude   longitude           timestamp  parking_spaces  \\\n",
       "0        35693  47.619158 -122.346457 2016-01-02 10:00:00            10.0   \n",
       "1        35693  47.619158 -122.346457 2016-01-02 10:00:00            10.0   \n",
       "2        35693  47.619158 -122.346457 2016-01-02 14:00:00            10.0   \n",
       "3        35693  47.619158 -122.346457 2016-01-02 09:00:00            10.0   \n",
       "4        35693  47.619158 -122.346457 2016-01-02 10:00:00            10.0   \n",
       "\n",
       "  paid_parking_area  timestamp_sign  \n",
       "0   Uptown Triangle            -1.0  \n",
       "1   Uptown Triangle            -1.0  \n",
       "2   Uptown Triangle            -1.0  \n",
       "3   Uptown Triangle            -1.0  \n",
       "4   Uptown Triangle            -1.0  "
      ]
     },
     "execution_count": 75,
     "metadata": {},
     "output_type": "execute_result"
    }
   ],
   "source": [
    "df_out.head()"
   ]
  },
  {
   "cell_type": "code",
   "execution_count": 76,
   "metadata": {
    "ExecuteTime": {
     "end_time": "2018-07-03T17:40:48.918260Z",
     "start_time": "2018-07-03T17:40:47.003098Z"
    }
   },
   "outputs": [],
   "source": [
    "full_transactions = pd.concat([df_in, df_out])\n",
    "full_transactions = full_transactions.sort_values('timestamp', ascending=True)\n",
    "full_transactions = full_transactions.reset_index(drop=True)"
   ]
  },
  {
   "cell_type": "code",
   "execution_count": 77,
   "metadata": {
    "ExecuteTime": {
     "end_time": "2018-07-03T17:40:49.105651Z",
     "start_time": "2018-07-03T17:40:49.099414Z"
    }
   },
   "outputs": [
    {
     "data": {
      "text/html": [
       "<div>\n",
       "<style scoped>\n",
       "    .dataframe tbody tr th:only-of-type {\n",
       "        vertical-align: middle;\n",
       "    }\n",
       "\n",
       "    .dataframe tbody tr th {\n",
       "        vertical-align: top;\n",
       "    }\n",
       "\n",
       "    .dataframe thead th {\n",
       "        text-align: right;\n",
       "    }\n",
       "</style>\n",
       "<table border=\"1\" class=\"dataframe\">\n",
       "  <thead>\n",
       "    <tr style=\"text-align: right;\">\n",
       "      <th></th>\n",
       "      <th>element_key</th>\n",
       "      <th>latitude</th>\n",
       "      <th>longitude</th>\n",
       "      <th>timestamp</th>\n",
       "      <th>parking_spaces</th>\n",
       "      <th>paid_parking_area</th>\n",
       "      <th>timestamp_sign</th>\n",
       "    </tr>\n",
       "  </thead>\n",
       "  <tbody>\n",
       "    <tr>\n",
       "      <th>0</th>\n",
       "      <td>35693</td>\n",
       "      <td>47.619158</td>\n",
       "      <td>-122.346457</td>\n",
       "      <td>2016-01-02 08:00:00</td>\n",
       "      <td>10.0</td>\n",
       "      <td>Uptown Triangle</td>\n",
       "      <td>1.0</td>\n",
       "    </tr>\n",
       "    <tr>\n",
       "      <th>1</th>\n",
       "      <td>1026</td>\n",
       "      <td>47.614539</td>\n",
       "      <td>-122.348290</td>\n",
       "      <td>2016-01-02 08:00:00</td>\n",
       "      <td>8.0</td>\n",
       "      <td>Belltown</td>\n",
       "      <td>1.0</td>\n",
       "    </tr>\n",
       "    <tr>\n",
       "      <th>2</th>\n",
       "      <td>1026</td>\n",
       "      <td>47.614539</td>\n",
       "      <td>-122.348290</td>\n",
       "      <td>2016-01-02 08:00:00</td>\n",
       "      <td>8.0</td>\n",
       "      <td>Belltown</td>\n",
       "      <td>1.0</td>\n",
       "    </tr>\n",
       "    <tr>\n",
       "      <th>3</th>\n",
       "      <td>1026</td>\n",
       "      <td>47.614539</td>\n",
       "      <td>-122.348290</td>\n",
       "      <td>2016-01-02 08:00:00</td>\n",
       "      <td>8.0</td>\n",
       "      <td>Belltown</td>\n",
       "      <td>1.0</td>\n",
       "    </tr>\n",
       "    <tr>\n",
       "      <th>4</th>\n",
       "      <td>1026</td>\n",
       "      <td>47.614539</td>\n",
       "      <td>-122.348290</td>\n",
       "      <td>2016-01-02 08:00:00</td>\n",
       "      <td>8.0</td>\n",
       "      <td>Belltown</td>\n",
       "      <td>1.0</td>\n",
       "    </tr>\n",
       "  </tbody>\n",
       "</table>\n",
       "</div>"
      ],
      "text/plain": [
       "   element_key   latitude   longitude           timestamp  parking_spaces  \\\n",
       "0        35693  47.619158 -122.346457 2016-01-02 08:00:00            10.0   \n",
       "1         1026  47.614539 -122.348290 2016-01-02 08:00:00             8.0   \n",
       "2         1026  47.614539 -122.348290 2016-01-02 08:00:00             8.0   \n",
       "3         1026  47.614539 -122.348290 2016-01-02 08:00:00             8.0   \n",
       "4         1026  47.614539 -122.348290 2016-01-02 08:00:00             8.0   \n",
       "\n",
       "  paid_parking_area  timestamp_sign  \n",
       "0   Uptown Triangle             1.0  \n",
       "1          Belltown             1.0  \n",
       "2          Belltown             1.0  \n",
       "3          Belltown             1.0  \n",
       "4          Belltown             1.0  "
      ]
     },
     "execution_count": 77,
     "metadata": {},
     "output_type": "execute_result"
    }
   ],
   "source": [
    "full_transactions.head()"
   ]
  },
  {
   "cell_type": "code",
   "execution_count": 78,
   "metadata": {
    "ExecuteTime": {
     "end_time": "2018-07-03T17:40:49.110925Z",
     "start_time": "2018-07-03T17:40:49.107012Z"
    }
   },
   "outputs": [
    {
     "data": {
      "text/plain": [
       "((10685053, 7), (10685053, 7), (21370106, 7))"
      ]
     },
     "execution_count": 78,
     "metadata": {},
     "output_type": "execute_result"
    }
   ],
   "source": [
    "df_in.shape, df_out.shape, full_transactions.shape"
   ]
  },
  {
   "cell_type": "markdown",
   "metadata": {},
   "source": [
    "#### Añadimos porcentaje de ocupación"
   ]
  },
  {
   "cell_type": "code",
   "execution_count": 79,
   "metadata": {},
   "outputs": [],
   "source": [
    "# COMANDO LARGA DURACIÓN\n",
    "full_transactions['occupation'] = full_transactions.groupby(['element_key', 'timestamp']).timestamp_sign.transform(\n",
    "    lambda series: series.cumsum())"
   ]
  },
  {
   "cell_type": "code",
   "execution_count": 80,
   "metadata": {},
   "outputs": [],
   "source": [
    "full_transactions = full_transactions.reset_index(drop=True)"
   ]
  },
  {
   "cell_type": "code",
   "execution_count": 81,
   "metadata": {},
   "outputs": [],
   "source": [
    "full_transactions.drop_duplicates(subset=['element_key','timestamp'], keep='last', inplace=True)"
   ]
  },
  {
   "cell_type": "code",
   "execution_count": 82,
   "metadata": {},
   "outputs": [],
   "source": [
    "full_transactions['day_year'] = full_transactions.timestamp.dt.dayofyear"
   ]
  },
  {
   "cell_type": "code",
   "execution_count": 83,
   "metadata": {},
   "outputs": [],
   "source": [
    "full_transactions['occu_cum'] = full_transactions.groupby(['element_key','day_year']).occupation.agg('cumsum')"
   ]
  },
  {
   "cell_type": "code",
   "execution_count": 84,
   "metadata": {},
   "outputs": [],
   "source": [
    "full_transactions['occupation_perc'] = (full_transactions.occu_cum / full_transactions.parking_spaces * 100.0).map(\n",
    "    \"{0:.2f}\".format).astype(float)"
   ]
  },
  {
   "cell_type": "code",
   "execution_count": 85,
   "metadata": {},
   "outputs": [
    {
     "data": {
      "text/plain": [
       "204768"
      ]
     },
     "execution_count": 85,
     "metadata": {},
     "output_type": "execute_result"
    }
   ],
   "source": [
    "full_transactions.element_key.loc[full_transactions.occupation_perc > 100].count()"
   ]
  },
  {
   "cell_type": "code",
   "execution_count": 86,
   "metadata": {},
   "outputs": [
    {
     "data": {
      "text/plain": [
       "1174"
      ]
     },
     "execution_count": 86,
     "metadata": {},
     "output_type": "execute_result"
    }
   ],
   "source": [
    "full_transactions.element_key.loc[full_transactions.occupation_perc > 100].unique().size"
   ]
  },
  {
   "cell_type": "code",
   "execution_count": 87,
   "metadata": {},
   "outputs": [
    {
     "data": {
      "text/plain": [
       "(4138332, 11)"
      ]
     },
     "execution_count": 87,
     "metadata": {},
     "output_type": "execute_result"
    }
   ],
   "source": [
    "full_transactions.shape"
   ]
  },
  {
   "cell_type": "markdown",
   "metadata": {},
   "source": [
    "## Corrección de la capacidad de plazas disponibles"
   ]
  },
  {
   "cell_type": "code",
   "execution_count": 88,
   "metadata": {},
   "outputs": [],
   "source": [
    "new_park_spaces = pd.read_csv('./data/StreetParking.csv')"
   ]
  },
  {
   "cell_type": "code",
   "execution_count": 89,
   "metadata": {},
   "outputs": [
    {
     "data": {
      "text/html": [
       "<div>\n",
       "<style scoped>\n",
       "    .dataframe tbody tr th:only-of-type {\n",
       "        vertical-align: middle;\n",
       "    }\n",
       "\n",
       "    .dataframe tbody tr th {\n",
       "        vertical-align: top;\n",
       "    }\n",
       "\n",
       "    .dataframe thead th {\n",
       "        text-align: right;\n",
       "    }\n",
       "</style>\n",
       "<table border=\"1\" class=\"dataframe\">\n",
       "  <thead>\n",
       "    <tr style=\"text-align: right;\">\n",
       "      <th></th>\n",
       "      <th>element_key</th>\n",
       "      <th>parking_category</th>\n",
       "      <th>total_nopark</th>\n",
       "      <th>total_zones</th>\n",
       "      <th>parking_spaces</th>\n",
       "      <th>total_spaces</th>\n",
       "    </tr>\n",
       "  </thead>\n",
       "  <tbody>\n",
       "    <tr>\n",
       "      <th>0</th>\n",
       "      <td>32018</td>\n",
       "      <td>Paid Parking</td>\n",
       "      <td>8</td>\n",
       "      <td>1</td>\n",
       "      <td>6</td>\n",
       "      <td>15</td>\n",
       "    </tr>\n",
       "    <tr>\n",
       "      <th>1</th>\n",
       "      <td>1042</td>\n",
       "      <td>No Parking Allowed</td>\n",
       "      <td>5</td>\n",
       "      <td>1</td>\n",
       "      <td>0</td>\n",
       "      <td>6</td>\n",
       "    </tr>\n",
       "    <tr>\n",
       "      <th>2</th>\n",
       "      <td>48129</td>\n",
       "      <td>Paid Parking</td>\n",
       "      <td>6</td>\n",
       "      <td>1</td>\n",
       "      <td>4</td>\n",
       "      <td>11</td>\n",
       "    </tr>\n",
       "    <tr>\n",
       "      <th>3</th>\n",
       "      <td>47962</td>\n",
       "      <td>Paid Parking</td>\n",
       "      <td>8</td>\n",
       "      <td>2</td>\n",
       "      <td>7</td>\n",
       "      <td>17</td>\n",
       "    </tr>\n",
       "    <tr>\n",
       "      <th>4</th>\n",
       "      <td>47966</td>\n",
       "      <td>Paid Parking</td>\n",
       "      <td>5</td>\n",
       "      <td>1</td>\n",
       "      <td>4</td>\n",
       "      <td>10</td>\n",
       "    </tr>\n",
       "  </tbody>\n",
       "</table>\n",
       "</div>"
      ],
      "text/plain": [
       "   element_key    parking_category  total_nopark  total_zones  parking_spaces  \\\n",
       "0        32018        Paid Parking             8            1               6   \n",
       "1         1042  No Parking Allowed             5            1               0   \n",
       "2        48129        Paid Parking             6            1               4   \n",
       "3        47962        Paid Parking             8            2               7   \n",
       "4        47966        Paid Parking             5            1               4   \n",
       "\n",
       "   total_spaces  \n",
       "0            15  \n",
       "1             6  \n",
       "2            11  \n",
       "3            17  \n",
       "4            10  "
      ]
     },
     "execution_count": 89,
     "metadata": {},
     "output_type": "execute_result"
    }
   ],
   "source": [
    "new_park_spaces.head()"
   ]
  },
  {
   "cell_type": "code",
   "execution_count": 90,
   "metadata": {},
   "outputs": [],
   "source": [
    "# Eliminamos los registros que no tienen información de la capacidad de plazas\n",
    "new_park_spaces = new_park_spaces.loc[new_park_spaces.total_spaces != 0]"
   ]
  },
  {
   "cell_type": "code",
   "execution_count": 91,
   "metadata": {},
   "outputs": [],
   "source": [
    "new_park_spaces = pd.merge(new_park_spaces, park_spaces, on='element_key', how='inner', validate='many_to_one')"
   ]
  },
  {
   "cell_type": "code",
   "execution_count": 92,
   "metadata": {},
   "outputs": [
    {
     "data": {
      "text/html": [
       "<div>\n",
       "<style scoped>\n",
       "    .dataframe tbody tr th:only-of-type {\n",
       "        vertical-align: middle;\n",
       "    }\n",
       "\n",
       "    .dataframe tbody tr th {\n",
       "        vertical-align: top;\n",
       "    }\n",
       "\n",
       "    .dataframe thead th {\n",
       "        text-align: right;\n",
       "    }\n",
       "</style>\n",
       "<table border=\"1\" class=\"dataframe\">\n",
       "  <thead>\n",
       "    <tr style=\"text-align: right;\">\n",
       "      <th></th>\n",
       "      <th>element_key</th>\n",
       "      <th>parking_category</th>\n",
       "      <th>total_nopark</th>\n",
       "      <th>total_zones</th>\n",
       "      <th>parking_spaces_x</th>\n",
       "      <th>total_spaces</th>\n",
       "      <th>paid_parking_area</th>\n",
       "      <th>parking_spaces_y</th>\n",
       "    </tr>\n",
       "  </thead>\n",
       "  <tbody>\n",
       "    <tr>\n",
       "      <th>0</th>\n",
       "      <td>32018</td>\n",
       "      <td>Paid Parking</td>\n",
       "      <td>8</td>\n",
       "      <td>1</td>\n",
       "      <td>6</td>\n",
       "      <td>15</td>\n",
       "      <td>Belltown</td>\n",
       "      <td>6.0</td>\n",
       "    </tr>\n",
       "    <tr>\n",
       "      <th>1</th>\n",
       "      <td>48129</td>\n",
       "      <td>Paid Parking</td>\n",
       "      <td>6</td>\n",
       "      <td>1</td>\n",
       "      <td>4</td>\n",
       "      <td>11</td>\n",
       "      <td>Pioneer Square</td>\n",
       "      <td>6.0</td>\n",
       "    </tr>\n",
       "    <tr>\n",
       "      <th>2</th>\n",
       "      <td>47962</td>\n",
       "      <td>Paid Parking</td>\n",
       "      <td>8</td>\n",
       "      <td>2</td>\n",
       "      <td>7</td>\n",
       "      <td>17</td>\n",
       "      <td>Commercial Core</td>\n",
       "      <td>8.0</td>\n",
       "    </tr>\n",
       "    <tr>\n",
       "      <th>3</th>\n",
       "      <td>47966</td>\n",
       "      <td>Paid Parking</td>\n",
       "      <td>5</td>\n",
       "      <td>1</td>\n",
       "      <td>4</td>\n",
       "      <td>10</td>\n",
       "      <td>Commercial Core</td>\n",
       "      <td>9.0</td>\n",
       "    </tr>\n",
       "    <tr>\n",
       "      <th>4</th>\n",
       "      <td>8617</td>\n",
       "      <td>Paid Parking</td>\n",
       "      <td>7</td>\n",
       "      <td>2</td>\n",
       "      <td>4</td>\n",
       "      <td>13</td>\n",
       "      <td>Denny Triangle</td>\n",
       "      <td>4.0</td>\n",
       "    </tr>\n",
       "  </tbody>\n",
       "</table>\n",
       "</div>"
      ],
      "text/plain": [
       "   element_key parking_category  total_nopark  total_zones  parking_spaces_x  \\\n",
       "0        32018     Paid Parking             8            1                 6   \n",
       "1        48129     Paid Parking             6            1                 4   \n",
       "2        47962     Paid Parking             8            2                 7   \n",
       "3        47966     Paid Parking             5            1                 4   \n",
       "4         8617     Paid Parking             7            2                 4   \n",
       "\n",
       "   total_spaces paid_parking_area  parking_spaces_y  \n",
       "0            15          Belltown               6.0  \n",
       "1            11    Pioneer Square               6.0  \n",
       "2            17   Commercial Core               8.0  \n",
       "3            10   Commercial Core               9.0  \n",
       "4            13    Denny Triangle               4.0  "
      ]
     },
     "execution_count": 92,
     "metadata": {},
     "output_type": "execute_result"
    }
   ],
   "source": [
    "new_park_spaces.head()"
   ]
  },
  {
   "cell_type": "code",
   "execution_count": 93,
   "metadata": {},
   "outputs": [
    {
     "data": {
      "text/plain": [
       "1055"
      ]
     },
     "execution_count": 93,
     "metadata": {},
     "output_type": "execute_result"
    }
   ],
   "source": [
    "new_park_spaces.element_key.loc[new_park_spaces.parking_spaces_x == new_park_spaces.parking_spaces_y].count()"
   ]
  },
  {
   "cell_type": "code",
   "execution_count": 94,
   "metadata": {},
   "outputs": [
    {
     "data": {
      "text/plain": [
       "(1694, 8)"
      ]
     },
     "execution_count": 94,
     "metadata": {},
     "output_type": "execute_result"
    }
   ],
   "source": [
    "new_park_spaces.shape"
   ]
  },
  {
   "cell_type": "code",
   "execution_count": 95,
   "metadata": {},
   "outputs": [],
   "source": [
    "new_park_spaces = new_park_spaces.drop(columns=['total_nopark','total_zones','parking_spaces_x','parking_spaces_y'])"
   ]
  },
  {
   "cell_type": "code",
   "execution_count": 96,
   "metadata": {},
   "outputs": [
    {
     "data": {
      "text/plain": [
       "16    151\n",
       "15    138\n",
       "14    133\n",
       "17    125\n",
       "12    114\n",
       "13    114\n",
       "11    107\n",
       "18     87\n",
       "10     85\n",
       "19     62\n",
       "8      56\n",
       "9      53\n",
       "21     40\n",
       "22     39\n",
       "23     39\n",
       "7      37\n",
       "6      36\n",
       "20     35\n",
       "4      31\n",
       "5      24\n",
       "24     22\n",
       "3      21\n",
       "25     19\n",
       "2      18\n",
       "26     14\n",
       "1      12\n",
       "28     10\n",
       "33     10\n",
       "27      9\n",
       "29      7\n",
       "31      7\n",
       "35      7\n",
       "32      4\n",
       "34      3\n",
       "38      3\n",
       "30      3\n",
       "41      3\n",
       "40      2\n",
       "37      2\n",
       "36      2\n",
       "44      2\n",
       "50      2\n",
       "51      1\n",
       "53      1\n",
       "43      1\n",
       "42      1\n",
       "39      1\n",
       "54      1\n",
       "Name: total_spaces, dtype: int64"
      ]
     },
     "execution_count": 96,
     "metadata": {},
     "output_type": "execute_result"
    }
   ],
   "source": [
    "new_park_spaces.total_spaces.value_counts()"
   ]
  },
  {
   "cell_type": "code",
   "execution_count": 97,
   "metadata": {},
   "outputs": [],
   "source": [
    "# Eliminamos aquellos parquímetros con un número de plazas inferior a 4\n",
    "new_park_spaces = new_park_spaces.loc[new_park_spaces.total_spaces > 4]"
   ]
  },
  {
   "cell_type": "code",
   "execution_count": 98,
   "metadata": {},
   "outputs": [],
   "source": [
    "df_cnp = pd.merge(df_c, new_park_spaces, on='element_key', how='inner', validate='many_to_one')"
   ]
  },
  {
   "cell_type": "code",
   "execution_count": 99,
   "metadata": {},
   "outputs": [
    {
     "data": {
      "text/plain": [
       "(10658334, 9)"
      ]
     },
     "execution_count": 99,
     "metadata": {},
     "output_type": "execute_result"
    }
   ],
   "source": [
    "df_cnp.shape"
   ]
  },
  {
   "cell_type": "code",
   "execution_count": 100,
   "metadata": {},
   "outputs": [
    {
     "data": {
      "text/plain": [
       "1436"
      ]
     },
     "execution_count": 100,
     "metadata": {},
     "output_type": "execute_result"
    }
   ],
   "source": [
    "df_cnp.element_key.unique().size  # se corrige la capacidad de plazas para 1436-1055 = 381 element keys"
   ]
  },
  {
   "cell_type": "code",
   "execution_count": 101,
   "metadata": {},
   "outputs": [],
   "source": [
    "new_park_spaces = new_park_spaces.drop(columns=['paid_parking_area'])\n",
    "full_transactions = full_transactions.drop(columns=['occupation_perc','timestamp_sign','occupation','parking_spaces'])\n",
    "full_transactions = pd.merge(full_transactions, new_park_spaces, on='element_key', how='inner', validate='many_to_one')\n",
    "full_transactions['occupation_perc'] = (full_transactions.occu_cum / full_transactions.total_spaces * 100.0).map(\n",
    "    \"{0:.2f}\".format).astype(float)"
   ]
  },
  {
   "cell_type": "code",
   "execution_count": 102,
   "metadata": {},
   "outputs": [
    {
     "data": {
      "text/plain": [
       "9826"
      ]
     },
     "execution_count": 102,
     "metadata": {},
     "output_type": "execute_result"
    }
   ],
   "source": [
    "full_transactions.element_key.loc[full_transactions.occupation_perc > 100].count()"
   ]
  },
  {
   "cell_type": "code",
   "execution_count": 103,
   "metadata": {},
   "outputs": [
    {
     "data": {
      "text/plain": [
       "187"
      ]
     },
     "execution_count": 103,
     "metadata": {},
     "output_type": "execute_result"
    }
   ],
   "source": [
    "full_transactions.element_key.loc[full_transactions.occupation_perc > 100].unique().size"
   ]
  },
  {
   "cell_type": "code",
   "execution_count": 104,
   "metadata": {},
   "outputs": [],
   "source": [
    "# Eliminamos los registros asociados a element_keys con ocupación > 100%\n",
    "ek_del = full_transactions.element_key.loc[full_transactions.occupation_perc > 100].unique()\n",
    "full_transactions = full_transactions.loc[~full_transactions.element_key.isin(ek_del)]"
   ]
  },
  {
   "cell_type": "code",
   "execution_count": 105,
   "metadata": {},
   "outputs": [
    {
     "data": {
      "text/plain": [
       "1249"
      ]
     },
     "execution_count": 105,
     "metadata": {},
     "output_type": "execute_result"
    }
   ],
   "source": [
    "full_transactions.element_key.unique().size"
   ]
  },
  {
   "cell_type": "code",
   "execution_count": 106,
   "metadata": {},
   "outputs": [
    {
     "data": {
      "text/plain": [
       "Paid Parking               0.933939\n",
       "Restricted Parking Zone    0.046722\n",
       "Carpool Parking            0.011140\n",
       "No Parking Allowed         0.008199\n",
       "Name: parking_category, dtype: float64"
      ]
     },
     "execution_count": 106,
     "metadata": {},
     "output_type": "execute_result"
    }
   ],
   "source": [
    "full_transactions.parking_category.value_counts()/full_transactions.shape[0]"
   ]
  },
  {
   "cell_type": "code",
   "execution_count": 107,
   "metadata": {},
   "outputs": [],
   "source": [
    "# Nos quedamos con la categoría mayoritaria Paid Parking\n",
    "full_transactions = full_transactions.loc[full_transactions.parking_category == 'Paid Parking']"
   ]
  },
  {
   "cell_type": "code",
   "execution_count": 108,
   "metadata": {},
   "outputs": [
    {
     "data": {
      "text/plain": [
       "array([0.])"
      ]
     },
     "execution_count": 108,
     "metadata": {},
     "output_type": "execute_result"
    }
   ],
   "source": [
    "# Comprobamos que la ocupación es 0 para las transacciones con hora = 20\n",
    "full_transactions.occupation_perc.loc[full_transactions.timestamp.dt.hour == 20].unique()"
   ]
  },
  {
   "cell_type": "code",
   "execution_count": 109,
   "metadata": {},
   "outputs": [],
   "source": [
    "# Y las eliminamos\n",
    "full_transactions = full_transactions.loc[full_transactions.timestamp.dt.hour < 20]"
   ]
  },
  {
   "cell_type": "code",
   "execution_count": 110,
   "metadata": {},
   "outputs": [],
   "source": [
    "full_transactions = full_transactions.drop(columns=['occu_cum','parking_category','total_spaces'])"
   ]
  },
  {
   "cell_type": "code",
   "execution_count": 111,
   "metadata": {},
   "outputs": [
    {
     "data": {
      "text/html": [
       "<div>\n",
       "<style scoped>\n",
       "    .dataframe tbody tr th:only-of-type {\n",
       "        vertical-align: middle;\n",
       "    }\n",
       "\n",
       "    .dataframe tbody tr th {\n",
       "        vertical-align: top;\n",
       "    }\n",
       "\n",
       "    .dataframe thead th {\n",
       "        text-align: right;\n",
       "    }\n",
       "</style>\n",
       "<table border=\"1\" class=\"dataframe\">\n",
       "  <thead>\n",
       "    <tr style=\"text-align: right;\">\n",
       "      <th></th>\n",
       "      <th>element_key</th>\n",
       "      <th>latitude</th>\n",
       "      <th>longitude</th>\n",
       "      <th>timestamp</th>\n",
       "      <th>paid_parking_area</th>\n",
       "      <th>day_year</th>\n",
       "      <th>occupation_perc</th>\n",
       "    </tr>\n",
       "  </thead>\n",
       "  <tbody>\n",
       "    <tr>\n",
       "      <th>0</th>\n",
       "      <td>85382</td>\n",
       "      <td>47.680345</td>\n",
       "      <td>-122.325125</td>\n",
       "      <td>2016-01-02 08:00:00</td>\n",
       "      <td>Green Lake</td>\n",
       "      <td>2</td>\n",
       "      <td>13.33</td>\n",
       "    </tr>\n",
       "    <tr>\n",
       "      <th>1</th>\n",
       "      <td>85382</td>\n",
       "      <td>47.680345</td>\n",
       "      <td>-122.325125</td>\n",
       "      <td>2016-01-02 09:00:00</td>\n",
       "      <td>Green Lake</td>\n",
       "      <td>2</td>\n",
       "      <td>33.33</td>\n",
       "    </tr>\n",
       "    <tr>\n",
       "      <th>2</th>\n",
       "      <td>85382</td>\n",
       "      <td>47.680345</td>\n",
       "      <td>-122.325125</td>\n",
       "      <td>2016-01-02 10:00:00</td>\n",
       "      <td>Green Lake</td>\n",
       "      <td>2</td>\n",
       "      <td>26.67</td>\n",
       "    </tr>\n",
       "    <tr>\n",
       "      <th>3</th>\n",
       "      <td>85382</td>\n",
       "      <td>47.680345</td>\n",
       "      <td>-122.325125</td>\n",
       "      <td>2016-01-02 11:00:00</td>\n",
       "      <td>Green Lake</td>\n",
       "      <td>2</td>\n",
       "      <td>60.00</td>\n",
       "    </tr>\n",
       "    <tr>\n",
       "      <th>4</th>\n",
       "      <td>85382</td>\n",
       "      <td>47.680345</td>\n",
       "      <td>-122.325125</td>\n",
       "      <td>2016-01-02 12:00:00</td>\n",
       "      <td>Green Lake</td>\n",
       "      <td>2</td>\n",
       "      <td>40.00</td>\n",
       "    </tr>\n",
       "  </tbody>\n",
       "</table>\n",
       "</div>"
      ],
      "text/plain": [
       "   element_key   latitude   longitude           timestamp paid_parking_area  \\\n",
       "0        85382  47.680345 -122.325125 2016-01-02 08:00:00        Green Lake   \n",
       "1        85382  47.680345 -122.325125 2016-01-02 09:00:00        Green Lake   \n",
       "2        85382  47.680345 -122.325125 2016-01-02 10:00:00        Green Lake   \n",
       "3        85382  47.680345 -122.325125 2016-01-02 11:00:00        Green Lake   \n",
       "4        85382  47.680345 -122.325125 2016-01-02 12:00:00        Green Lake   \n",
       "\n",
       "   day_year  occupation_perc  \n",
       "0         2            13.33  \n",
       "1         2            33.33  \n",
       "2         2            26.67  \n",
       "3         2            60.00  \n",
       "4         2            40.00  "
      ]
     },
     "execution_count": 111,
     "metadata": {},
     "output_type": "execute_result"
    }
   ],
   "source": [
    "full_transactions.head()"
   ]
  },
  {
   "cell_type": "code",
   "execution_count": 112,
   "metadata": {},
   "outputs": [
    {
     "data": {
      "text/plain": [
       "(3143796, 7)"
      ]
     },
     "execution_count": 112,
     "metadata": {},
     "output_type": "execute_result"
    }
   ],
   "source": [
    "full_transactions.shape"
   ]
  },
  {
   "cell_type": "code",
   "execution_count": 116,
   "metadata": {},
   "outputs": [],
   "source": [
    "full_transactions.to_csv('./data/FullTrans016_before_ext', index=False)"
   ]
  },
  {
   "cell_type": "code",
   "execution_count": 113,
   "metadata": {},
   "outputs": [],
   "source": [
    "df_cnp = df_cnp.loc[df_cnp.parking_category == 'Paid Parking']\n",
    "df_cnp = df_cnp.drop(columns=['transaction_id','parking_category'])\n",
    "df_cnp = df_cnp.loc[~df_cnp.element_key.isin(ek_del)]\n",
    "df_cnp = df_cnp.reset_index(drop=True)"
   ]
  },
  {
   "cell_type": "code",
   "execution_count": 114,
   "metadata": {},
   "outputs": [
    {
     "data": {
      "text/html": [
       "<div>\n",
       "<style scoped>\n",
       "    .dataframe tbody tr th:only-of-type {\n",
       "        vertical-align: middle;\n",
       "    }\n",
       "\n",
       "    .dataframe tbody tr th {\n",
       "        vertical-align: top;\n",
       "    }\n",
       "\n",
       "    .dataframe thead th {\n",
       "        text-align: right;\n",
       "    }\n",
       "</style>\n",
       "<table border=\"1\" class=\"dataframe\">\n",
       "  <thead>\n",
       "    <tr style=\"text-align: right;\">\n",
       "      <th></th>\n",
       "      <th>element_key</th>\n",
       "      <th>final_date_time</th>\n",
       "      <th>transaction_date_time</th>\n",
       "      <th>latitude</th>\n",
       "      <th>longitude</th>\n",
       "      <th>total_spaces</th>\n",
       "      <th>paid_parking_area</th>\n",
       "    </tr>\n",
       "  </thead>\n",
       "  <tbody>\n",
       "    <tr>\n",
       "      <th>0</th>\n",
       "      <td>53549</td>\n",
       "      <td>2016-01-02 10:00:00</td>\n",
       "      <td>2016-01-02 08:00:00</td>\n",
       "      <td>47.628175</td>\n",
       "      <td>-122.341132</td>\n",
       "      <td>50</td>\n",
       "      <td>South Lake Union</td>\n",
       "    </tr>\n",
       "    <tr>\n",
       "      <th>1</th>\n",
       "      <td>53549</td>\n",
       "      <td>2016-01-02 17:00:00</td>\n",
       "      <td>2016-01-02 08:00:00</td>\n",
       "      <td>47.628175</td>\n",
       "      <td>-122.341132</td>\n",
       "      <td>50</td>\n",
       "      <td>South Lake Union</td>\n",
       "    </tr>\n",
       "    <tr>\n",
       "      <th>2</th>\n",
       "      <td>53549</td>\n",
       "      <td>2016-01-02 09:00:00</td>\n",
       "      <td>2016-01-02 08:00:00</td>\n",
       "      <td>47.628175</td>\n",
       "      <td>-122.341132</td>\n",
       "      <td>50</td>\n",
       "      <td>South Lake Union</td>\n",
       "    </tr>\n",
       "    <tr>\n",
       "      <th>3</th>\n",
       "      <td>53549</td>\n",
       "      <td>2016-01-02 09:00:00</td>\n",
       "      <td>2016-01-02 08:00:00</td>\n",
       "      <td>47.628175</td>\n",
       "      <td>-122.341132</td>\n",
       "      <td>50</td>\n",
       "      <td>South Lake Union</td>\n",
       "    </tr>\n",
       "    <tr>\n",
       "      <th>4</th>\n",
       "      <td>53549</td>\n",
       "      <td>2016-01-02 09:00:00</td>\n",
       "      <td>2016-01-02 08:00:00</td>\n",
       "      <td>47.628175</td>\n",
       "      <td>-122.341132</td>\n",
       "      <td>50</td>\n",
       "      <td>South Lake Union</td>\n",
       "    </tr>\n",
       "  </tbody>\n",
       "</table>\n",
       "</div>"
      ],
      "text/plain": [
       "   element_key     final_date_time transaction_date_time   latitude  \\\n",
       "0        53549 2016-01-02 10:00:00   2016-01-02 08:00:00  47.628175   \n",
       "1        53549 2016-01-02 17:00:00   2016-01-02 08:00:00  47.628175   \n",
       "2        53549 2016-01-02 09:00:00   2016-01-02 08:00:00  47.628175   \n",
       "3        53549 2016-01-02 09:00:00   2016-01-02 08:00:00  47.628175   \n",
       "4        53549 2016-01-02 09:00:00   2016-01-02 08:00:00  47.628175   \n",
       "\n",
       "    longitude  total_spaces paid_parking_area  \n",
       "0 -122.341132            50  South Lake Union  \n",
       "1 -122.341132            50  South Lake Union  \n",
       "2 -122.341132            50  South Lake Union  \n",
       "3 -122.341132            50  South Lake Union  \n",
       "4 -122.341132            50  South Lake Union  "
      ]
     },
     "execution_count": 114,
     "metadata": {},
     "output_type": "execute_result"
    }
   ],
   "source": [
    "df_cnp.head()"
   ]
  },
  {
   "cell_type": "code",
   "execution_count": 115,
   "metadata": {},
   "outputs": [],
   "source": [
    "# Guardamos las transacciones asociadas con ubicaciones y capacidad de plazas\n",
    "df_cnp.to_csv('./data/ParkingTrans2016_with_Coord_Spaces_conhol.csv', index=False)"
   ]
  },
  {
   "cell_type": "markdown",
   "metadata": {},
   "source": [
    "## Completamos la serie con las horas intermedias faltantes"
   ]
  },
  {
   "cell_type": "code",
   "execution_count": 140,
   "metadata": {},
   "outputs": [],
   "source": [
    "full_transactions = pd.read_csv('./data/FullTrans016_before_ext', parse_dates=['timestamp'])"
   ]
  },
  {
   "cell_type": "code",
   "execution_count": 141,
   "metadata": {},
   "outputs": [],
   "source": [
    "anyo16 = pd.date_range(start='2016-01-01', periods=366*24, freq='H')\n",
    "anyo16 = pd.DataFrame(data=anyo16.to_pydatetime())\n",
    "anyo16.columns = ['timestamp']\n",
    "anyo16 = anyo16.loc[(anyo16.timestamp.dt.hour >= 8) & (anyo16.timestamp.dt.hour < 20)]\n",
    "anyo16['day_year'] = anyo16.timestamp.dt.dayofyear\n",
    "anyo16['hour'] = anyo16.timestamp.dt.hour\n",
    "\n",
    "anyo16_eks = pd.DataFrame()\n",
    "all_eks = sorted(full_transactions.element_key.unique())\n",
    "for ek in all_eks:\n",
    "    anyo16['element_key'] = ek\n",
    "    anyo16_eks = pd.concat([anyo16_eks, anyo16], sort=True)\n",
    "\n",
    "full_transactions['hour'] = full_transactions.timestamp.dt.hour\n",
    "full_transactions = full_transactions.drop(columns=['timestamp', 'latitude', 'longitude', 'paid_parking_area'])\n",
    "ft_ext = pd.merge(anyo16_eks, full_transactions, on=['day_year', 'hour', 'element_key'],\n",
    "                           how = 'left', validate='many_to_one')"
   ]
  },
  {
   "cell_type": "code",
   "execution_count": 144,
   "metadata": {},
   "outputs": [],
   "source": [
    "ft_ext = ft_ext.sort_values(['element_key','timestamp'])"
   ]
  },
  {
   "cell_type": "code",
   "execution_count": 145,
   "metadata": {},
   "outputs": [],
   "source": [
    "ft_ext.loc[ft_ext.hour == 8] = ft_ext.loc[ft_ext.hour == 8].fillna(0)"
   ]
  },
  {
   "cell_type": "code",
   "execution_count": 162,
   "metadata": {},
   "outputs": [],
   "source": [
    "ft_ext = ft_ext.ffill()"
   ]
  },
  {
   "cell_type": "code",
   "execution_count": 168,
   "metadata": {},
   "outputs": [],
   "source": [
    "ft_ext = ft_ext.loc[ft_ext.timestamp.dt.weekday != 6]\n",
    "ft_ext = pd.merge(ft_ext, coord, on='element_key', how='left', validate='many_to_one')\n",
    "ft_ext = pd.merge(ft_ext, park_spaces, on='element_key', how='left', validate='many_to_one')"
   ]
  },
  {
   "cell_type": "code",
   "execution_count": 170,
   "metadata": {},
   "outputs": [],
   "source": [
    "ft_ext = ft_ext.drop(columns=['parking_spaces'])"
   ]
  },
  {
   "cell_type": "code",
   "execution_count": 171,
   "metadata": {},
   "outputs": [
    {
     "data": {
      "text/html": [
       "<div>\n",
       "<style scoped>\n",
       "    .dataframe tbody tr th:only-of-type {\n",
       "        vertical-align: middle;\n",
       "    }\n",
       "\n",
       "    .dataframe tbody tr th {\n",
       "        vertical-align: top;\n",
       "    }\n",
       "\n",
       "    .dataframe thead th {\n",
       "        text-align: right;\n",
       "    }\n",
       "</style>\n",
       "<table border=\"1\" class=\"dataframe\">\n",
       "  <thead>\n",
       "    <tr style=\"text-align: right;\">\n",
       "      <th></th>\n",
       "      <th>day_year</th>\n",
       "      <th>element_key</th>\n",
       "      <th>hour</th>\n",
       "      <th>timestamp</th>\n",
       "      <th>occupation_perc</th>\n",
       "      <th>latitude</th>\n",
       "      <th>longitude</th>\n",
       "      <th>paid_parking_area</th>\n",
       "    </tr>\n",
       "  </thead>\n",
       "  <tbody>\n",
       "    <tr>\n",
       "      <th>0</th>\n",
       "      <td>1</td>\n",
       "      <td>1001</td>\n",
       "      <td>8</td>\n",
       "      <td>2016-01-01 08:00:00</td>\n",
       "      <td>0.0</td>\n",
       "      <td>47.602862</td>\n",
       "      <td>-122.334703</td>\n",
       "      <td>Pioneer Square</td>\n",
       "    </tr>\n",
       "    <tr>\n",
       "      <th>1</th>\n",
       "      <td>1</td>\n",
       "      <td>1001</td>\n",
       "      <td>9</td>\n",
       "      <td>2016-01-01 09:00:00</td>\n",
       "      <td>0.0</td>\n",
       "      <td>47.602862</td>\n",
       "      <td>-122.334703</td>\n",
       "      <td>Pioneer Square</td>\n",
       "    </tr>\n",
       "    <tr>\n",
       "      <th>2</th>\n",
       "      <td>1</td>\n",
       "      <td>1001</td>\n",
       "      <td>10</td>\n",
       "      <td>2016-01-01 10:00:00</td>\n",
       "      <td>0.0</td>\n",
       "      <td>47.602862</td>\n",
       "      <td>-122.334703</td>\n",
       "      <td>Pioneer Square</td>\n",
       "    </tr>\n",
       "    <tr>\n",
       "      <th>3</th>\n",
       "      <td>1</td>\n",
       "      <td>1001</td>\n",
       "      <td>11</td>\n",
       "      <td>2016-01-01 11:00:00</td>\n",
       "      <td>0.0</td>\n",
       "      <td>47.602862</td>\n",
       "      <td>-122.334703</td>\n",
       "      <td>Pioneer Square</td>\n",
       "    </tr>\n",
       "    <tr>\n",
       "      <th>4</th>\n",
       "      <td>1</td>\n",
       "      <td>1001</td>\n",
       "      <td>12</td>\n",
       "      <td>2016-01-01 12:00:00</td>\n",
       "      <td>0.0</td>\n",
       "      <td>47.602862</td>\n",
       "      <td>-122.334703</td>\n",
       "      <td>Pioneer Square</td>\n",
       "    </tr>\n",
       "  </tbody>\n",
       "</table>\n",
       "</div>"
      ],
      "text/plain": [
       "   day_year  element_key  hour           timestamp  occupation_perc  \\\n",
       "0         1         1001     8 2016-01-01 08:00:00              0.0   \n",
       "1         1         1001     9 2016-01-01 09:00:00              0.0   \n",
       "2         1         1001    10 2016-01-01 10:00:00              0.0   \n",
       "3         1         1001    11 2016-01-01 11:00:00              0.0   \n",
       "4         1         1001    12 2016-01-01 12:00:00              0.0   \n",
       "\n",
       "    latitude   longitude paid_parking_area  \n",
       "0  47.602862 -122.334703    Pioneer Square  \n",
       "1  47.602862 -122.334703    Pioneer Square  \n",
       "2  47.602862 -122.334703    Pioneer Square  \n",
       "3  47.602862 -122.334703    Pioneer Square  \n",
       "4  47.602862 -122.334703    Pioneer Square  "
      ]
     },
     "execution_count": 171,
     "metadata": {},
     "output_type": "execute_result"
    }
   ],
   "source": [
    "ft_ext.head()"
   ]
  },
  {
   "cell_type": "code",
   "execution_count": 172,
   "metadata": {},
   "outputs": [],
   "source": [
    "ft_ext.to_csv('./data/FullTrans2016_ext_conhol.csv', index=False)"
   ]
  },
  {
   "cell_type": "markdown",
   "metadata": {},
   "source": [
    "## Completamos la serie con variables adicionales"
   ]
  },
  {
   "cell_type": "markdown",
   "metadata": {},
   "source": [
    "#### Datos meteorológicos globales"
   ]
  },
  {
   "cell_type": "code",
   "execution_count": 173,
   "metadata": {},
   "outputs": [],
   "source": [
    "meteo = pd.read_csv('./data/seattleWeather_1948-2017.csv', parse_dates=['DATE'])\n",
    "meteo.columns = meteo.columns.map(lambda x: camelToSnake(x))\n",
    "\n",
    "meteo = meteo.loc[meteo['date'].dt.year == 2016]\n",
    "meteo['day_year'] = meteo.date.dt.dayofyear\n",
    "\n",
    "meteo.tmax = ((meteo.tmax - 32) * 5.0/9.0).map(\"{0:.2f}\".format).astype(float)\n",
    "meteo.tmin = ((meteo.tmin - 32) * 5.0/9.0).map(\"{0:.2f}\".format).astype(float)"
   ]
  },
  {
   "cell_type": "code",
   "execution_count": 174,
   "metadata": {},
   "outputs": [
    {
     "data": {
      "text/html": [
       "<div>\n",
       "<style scoped>\n",
       "    .dataframe tbody tr th:only-of-type {\n",
       "        vertical-align: middle;\n",
       "    }\n",
       "\n",
       "    .dataframe tbody tr th {\n",
       "        vertical-align: top;\n",
       "    }\n",
       "\n",
       "    .dataframe thead th {\n",
       "        text-align: right;\n",
       "    }\n",
       "</style>\n",
       "<table border=\"1\" class=\"dataframe\">\n",
       "  <thead>\n",
       "    <tr style=\"text-align: right;\">\n",
       "      <th></th>\n",
       "      <th>date</th>\n",
       "      <th>prcp</th>\n",
       "      <th>tmax</th>\n",
       "      <th>tmin</th>\n",
       "      <th>rain</th>\n",
       "      <th>day_year</th>\n",
       "    </tr>\n",
       "  </thead>\n",
       "  <tbody>\n",
       "    <tr>\n",
       "      <th>24837</th>\n",
       "      <td>2016-01-01</td>\n",
       "      <td>0.00</td>\n",
       "      <td>7.78</td>\n",
       "      <td>-2.22</td>\n",
       "      <td>False</td>\n",
       "      <td>1</td>\n",
       "    </tr>\n",
       "    <tr>\n",
       "      <th>24838</th>\n",
       "      <td>2016-01-02</td>\n",
       "      <td>0.00</td>\n",
       "      <td>5.56</td>\n",
       "      <td>-3.89</td>\n",
       "      <td>False</td>\n",
       "      <td>2</td>\n",
       "    </tr>\n",
       "    <tr>\n",
       "      <th>24839</th>\n",
       "      <td>2016-01-03</td>\n",
       "      <td>0.02</td>\n",
       "      <td>4.44</td>\n",
       "      <td>-0.56</td>\n",
       "      <td>True</td>\n",
       "      <td>3</td>\n",
       "    </tr>\n",
       "    <tr>\n",
       "      <th>24840</th>\n",
       "      <td>2016-01-04</td>\n",
       "      <td>0.15</td>\n",
       "      <td>3.33</td>\n",
       "      <td>1.67</td>\n",
       "      <td>True</td>\n",
       "      <td>4</td>\n",
       "    </tr>\n",
       "    <tr>\n",
       "      <th>24841</th>\n",
       "      <td>2016-01-05</td>\n",
       "      <td>0.11</td>\n",
       "      <td>7.78</td>\n",
       "      <td>2.22</td>\n",
       "      <td>True</td>\n",
       "      <td>5</td>\n",
       "    </tr>\n",
       "  </tbody>\n",
       "</table>\n",
       "</div>"
      ],
      "text/plain": [
       "            date  prcp  tmax  tmin   rain  day_year\n",
       "24837 2016-01-01  0.00  7.78 -2.22  False         1\n",
       "24838 2016-01-02  0.00  5.56 -3.89  False         2\n",
       "24839 2016-01-03  0.02  4.44 -0.56   True         3\n",
       "24840 2016-01-04  0.15  3.33  1.67   True         4\n",
       "24841 2016-01-05  0.11  7.78  2.22   True         5"
      ]
     },
     "execution_count": 174,
     "metadata": {},
     "output_type": "execute_result"
    }
   ],
   "source": [
    "meteo.head()"
   ]
  },
  {
   "cell_type": "code",
   "execution_count": 175,
   "metadata": {},
   "outputs": [
    {
     "data": {
      "text/plain": [
       "(366, 6)"
      ]
     },
     "execution_count": 175,
     "metadata": {},
     "output_type": "execute_result"
    }
   ],
   "source": [
    "meteo.shape"
   ]
  },
  {
   "cell_type": "code",
   "execution_count": 176,
   "metadata": {},
   "outputs": [],
   "source": [
    "ft_ext_meteo = pd.merge(ft_ext, meteo, on='day_year', how='left', validate='many_to_one')"
   ]
  },
  {
   "cell_type": "code",
   "execution_count": 177,
   "metadata": {},
   "outputs": [
    {
     "data": {
      "text/html": [
       "<div>\n",
       "<style scoped>\n",
       "    .dataframe tbody tr th:only-of-type {\n",
       "        vertical-align: middle;\n",
       "    }\n",
       "\n",
       "    .dataframe tbody tr th {\n",
       "        vertical-align: top;\n",
       "    }\n",
       "\n",
       "    .dataframe thead th {\n",
       "        text-align: right;\n",
       "    }\n",
       "</style>\n",
       "<table border=\"1\" class=\"dataframe\">\n",
       "  <thead>\n",
       "    <tr style=\"text-align: right;\">\n",
       "      <th></th>\n",
       "      <th>day_year</th>\n",
       "      <th>element_key</th>\n",
       "      <th>hour</th>\n",
       "      <th>timestamp</th>\n",
       "      <th>occupation_perc</th>\n",
       "      <th>latitude</th>\n",
       "      <th>longitude</th>\n",
       "      <th>paid_parking_area</th>\n",
       "      <th>date</th>\n",
       "      <th>prcp</th>\n",
       "      <th>tmax</th>\n",
       "      <th>tmin</th>\n",
       "      <th>rain</th>\n",
       "    </tr>\n",
       "  </thead>\n",
       "  <tbody>\n",
       "    <tr>\n",
       "      <th>0</th>\n",
       "      <td>1</td>\n",
       "      <td>1001</td>\n",
       "      <td>8</td>\n",
       "      <td>2016-01-01 08:00:00</td>\n",
       "      <td>0.0</td>\n",
       "      <td>47.602862</td>\n",
       "      <td>-122.334703</td>\n",
       "      <td>Pioneer Square</td>\n",
       "      <td>2016-01-01</td>\n",
       "      <td>0.0</td>\n",
       "      <td>7.78</td>\n",
       "      <td>-2.22</td>\n",
       "      <td>False</td>\n",
       "    </tr>\n",
       "    <tr>\n",
       "      <th>1</th>\n",
       "      <td>1</td>\n",
       "      <td>1001</td>\n",
       "      <td>9</td>\n",
       "      <td>2016-01-01 09:00:00</td>\n",
       "      <td>0.0</td>\n",
       "      <td>47.602862</td>\n",
       "      <td>-122.334703</td>\n",
       "      <td>Pioneer Square</td>\n",
       "      <td>2016-01-01</td>\n",
       "      <td>0.0</td>\n",
       "      <td>7.78</td>\n",
       "      <td>-2.22</td>\n",
       "      <td>False</td>\n",
       "    </tr>\n",
       "    <tr>\n",
       "      <th>2</th>\n",
       "      <td>1</td>\n",
       "      <td>1001</td>\n",
       "      <td>10</td>\n",
       "      <td>2016-01-01 10:00:00</td>\n",
       "      <td>0.0</td>\n",
       "      <td>47.602862</td>\n",
       "      <td>-122.334703</td>\n",
       "      <td>Pioneer Square</td>\n",
       "      <td>2016-01-01</td>\n",
       "      <td>0.0</td>\n",
       "      <td>7.78</td>\n",
       "      <td>-2.22</td>\n",
       "      <td>False</td>\n",
       "    </tr>\n",
       "    <tr>\n",
       "      <th>3</th>\n",
       "      <td>1</td>\n",
       "      <td>1001</td>\n",
       "      <td>11</td>\n",
       "      <td>2016-01-01 11:00:00</td>\n",
       "      <td>0.0</td>\n",
       "      <td>47.602862</td>\n",
       "      <td>-122.334703</td>\n",
       "      <td>Pioneer Square</td>\n",
       "      <td>2016-01-01</td>\n",
       "      <td>0.0</td>\n",
       "      <td>7.78</td>\n",
       "      <td>-2.22</td>\n",
       "      <td>False</td>\n",
       "    </tr>\n",
       "    <tr>\n",
       "      <th>4</th>\n",
       "      <td>1</td>\n",
       "      <td>1001</td>\n",
       "      <td>12</td>\n",
       "      <td>2016-01-01 12:00:00</td>\n",
       "      <td>0.0</td>\n",
       "      <td>47.602862</td>\n",
       "      <td>-122.334703</td>\n",
       "      <td>Pioneer Square</td>\n",
       "      <td>2016-01-01</td>\n",
       "      <td>0.0</td>\n",
       "      <td>7.78</td>\n",
       "      <td>-2.22</td>\n",
       "      <td>False</td>\n",
       "    </tr>\n",
       "  </tbody>\n",
       "</table>\n",
       "</div>"
      ],
      "text/plain": [
       "   day_year  element_key  hour           timestamp  occupation_perc  \\\n",
       "0         1         1001     8 2016-01-01 08:00:00              0.0   \n",
       "1         1         1001     9 2016-01-01 09:00:00              0.0   \n",
       "2         1         1001    10 2016-01-01 10:00:00              0.0   \n",
       "3         1         1001    11 2016-01-01 11:00:00              0.0   \n",
       "4         1         1001    12 2016-01-01 12:00:00              0.0   \n",
       "\n",
       "    latitude   longitude paid_parking_area       date  prcp  tmax  tmin   rain  \n",
       "0  47.602862 -122.334703    Pioneer Square 2016-01-01   0.0  7.78 -2.22  False  \n",
       "1  47.602862 -122.334703    Pioneer Square 2016-01-01   0.0  7.78 -2.22  False  \n",
       "2  47.602862 -122.334703    Pioneer Square 2016-01-01   0.0  7.78 -2.22  False  \n",
       "3  47.602862 -122.334703    Pioneer Square 2016-01-01   0.0  7.78 -2.22  False  \n",
       "4  47.602862 -122.334703    Pioneer Square 2016-01-01   0.0  7.78 -2.22  False  "
      ]
     },
     "execution_count": 177,
     "metadata": {},
     "output_type": "execute_result"
    }
   ],
   "source": [
    "ft_ext_meteo.head()"
   ]
  },
  {
   "cell_type": "code",
   "execution_count": 178,
   "metadata": {},
   "outputs": [],
   "source": [
    "ft_ext_meteo = ft_ext_meteo.drop(columns=['date','rain'])"
   ]
  },
  {
   "cell_type": "markdown",
   "metadata": {},
   "source": [
    "#### Sensores de temperatura"
   ]
  },
  {
   "cell_type": "code",
   "execution_count": 179,
   "metadata": {},
   "outputs": [],
   "source": [
    "weather_stations = pd.read_csv('./data/Coord_EK_stations.csv')\n",
    "weather_stations.head()\n",
    "weather_stations = weather_stations.drop(columns=['latitude', 'longitude'])"
   ]
  },
  {
   "cell_type": "code",
   "execution_count": 180,
   "metadata": {},
   "outputs": [],
   "source": [
    "ft_ext_meteo_ws = pd.merge(ft_ext_meteo, weather_stations, on='element_key', how='left', validate='many_to_one')"
   ]
  },
  {
   "cell_type": "code",
   "execution_count": 181,
   "metadata": {},
   "outputs": [
    {
     "data": {
      "text/html": [
       "<div>\n",
       "<style scoped>\n",
       "    .dataframe tbody tr th:only-of-type {\n",
       "        vertical-align: middle;\n",
       "    }\n",
       "\n",
       "    .dataframe tbody tr th {\n",
       "        vertical-align: top;\n",
       "    }\n",
       "\n",
       "    .dataframe thead th {\n",
       "        text-align: right;\n",
       "    }\n",
       "</style>\n",
       "<table border=\"1\" class=\"dataframe\">\n",
       "  <thead>\n",
       "    <tr style=\"text-align: right;\">\n",
       "      <th></th>\n",
       "      <th>day_year</th>\n",
       "      <th>element_key</th>\n",
       "      <th>hour</th>\n",
       "      <th>timestamp</th>\n",
       "      <th>occupation_perc</th>\n",
       "      <th>latitude</th>\n",
       "      <th>longitude</th>\n",
       "      <th>paid_parking_area</th>\n",
       "      <th>prcp</th>\n",
       "      <th>tmax</th>\n",
       "      <th>tmin</th>\n",
       "      <th>station_closest</th>\n",
       "    </tr>\n",
       "  </thead>\n",
       "  <tbody>\n",
       "    <tr>\n",
       "      <th>0</th>\n",
       "      <td>1</td>\n",
       "      <td>1001</td>\n",
       "      <td>8</td>\n",
       "      <td>2016-01-01 08:00:00</td>\n",
       "      <td>0.0</td>\n",
       "      <td>47.602862</td>\n",
       "      <td>-122.334703</td>\n",
       "      <td>Pioneer Square</td>\n",
       "      <td>0.0</td>\n",
       "      <td>7.78</td>\n",
       "      <td>-2.22</td>\n",
       "      <td>5</td>\n",
       "    </tr>\n",
       "    <tr>\n",
       "      <th>1</th>\n",
       "      <td>1</td>\n",
       "      <td>1001</td>\n",
       "      <td>9</td>\n",
       "      <td>2016-01-01 09:00:00</td>\n",
       "      <td>0.0</td>\n",
       "      <td>47.602862</td>\n",
       "      <td>-122.334703</td>\n",
       "      <td>Pioneer Square</td>\n",
       "      <td>0.0</td>\n",
       "      <td>7.78</td>\n",
       "      <td>-2.22</td>\n",
       "      <td>5</td>\n",
       "    </tr>\n",
       "    <tr>\n",
       "      <th>2</th>\n",
       "      <td>1</td>\n",
       "      <td>1001</td>\n",
       "      <td>10</td>\n",
       "      <td>2016-01-01 10:00:00</td>\n",
       "      <td>0.0</td>\n",
       "      <td>47.602862</td>\n",
       "      <td>-122.334703</td>\n",
       "      <td>Pioneer Square</td>\n",
       "      <td>0.0</td>\n",
       "      <td>7.78</td>\n",
       "      <td>-2.22</td>\n",
       "      <td>5</td>\n",
       "    </tr>\n",
       "    <tr>\n",
       "      <th>3</th>\n",
       "      <td>1</td>\n",
       "      <td>1001</td>\n",
       "      <td>11</td>\n",
       "      <td>2016-01-01 11:00:00</td>\n",
       "      <td>0.0</td>\n",
       "      <td>47.602862</td>\n",
       "      <td>-122.334703</td>\n",
       "      <td>Pioneer Square</td>\n",
       "      <td>0.0</td>\n",
       "      <td>7.78</td>\n",
       "      <td>-2.22</td>\n",
       "      <td>5</td>\n",
       "    </tr>\n",
       "    <tr>\n",
       "      <th>4</th>\n",
       "      <td>1</td>\n",
       "      <td>1001</td>\n",
       "      <td>12</td>\n",
       "      <td>2016-01-01 12:00:00</td>\n",
       "      <td>0.0</td>\n",
       "      <td>47.602862</td>\n",
       "      <td>-122.334703</td>\n",
       "      <td>Pioneer Square</td>\n",
       "      <td>0.0</td>\n",
       "      <td>7.78</td>\n",
       "      <td>-2.22</td>\n",
       "      <td>5</td>\n",
       "    </tr>\n",
       "  </tbody>\n",
       "</table>\n",
       "</div>"
      ],
      "text/plain": [
       "   day_year  element_key  hour           timestamp  occupation_perc  \\\n",
       "0         1         1001     8 2016-01-01 08:00:00              0.0   \n",
       "1         1         1001     9 2016-01-01 09:00:00              0.0   \n",
       "2         1         1001    10 2016-01-01 10:00:00              0.0   \n",
       "3         1         1001    11 2016-01-01 11:00:00              0.0   \n",
       "4         1         1001    12 2016-01-01 12:00:00              0.0   \n",
       "\n",
       "    latitude   longitude paid_parking_area  prcp  tmax  tmin  station_closest  \n",
       "0  47.602862 -122.334703    Pioneer Square   0.0  7.78 -2.22                5  \n",
       "1  47.602862 -122.334703    Pioneer Square   0.0  7.78 -2.22                5  \n",
       "2  47.602862 -122.334703    Pioneer Square   0.0  7.78 -2.22                5  \n",
       "3  47.602862 -122.334703    Pioneer Square   0.0  7.78 -2.22                5  \n",
       "4  47.602862 -122.334703    Pioneer Square   0.0  7.78 -2.22                5  "
      ]
     },
     "execution_count": 181,
     "metadata": {},
     "output_type": "execute_result"
    }
   ],
   "source": [
    "ft_ext_meteo_ws.head()"
   ]
  },
  {
   "cell_type": "code",
   "execution_count": 182,
   "metadata": {},
   "outputs": [],
   "source": [
    "ft_ext_meteo_ws.timestamp = pd.to_datetime(ft_ext_meteo_ws.timestamp)"
   ]
  },
  {
   "cell_type": "code",
   "execution_count": 183,
   "metadata": {},
   "outputs": [],
   "source": [
    "rwis = pd.read_csv('./data/RWIS_completed.csv', parse_dates=['timestamp'])"
   ]
  },
  {
   "cell_type": "code",
   "execution_count": 184,
   "metadata": {},
   "outputs": [
    {
     "data": {
      "text/html": [
       "<div>\n",
       "<style scoped>\n",
       "    .dataframe tbody tr th:only-of-type {\n",
       "        vertical-align: middle;\n",
       "    }\n",
       "\n",
       "    .dataframe tbody tr th {\n",
       "        vertical-align: top;\n",
       "    }\n",
       "\n",
       "    .dataframe thead th {\n",
       "        text-align: right;\n",
       "    }\n",
       "</style>\n",
       "<table border=\"1\" class=\"dataframe\">\n",
       "  <thead>\n",
       "    <tr style=\"text-align: right;\">\n",
       "      <th></th>\n",
       "      <th>station_closest</th>\n",
       "      <th>timestamp</th>\n",
       "      <th>air_temp</th>\n",
       "      <th>road_temp</th>\n",
       "    </tr>\n",
       "  </thead>\n",
       "  <tbody>\n",
       "    <tr>\n",
       "      <th>0</th>\n",
       "      <td>5</td>\n",
       "      <td>2016-01-01 08:00:00</td>\n",
       "      <td>2.03</td>\n",
       "      <td>-2.63</td>\n",
       "    </tr>\n",
       "    <tr>\n",
       "      <th>1</th>\n",
       "      <td>5</td>\n",
       "      <td>2016-01-01 09:00:00</td>\n",
       "      <td>1.99</td>\n",
       "      <td>-2.27</td>\n",
       "    </tr>\n",
       "    <tr>\n",
       "      <th>2</th>\n",
       "      <td>5</td>\n",
       "      <td>2016-01-01 10:00:00</td>\n",
       "      <td>2.08</td>\n",
       "      <td>-0.89</td>\n",
       "    </tr>\n",
       "    <tr>\n",
       "      <th>3</th>\n",
       "      <td>5</td>\n",
       "      <td>2016-01-01 11:00:00</td>\n",
       "      <td>2.28</td>\n",
       "      <td>2.44</td>\n",
       "    </tr>\n",
       "    <tr>\n",
       "      <th>4</th>\n",
       "      <td>5</td>\n",
       "      <td>2016-01-01 12:00:00</td>\n",
       "      <td>2.57</td>\n",
       "      <td>4.87</td>\n",
       "    </tr>\n",
       "  </tbody>\n",
       "</table>\n",
       "</div>"
      ],
      "text/plain": [
       "   station_closest           timestamp  air_temp  road_temp\n",
       "0                5 2016-01-01 08:00:00      2.03      -2.63\n",
       "1                5 2016-01-01 09:00:00      1.99      -2.27\n",
       "2                5 2016-01-01 10:00:00      2.08      -0.89\n",
       "3                5 2016-01-01 11:00:00      2.28       2.44\n",
       "4                5 2016-01-01 12:00:00      2.57       4.87"
      ]
     },
     "execution_count": 184,
     "metadata": {},
     "output_type": "execute_result"
    }
   ],
   "source": [
    "rwis.head()"
   ]
  },
  {
   "cell_type": "code",
   "execution_count": 185,
   "metadata": {},
   "outputs": [],
   "source": [
    "ft_ext_meteo_ws_rwis = pd.merge(ft_ext_meteo_ws, rwis, on=['timestamp','station_closest'], how='left', \n",
    "                                validate='many_to_one')"
   ]
  },
  {
   "cell_type": "code",
   "execution_count": 186,
   "metadata": {},
   "outputs": [
    {
     "data": {
      "text/html": [
       "<div>\n",
       "<style scoped>\n",
       "    .dataframe tbody tr th:only-of-type {\n",
       "        vertical-align: middle;\n",
       "    }\n",
       "\n",
       "    .dataframe tbody tr th {\n",
       "        vertical-align: top;\n",
       "    }\n",
       "\n",
       "    .dataframe thead th {\n",
       "        text-align: right;\n",
       "    }\n",
       "</style>\n",
       "<table border=\"1\" class=\"dataframe\">\n",
       "  <thead>\n",
       "    <tr style=\"text-align: right;\">\n",
       "      <th></th>\n",
       "      <th>day_year</th>\n",
       "      <th>element_key</th>\n",
       "      <th>hour</th>\n",
       "      <th>timestamp</th>\n",
       "      <th>occupation_perc</th>\n",
       "      <th>latitude</th>\n",
       "      <th>longitude</th>\n",
       "      <th>paid_parking_area</th>\n",
       "      <th>prcp</th>\n",
       "      <th>tmax</th>\n",
       "      <th>tmin</th>\n",
       "      <th>station_closest</th>\n",
       "      <th>air_temp</th>\n",
       "      <th>road_temp</th>\n",
       "    </tr>\n",
       "  </thead>\n",
       "  <tbody>\n",
       "    <tr>\n",
       "      <th>0</th>\n",
       "      <td>1</td>\n",
       "      <td>1001</td>\n",
       "      <td>8</td>\n",
       "      <td>2016-01-01 08:00:00</td>\n",
       "      <td>0.0</td>\n",
       "      <td>47.602862</td>\n",
       "      <td>-122.334703</td>\n",
       "      <td>Pioneer Square</td>\n",
       "      <td>0.0</td>\n",
       "      <td>7.78</td>\n",
       "      <td>-2.22</td>\n",
       "      <td>5</td>\n",
       "      <td>2.03</td>\n",
       "      <td>-2.63</td>\n",
       "    </tr>\n",
       "    <tr>\n",
       "      <th>1</th>\n",
       "      <td>1</td>\n",
       "      <td>1001</td>\n",
       "      <td>9</td>\n",
       "      <td>2016-01-01 09:00:00</td>\n",
       "      <td>0.0</td>\n",
       "      <td>47.602862</td>\n",
       "      <td>-122.334703</td>\n",
       "      <td>Pioneer Square</td>\n",
       "      <td>0.0</td>\n",
       "      <td>7.78</td>\n",
       "      <td>-2.22</td>\n",
       "      <td>5</td>\n",
       "      <td>1.99</td>\n",
       "      <td>-2.27</td>\n",
       "    </tr>\n",
       "    <tr>\n",
       "      <th>2</th>\n",
       "      <td>1</td>\n",
       "      <td>1001</td>\n",
       "      <td>10</td>\n",
       "      <td>2016-01-01 10:00:00</td>\n",
       "      <td>0.0</td>\n",
       "      <td>47.602862</td>\n",
       "      <td>-122.334703</td>\n",
       "      <td>Pioneer Square</td>\n",
       "      <td>0.0</td>\n",
       "      <td>7.78</td>\n",
       "      <td>-2.22</td>\n",
       "      <td>5</td>\n",
       "      <td>2.08</td>\n",
       "      <td>-0.89</td>\n",
       "    </tr>\n",
       "    <tr>\n",
       "      <th>3</th>\n",
       "      <td>1</td>\n",
       "      <td>1001</td>\n",
       "      <td>11</td>\n",
       "      <td>2016-01-01 11:00:00</td>\n",
       "      <td>0.0</td>\n",
       "      <td>47.602862</td>\n",
       "      <td>-122.334703</td>\n",
       "      <td>Pioneer Square</td>\n",
       "      <td>0.0</td>\n",
       "      <td>7.78</td>\n",
       "      <td>-2.22</td>\n",
       "      <td>5</td>\n",
       "      <td>2.28</td>\n",
       "      <td>2.44</td>\n",
       "    </tr>\n",
       "    <tr>\n",
       "      <th>4</th>\n",
       "      <td>1</td>\n",
       "      <td>1001</td>\n",
       "      <td>12</td>\n",
       "      <td>2016-01-01 12:00:00</td>\n",
       "      <td>0.0</td>\n",
       "      <td>47.602862</td>\n",
       "      <td>-122.334703</td>\n",
       "      <td>Pioneer Square</td>\n",
       "      <td>0.0</td>\n",
       "      <td>7.78</td>\n",
       "      <td>-2.22</td>\n",
       "      <td>5</td>\n",
       "      <td>2.57</td>\n",
       "      <td>4.87</td>\n",
       "    </tr>\n",
       "  </tbody>\n",
       "</table>\n",
       "</div>"
      ],
      "text/plain": [
       "   day_year  element_key  hour           timestamp  occupation_perc  \\\n",
       "0         1         1001     8 2016-01-01 08:00:00              0.0   \n",
       "1         1         1001     9 2016-01-01 09:00:00              0.0   \n",
       "2         1         1001    10 2016-01-01 10:00:00              0.0   \n",
       "3         1         1001    11 2016-01-01 11:00:00              0.0   \n",
       "4         1         1001    12 2016-01-01 12:00:00              0.0   \n",
       "\n",
       "    latitude   longitude paid_parking_area  prcp  tmax  tmin  station_closest  \\\n",
       "0  47.602862 -122.334703    Pioneer Square   0.0  7.78 -2.22                5   \n",
       "1  47.602862 -122.334703    Pioneer Square   0.0  7.78 -2.22                5   \n",
       "2  47.602862 -122.334703    Pioneer Square   0.0  7.78 -2.22                5   \n",
       "3  47.602862 -122.334703    Pioneer Square   0.0  7.78 -2.22                5   \n",
       "4  47.602862 -122.334703    Pioneer Square   0.0  7.78 -2.22                5   \n",
       "\n",
       "   air_temp  road_temp  \n",
       "0      2.03      -2.63  \n",
       "1      1.99      -2.27  \n",
       "2      2.08      -0.89  \n",
       "3      2.28       2.44  \n",
       "4      2.57       4.87  "
      ]
     },
     "execution_count": 186,
     "metadata": {},
     "output_type": "execute_result"
    }
   ],
   "source": [
    "ft_ext_meteo_ws_rwis.head()"
   ]
  },
  {
   "cell_type": "markdown",
   "metadata": {},
   "source": [
    "#### Lugares deportivos y de interés cultural"
   ]
  },
  {
   "cell_type": "code",
   "execution_count": 187,
   "metadata": {},
   "outputs": [],
   "source": [
    "cult_sport = pd.read_csv('./data/Coord_cult_&_sport.csv')"
   ]
  },
  {
   "cell_type": "code",
   "execution_count": 188,
   "metadata": {},
   "outputs": [
    {
     "data": {
      "text/html": [
       "<div>\n",
       "<style scoped>\n",
       "    .dataframe tbody tr th:only-of-type {\n",
       "        vertical-align: middle;\n",
       "    }\n",
       "\n",
       "    .dataframe tbody tr th {\n",
       "        vertical-align: top;\n",
       "    }\n",
       "\n",
       "    .dataframe thead th {\n",
       "        text-align: right;\n",
       "    }\n",
       "</style>\n",
       "<table border=\"1\" class=\"dataframe\">\n",
       "  <thead>\n",
       "    <tr style=\"text-align: right;\">\n",
       "      <th></th>\n",
       "      <th>element_key</th>\n",
       "      <th>latitude</th>\n",
       "      <th>longitude</th>\n",
       "      <th>poi</th>\n",
       "      <th>baseball</th>\n",
       "      <th>tennis</th>\n",
       "      <th>basket</th>\n",
       "      <th>soccer</th>\n",
       "    </tr>\n",
       "  </thead>\n",
       "  <tbody>\n",
       "    <tr>\n",
       "      <th>0</th>\n",
       "      <td>1001</td>\n",
       "      <td>47.602862</td>\n",
       "      <td>-122.334703</td>\n",
       "      <td>1</td>\n",
       "      <td>0</td>\n",
       "      <td>0</td>\n",
       "      <td>0</td>\n",
       "      <td>0</td>\n",
       "    </tr>\n",
       "    <tr>\n",
       "      <th>1</th>\n",
       "      <td>1002</td>\n",
       "      <td>47.602997</td>\n",
       "      <td>-122.334538</td>\n",
       "      <td>1</td>\n",
       "      <td>0</td>\n",
       "      <td>0</td>\n",
       "      <td>0</td>\n",
       "      <td>0</td>\n",
       "    </tr>\n",
       "    <tr>\n",
       "      <th>2</th>\n",
       "      <td>1005</td>\n",
       "      <td>47.603602</td>\n",
       "      <td>-122.335382</td>\n",
       "      <td>0</td>\n",
       "      <td>0</td>\n",
       "      <td>0</td>\n",
       "      <td>0</td>\n",
       "      <td>0</td>\n",
       "    </tr>\n",
       "    <tr>\n",
       "      <th>3</th>\n",
       "      <td>1006</td>\n",
       "      <td>47.603725</td>\n",
       "      <td>-122.335171</td>\n",
       "      <td>0</td>\n",
       "      <td>0</td>\n",
       "      <td>0</td>\n",
       "      <td>0</td>\n",
       "      <td>0</td>\n",
       "    </tr>\n",
       "    <tr>\n",
       "      <th>4</th>\n",
       "      <td>1009</td>\n",
       "      <td>47.605010</td>\n",
       "      <td>-122.336669</td>\n",
       "      <td>1</td>\n",
       "      <td>0</td>\n",
       "      <td>0</td>\n",
       "      <td>0</td>\n",
       "      <td>0</td>\n",
       "    </tr>\n",
       "  </tbody>\n",
       "</table>\n",
       "</div>"
      ],
      "text/plain": [
       "   element_key   latitude   longitude  poi  baseball  tennis  basket  soccer\n",
       "0         1001  47.602862 -122.334703    1         0       0       0       0\n",
       "1         1002  47.602997 -122.334538    1         0       0       0       0\n",
       "2         1005  47.603602 -122.335382    0         0       0       0       0\n",
       "3         1006  47.603725 -122.335171    0         0       0       0       0\n",
       "4         1009  47.605010 -122.336669    1         0       0       0       0"
      ]
     },
     "execution_count": 188,
     "metadata": {},
     "output_type": "execute_result"
    }
   ],
   "source": [
    "cult_sport.head()"
   ]
  },
  {
   "cell_type": "code",
   "execution_count": 189,
   "metadata": {},
   "outputs": [],
   "source": [
    "cult_sport = cult_sport.drop(columns=['latitude', 'longitude'])\n",
    "ft_ext_met_ws_rwis_cs = pd.merge(ft_ext_meteo_ws_rwis, cult_sport, on=['element_key'], \n",
    "                             how='left', validate='many_to_one')"
   ]
  },
  {
   "cell_type": "code",
   "execution_count": 190,
   "metadata": {},
   "outputs": [
    {
     "data": {
      "text/html": [
       "<div>\n",
       "<style scoped>\n",
       "    .dataframe tbody tr th:only-of-type {\n",
       "        vertical-align: middle;\n",
       "    }\n",
       "\n",
       "    .dataframe tbody tr th {\n",
       "        vertical-align: top;\n",
       "    }\n",
       "\n",
       "    .dataframe thead th {\n",
       "        text-align: right;\n",
       "    }\n",
       "</style>\n",
       "<table border=\"1\" class=\"dataframe\">\n",
       "  <thead>\n",
       "    <tr style=\"text-align: right;\">\n",
       "      <th></th>\n",
       "      <th>day_year</th>\n",
       "      <th>element_key</th>\n",
       "      <th>hour</th>\n",
       "      <th>timestamp</th>\n",
       "      <th>occupation_perc</th>\n",
       "      <th>latitude</th>\n",
       "      <th>longitude</th>\n",
       "      <th>paid_parking_area</th>\n",
       "      <th>prcp</th>\n",
       "      <th>tmax</th>\n",
       "      <th>tmin</th>\n",
       "      <th>station_closest</th>\n",
       "      <th>air_temp</th>\n",
       "      <th>road_temp</th>\n",
       "      <th>poi</th>\n",
       "      <th>baseball</th>\n",
       "      <th>tennis</th>\n",
       "      <th>basket</th>\n",
       "      <th>soccer</th>\n",
       "    </tr>\n",
       "  </thead>\n",
       "  <tbody>\n",
       "    <tr>\n",
       "      <th>0</th>\n",
       "      <td>1</td>\n",
       "      <td>1001</td>\n",
       "      <td>8</td>\n",
       "      <td>2016-01-01 08:00:00</td>\n",
       "      <td>0.0</td>\n",
       "      <td>47.602862</td>\n",
       "      <td>-122.334703</td>\n",
       "      <td>Pioneer Square</td>\n",
       "      <td>0.0</td>\n",
       "      <td>7.78</td>\n",
       "      <td>-2.22</td>\n",
       "      <td>5</td>\n",
       "      <td>2.03</td>\n",
       "      <td>-2.63</td>\n",
       "      <td>1</td>\n",
       "      <td>0</td>\n",
       "      <td>0</td>\n",
       "      <td>0</td>\n",
       "      <td>0</td>\n",
       "    </tr>\n",
       "    <tr>\n",
       "      <th>1</th>\n",
       "      <td>1</td>\n",
       "      <td>1001</td>\n",
       "      <td>9</td>\n",
       "      <td>2016-01-01 09:00:00</td>\n",
       "      <td>0.0</td>\n",
       "      <td>47.602862</td>\n",
       "      <td>-122.334703</td>\n",
       "      <td>Pioneer Square</td>\n",
       "      <td>0.0</td>\n",
       "      <td>7.78</td>\n",
       "      <td>-2.22</td>\n",
       "      <td>5</td>\n",
       "      <td>1.99</td>\n",
       "      <td>-2.27</td>\n",
       "      <td>1</td>\n",
       "      <td>0</td>\n",
       "      <td>0</td>\n",
       "      <td>0</td>\n",
       "      <td>0</td>\n",
       "    </tr>\n",
       "    <tr>\n",
       "      <th>2</th>\n",
       "      <td>1</td>\n",
       "      <td>1001</td>\n",
       "      <td>10</td>\n",
       "      <td>2016-01-01 10:00:00</td>\n",
       "      <td>0.0</td>\n",
       "      <td>47.602862</td>\n",
       "      <td>-122.334703</td>\n",
       "      <td>Pioneer Square</td>\n",
       "      <td>0.0</td>\n",
       "      <td>7.78</td>\n",
       "      <td>-2.22</td>\n",
       "      <td>5</td>\n",
       "      <td>2.08</td>\n",
       "      <td>-0.89</td>\n",
       "      <td>1</td>\n",
       "      <td>0</td>\n",
       "      <td>0</td>\n",
       "      <td>0</td>\n",
       "      <td>0</td>\n",
       "    </tr>\n",
       "    <tr>\n",
       "      <th>3</th>\n",
       "      <td>1</td>\n",
       "      <td>1001</td>\n",
       "      <td>11</td>\n",
       "      <td>2016-01-01 11:00:00</td>\n",
       "      <td>0.0</td>\n",
       "      <td>47.602862</td>\n",
       "      <td>-122.334703</td>\n",
       "      <td>Pioneer Square</td>\n",
       "      <td>0.0</td>\n",
       "      <td>7.78</td>\n",
       "      <td>-2.22</td>\n",
       "      <td>5</td>\n",
       "      <td>2.28</td>\n",
       "      <td>2.44</td>\n",
       "      <td>1</td>\n",
       "      <td>0</td>\n",
       "      <td>0</td>\n",
       "      <td>0</td>\n",
       "      <td>0</td>\n",
       "    </tr>\n",
       "    <tr>\n",
       "      <th>4</th>\n",
       "      <td>1</td>\n",
       "      <td>1001</td>\n",
       "      <td>12</td>\n",
       "      <td>2016-01-01 12:00:00</td>\n",
       "      <td>0.0</td>\n",
       "      <td>47.602862</td>\n",
       "      <td>-122.334703</td>\n",
       "      <td>Pioneer Square</td>\n",
       "      <td>0.0</td>\n",
       "      <td>7.78</td>\n",
       "      <td>-2.22</td>\n",
       "      <td>5</td>\n",
       "      <td>2.57</td>\n",
       "      <td>4.87</td>\n",
       "      <td>1</td>\n",
       "      <td>0</td>\n",
       "      <td>0</td>\n",
       "      <td>0</td>\n",
       "      <td>0</td>\n",
       "    </tr>\n",
       "  </tbody>\n",
       "</table>\n",
       "</div>"
      ],
      "text/plain": [
       "   day_year  element_key  hour           timestamp  occupation_perc  \\\n",
       "0         1         1001     8 2016-01-01 08:00:00              0.0   \n",
       "1         1         1001     9 2016-01-01 09:00:00              0.0   \n",
       "2         1         1001    10 2016-01-01 10:00:00              0.0   \n",
       "3         1         1001    11 2016-01-01 11:00:00              0.0   \n",
       "4         1         1001    12 2016-01-01 12:00:00              0.0   \n",
       "\n",
       "    latitude   longitude paid_parking_area  prcp  tmax  tmin  station_closest  \\\n",
       "0  47.602862 -122.334703    Pioneer Square   0.0  7.78 -2.22                5   \n",
       "1  47.602862 -122.334703    Pioneer Square   0.0  7.78 -2.22                5   \n",
       "2  47.602862 -122.334703    Pioneer Square   0.0  7.78 -2.22                5   \n",
       "3  47.602862 -122.334703    Pioneer Square   0.0  7.78 -2.22                5   \n",
       "4  47.602862 -122.334703    Pioneer Square   0.0  7.78 -2.22                5   \n",
       "\n",
       "   air_temp  road_temp  poi  baseball  tennis  basket  soccer  \n",
       "0      2.03      -2.63    1         0       0       0       0  \n",
       "1      1.99      -2.27    1         0       0       0       0  \n",
       "2      2.08      -0.89    1         0       0       0       0  \n",
       "3      2.28       2.44    1         0       0       0       0  \n",
       "4      2.57       4.87    1         0       0       0       0  "
      ]
     },
     "execution_count": 190,
     "metadata": {},
     "output_type": "execute_result"
    }
   ],
   "source": [
    "ft_ext_met_ws_rwis_cs.head()"
   ]
  },
  {
   "cell_type": "markdown",
   "metadata": {},
   "source": [
    "#### Eventos"
   ]
  },
  {
   "cell_type": "code",
   "execution_count": 191,
   "metadata": {},
   "outputs": [],
   "source": [
    "events = pd.read_csv('./data/Events_2016.csv')"
   ]
  },
  {
   "cell_type": "code",
   "execution_count": 192,
   "metadata": {},
   "outputs": [
    {
     "data": {
      "text/html": [
       "<div>\n",
       "<style scoped>\n",
       "    .dataframe tbody tr th:only-of-type {\n",
       "        vertical-align: middle;\n",
       "    }\n",
       "\n",
       "    .dataframe tbody tr th {\n",
       "        vertical-align: top;\n",
       "    }\n",
       "\n",
       "    .dataframe thead th {\n",
       "        text-align: right;\n",
       "    }\n",
       "</style>\n",
       "<table border=\"1\" class=\"dataframe\">\n",
       "  <thead>\n",
       "    <tr style=\"text-align: right;\">\n",
       "      <th></th>\n",
       "      <th>Latitude</th>\n",
       "      <th>Longitude</th>\n",
       "      <th>day_year</th>\n",
       "    </tr>\n",
       "  </thead>\n",
       "  <tbody>\n",
       "    <tr>\n",
       "      <th>0</th>\n",
       "      <td>47.611543</td>\n",
       "      <td>-122.33263</td>\n",
       "      <td>105</td>\n",
       "    </tr>\n",
       "    <tr>\n",
       "      <th>1</th>\n",
       "      <td>47.611543</td>\n",
       "      <td>-122.33263</td>\n",
       "      <td>106</td>\n",
       "    </tr>\n",
       "    <tr>\n",
       "      <th>2</th>\n",
       "      <td>47.601130</td>\n",
       "      <td>-122.32980</td>\n",
       "      <td>137</td>\n",
       "    </tr>\n",
       "    <tr>\n",
       "      <th>3</th>\n",
       "      <td>47.628560</td>\n",
       "      <td>-122.33979</td>\n",
       "      <td>137</td>\n",
       "    </tr>\n",
       "    <tr>\n",
       "      <th>4</th>\n",
       "      <td>47.636290</td>\n",
       "      <td>-122.35922</td>\n",
       "      <td>137</td>\n",
       "    </tr>\n",
       "  </tbody>\n",
       "</table>\n",
       "</div>"
      ],
      "text/plain": [
       "    Latitude  Longitude  day_year\n",
       "0  47.611543 -122.33263       105\n",
       "1  47.611543 -122.33263       106\n",
       "2  47.601130 -122.32980       137\n",
       "3  47.628560 -122.33979       137\n",
       "4  47.636290 -122.35922       137"
      ]
     },
     "execution_count": 192,
     "metadata": {},
     "output_type": "execute_result"
    }
   ],
   "source": [
    "events.head()"
   ]
  },
  {
   "cell_type": "code",
   "execution_count": 193,
   "metadata": {},
   "outputs": [],
   "source": [
    "# Función para calcular la distancia entre dos puntos teniendo en cuenta la curvatura de la tierra (no Euclidea)\n",
    "from math import radians, cos, sin, asin, sqrt, acos\n",
    "\n",
    "def haversine(lon1, lat1, lon2, lat2):\n",
    "    # convert decimal degrees to radians \n",
    "    lon1, lat1, lon2, lat2 = map(radians, [lon1, lat1, lon2, lat2])\n",
    "    # haversine formula \n",
    "    dlon = lon2 - lon1 \n",
    "    dlat = lat2 - lat1 \n",
    "    a = sin(dlat/2)**2 + cos(lat1) * cos(lat2) * sin(dlon/2)**2\n",
    "    c = 2 * asin(sqrt(a)) \n",
    "    r = 6373 # Radius of earth kilometers\n",
    "    return c * r"
   ]
  },
  {
   "cell_type": "code",
   "execution_count": 194,
   "metadata": {},
   "outputs": [],
   "source": [
    "# Creamos una nueva columna que indica si hay un evento próximo al element_key\n",
    "# Una vez que un element_key tiene un punto cercano (<=75 metros) no es necesario revisar otros (break)\n",
    "ft_ext_met_ws_rwis_cs['event'] = 0\n",
    "for ft_index, ft_row in ft_ext_met_ws_rwis_cs.iterrows():\n",
    "    events_sub = events.loc[events.day_year == ft_row.day_year]\n",
    "    for e_index, e_row in events_sub.iterrows():\n",
    "        dist = haversine(e_row.Longitude, e_row.Latitude, ft_row.longitude, ft_row.latitude)\n",
    "        if dist <= 0.075:\n",
    "            ft_ext_met_ws_rwis_cs.at[ft_index,'event'] = 1\n",
    "            break"
   ]
  },
  {
   "cell_type": "markdown",
   "metadata": {},
   "source": [
    "#### Polución"
   ]
  },
  {
   "cell_type": "code",
   "execution_count": 195,
   "metadata": {},
   "outputs": [],
   "source": [
    "aqds = pd.read_csv('./data/Air_Quality_Data_Seattle_2016.csv')"
   ]
  },
  {
   "cell_type": "code",
   "execution_count": 196,
   "metadata": {},
   "outputs": [
    {
     "data": {
      "text/html": [
       "<div>\n",
       "<style scoped>\n",
       "    .dataframe tbody tr th:only-of-type {\n",
       "        vertical-align: middle;\n",
       "    }\n",
       "\n",
       "    .dataframe tbody tr th {\n",
       "        vertical-align: top;\n",
       "    }\n",
       "\n",
       "    .dataframe thead th {\n",
       "        text-align: right;\n",
       "    }\n",
       "</style>\n",
       "<table border=\"1\" class=\"dataframe\">\n",
       "  <thead>\n",
       "    <tr style=\"text-align: right;\">\n",
       "      <th></th>\n",
       "      <th>day_year</th>\n",
       "      <th>no2</th>\n",
       "      <th>co</th>\n",
       "      <th>pm2_5</th>\n",
       "      <th>o3</th>\n",
       "    </tr>\n",
       "  </thead>\n",
       "  <tbody>\n",
       "    <tr>\n",
       "      <th>0</th>\n",
       "      <td>1</td>\n",
       "      <td>75.262667</td>\n",
       "      <td>858.75</td>\n",
       "      <td>26.685000</td>\n",
       "      <td>61.0</td>\n",
       "    </tr>\n",
       "    <tr>\n",
       "      <th>1</th>\n",
       "      <td>2</td>\n",
       "      <td>71.001333</td>\n",
       "      <td>1030.50</td>\n",
       "      <td>19.875000</td>\n",
       "      <td>83.0</td>\n",
       "    </tr>\n",
       "    <tr>\n",
       "      <th>2</th>\n",
       "      <td>3</td>\n",
       "      <td>72.568000</td>\n",
       "      <td>801.50</td>\n",
       "      <td>14.281250</td>\n",
       "      <td>62.0</td>\n",
       "    </tr>\n",
       "    <tr>\n",
       "      <th>3</th>\n",
       "      <td>4</td>\n",
       "      <td>64.860000</td>\n",
       "      <td>629.75</td>\n",
       "      <td>11.047368</td>\n",
       "      <td>49.0</td>\n",
       "    </tr>\n",
       "    <tr>\n",
       "      <th>4</th>\n",
       "      <td>5</td>\n",
       "      <td>70.938667</td>\n",
       "      <td>1030.50</td>\n",
       "      <td>14.912500</td>\n",
       "      <td>45.0</td>\n",
       "    </tr>\n",
       "  </tbody>\n",
       "</table>\n",
       "</div>"
      ],
      "text/plain": [
       "   day_year        no2       co      pm2_5    o3\n",
       "0         1  75.262667   858.75  26.685000  61.0\n",
       "1         2  71.001333  1030.50  19.875000  83.0\n",
       "2         3  72.568000   801.50  14.281250  62.0\n",
       "3         4  64.860000   629.75  11.047368  49.0\n",
       "4         5  70.938667  1030.50  14.912500  45.0"
      ]
     },
     "execution_count": 196,
     "metadata": {},
     "output_type": "execute_result"
    }
   ],
   "source": [
    "aqds.head()"
   ]
  },
  {
   "cell_type": "code",
   "execution_count": 197,
   "metadata": {},
   "outputs": [],
   "source": [
    "ft_ext_met_ws_rwis_cs_aq = pd.merge(ft_ext_met_ws_rwis_cs, aqds, on=['day_year'], how='left', validate='many_to_one')"
   ]
  },
  {
   "cell_type": "code",
   "execution_count": 198,
   "metadata": {},
   "outputs": [
    {
     "data": {
      "text/html": [
       "<div>\n",
       "<style scoped>\n",
       "    .dataframe tbody tr th:only-of-type {\n",
       "        vertical-align: middle;\n",
       "    }\n",
       "\n",
       "    .dataframe tbody tr th {\n",
       "        vertical-align: top;\n",
       "    }\n",
       "\n",
       "    .dataframe thead th {\n",
       "        text-align: right;\n",
       "    }\n",
       "</style>\n",
       "<table border=\"1\" class=\"dataframe\">\n",
       "  <thead>\n",
       "    <tr style=\"text-align: right;\">\n",
       "      <th></th>\n",
       "      <th>day_year</th>\n",
       "      <th>element_key</th>\n",
       "      <th>hour</th>\n",
       "      <th>timestamp</th>\n",
       "      <th>occupation_perc</th>\n",
       "      <th>latitude</th>\n",
       "      <th>longitude</th>\n",
       "      <th>paid_parking_area</th>\n",
       "      <th>prcp</th>\n",
       "      <th>tmax</th>\n",
       "      <th>...</th>\n",
       "      <th>poi</th>\n",
       "      <th>baseball</th>\n",
       "      <th>tennis</th>\n",
       "      <th>basket</th>\n",
       "      <th>soccer</th>\n",
       "      <th>event</th>\n",
       "      <th>no2</th>\n",
       "      <th>co</th>\n",
       "      <th>pm2_5</th>\n",
       "      <th>o3</th>\n",
       "    </tr>\n",
       "  </thead>\n",
       "  <tbody>\n",
       "    <tr>\n",
       "      <th>0</th>\n",
       "      <td>1</td>\n",
       "      <td>1001</td>\n",
       "      <td>8</td>\n",
       "      <td>2016-01-01 08:00:00</td>\n",
       "      <td>0.0</td>\n",
       "      <td>47.602862</td>\n",
       "      <td>-122.334703</td>\n",
       "      <td>Pioneer Square</td>\n",
       "      <td>0.0</td>\n",
       "      <td>7.78</td>\n",
       "      <td>...</td>\n",
       "      <td>1</td>\n",
       "      <td>0</td>\n",
       "      <td>0</td>\n",
       "      <td>0</td>\n",
       "      <td>0</td>\n",
       "      <td>0</td>\n",
       "      <td>75.262667</td>\n",
       "      <td>858.75</td>\n",
       "      <td>26.685</td>\n",
       "      <td>61.0</td>\n",
       "    </tr>\n",
       "    <tr>\n",
       "      <th>1</th>\n",
       "      <td>1</td>\n",
       "      <td>1001</td>\n",
       "      <td>9</td>\n",
       "      <td>2016-01-01 09:00:00</td>\n",
       "      <td>0.0</td>\n",
       "      <td>47.602862</td>\n",
       "      <td>-122.334703</td>\n",
       "      <td>Pioneer Square</td>\n",
       "      <td>0.0</td>\n",
       "      <td>7.78</td>\n",
       "      <td>...</td>\n",
       "      <td>1</td>\n",
       "      <td>0</td>\n",
       "      <td>0</td>\n",
       "      <td>0</td>\n",
       "      <td>0</td>\n",
       "      <td>0</td>\n",
       "      <td>75.262667</td>\n",
       "      <td>858.75</td>\n",
       "      <td>26.685</td>\n",
       "      <td>61.0</td>\n",
       "    </tr>\n",
       "    <tr>\n",
       "      <th>2</th>\n",
       "      <td>1</td>\n",
       "      <td>1001</td>\n",
       "      <td>10</td>\n",
       "      <td>2016-01-01 10:00:00</td>\n",
       "      <td>0.0</td>\n",
       "      <td>47.602862</td>\n",
       "      <td>-122.334703</td>\n",
       "      <td>Pioneer Square</td>\n",
       "      <td>0.0</td>\n",
       "      <td>7.78</td>\n",
       "      <td>...</td>\n",
       "      <td>1</td>\n",
       "      <td>0</td>\n",
       "      <td>0</td>\n",
       "      <td>0</td>\n",
       "      <td>0</td>\n",
       "      <td>0</td>\n",
       "      <td>75.262667</td>\n",
       "      <td>858.75</td>\n",
       "      <td>26.685</td>\n",
       "      <td>61.0</td>\n",
       "    </tr>\n",
       "    <tr>\n",
       "      <th>3</th>\n",
       "      <td>1</td>\n",
       "      <td>1001</td>\n",
       "      <td>11</td>\n",
       "      <td>2016-01-01 11:00:00</td>\n",
       "      <td>0.0</td>\n",
       "      <td>47.602862</td>\n",
       "      <td>-122.334703</td>\n",
       "      <td>Pioneer Square</td>\n",
       "      <td>0.0</td>\n",
       "      <td>7.78</td>\n",
       "      <td>...</td>\n",
       "      <td>1</td>\n",
       "      <td>0</td>\n",
       "      <td>0</td>\n",
       "      <td>0</td>\n",
       "      <td>0</td>\n",
       "      <td>0</td>\n",
       "      <td>75.262667</td>\n",
       "      <td>858.75</td>\n",
       "      <td>26.685</td>\n",
       "      <td>61.0</td>\n",
       "    </tr>\n",
       "    <tr>\n",
       "      <th>4</th>\n",
       "      <td>1</td>\n",
       "      <td>1001</td>\n",
       "      <td>12</td>\n",
       "      <td>2016-01-01 12:00:00</td>\n",
       "      <td>0.0</td>\n",
       "      <td>47.602862</td>\n",
       "      <td>-122.334703</td>\n",
       "      <td>Pioneer Square</td>\n",
       "      <td>0.0</td>\n",
       "      <td>7.78</td>\n",
       "      <td>...</td>\n",
       "      <td>1</td>\n",
       "      <td>0</td>\n",
       "      <td>0</td>\n",
       "      <td>0</td>\n",
       "      <td>0</td>\n",
       "      <td>0</td>\n",
       "      <td>75.262667</td>\n",
       "      <td>858.75</td>\n",
       "      <td>26.685</td>\n",
       "      <td>61.0</td>\n",
       "    </tr>\n",
       "  </tbody>\n",
       "</table>\n",
       "<p>5 rows × 24 columns</p>\n",
       "</div>"
      ],
      "text/plain": [
       "   day_year  element_key  hour           timestamp  occupation_perc  \\\n",
       "0         1         1001     8 2016-01-01 08:00:00              0.0   \n",
       "1         1         1001     9 2016-01-01 09:00:00              0.0   \n",
       "2         1         1001    10 2016-01-01 10:00:00              0.0   \n",
       "3         1         1001    11 2016-01-01 11:00:00              0.0   \n",
       "4         1         1001    12 2016-01-01 12:00:00              0.0   \n",
       "\n",
       "    latitude   longitude paid_parking_area  prcp  tmax  ...   poi  baseball  \\\n",
       "0  47.602862 -122.334703    Pioneer Square   0.0  7.78  ...     1         0   \n",
       "1  47.602862 -122.334703    Pioneer Square   0.0  7.78  ...     1         0   \n",
       "2  47.602862 -122.334703    Pioneer Square   0.0  7.78  ...     1         0   \n",
       "3  47.602862 -122.334703    Pioneer Square   0.0  7.78  ...     1         0   \n",
       "4  47.602862 -122.334703    Pioneer Square   0.0  7.78  ...     1         0   \n",
       "\n",
       "   tennis  basket  soccer  event        no2      co   pm2_5    o3  \n",
       "0       0       0       0      0  75.262667  858.75  26.685  61.0  \n",
       "1       0       0       0      0  75.262667  858.75  26.685  61.0  \n",
       "2       0       0       0      0  75.262667  858.75  26.685  61.0  \n",
       "3       0       0       0      0  75.262667  858.75  26.685  61.0  \n",
       "4       0       0       0      0  75.262667  858.75  26.685  61.0  \n",
       "\n",
       "[5 rows x 24 columns]"
      ]
     },
     "execution_count": 198,
     "metadata": {},
     "output_type": "execute_result"
    }
   ],
   "source": [
    "ft_ext_met_ws_rwis_cs_aq.head()"
   ]
  },
  {
   "cell_type": "code",
   "execution_count": 199,
   "metadata": {},
   "outputs": [
    {
     "data": {
      "text/plain": [
       "Index(['day_year', 'element_key', 'hour', 'timestamp', 'occupation_perc',\n",
       "       'latitude', 'longitude', 'paid_parking_area', 'prcp', 'tmax', 'tmin',\n",
       "       'station_closest', 'air_temp', 'road_temp', 'poi', 'baseball', 'tennis',\n",
       "       'basket', 'soccer', 'event', 'no2', 'co', 'pm2_5', 'o3'],\n",
       "      dtype='object')"
      ]
     },
     "execution_count": 199,
     "metadata": {},
     "output_type": "execute_result"
    }
   ],
   "source": [
    "ft_ext_met_ws_rwis_cs_aq.columns"
   ]
  },
  {
   "cell_type": "code",
   "execution_count": 200,
   "metadata": {},
   "outputs": [
    {
     "data": {
      "text/plain": [
       "day_year             0\n",
       "element_key          0\n",
       "hour                 0\n",
       "timestamp            0\n",
       "occupation_perc      0\n",
       "latitude             0\n",
       "longitude            0\n",
       "paid_parking_area    0\n",
       "prcp                 0\n",
       "tmax                 0\n",
       "tmin                 0\n",
       "station_closest      0\n",
       "air_temp             0\n",
       "road_temp            0\n",
       "poi                  0\n",
       "baseball             0\n",
       "tennis               0\n",
       "basket               0\n",
       "soccer               0\n",
       "event                0\n",
       "no2                  0\n",
       "co                   0\n",
       "pm2_5                0\n",
       "o3                   0\n",
       "dtype: int64"
      ]
     },
     "execution_count": 200,
     "metadata": {},
     "output_type": "execute_result"
    }
   ],
   "source": [
    "ft_ext_met_ws_rwis_cs_aq.isnull().sum()"
   ]
  },
  {
   "cell_type": "code",
   "execution_count": 201,
   "metadata": {},
   "outputs": [],
   "source": [
    "ft_ext_met_ws_rwis_cs_aq = ft_ext_met_ws_rwis_cs_aq.drop(columns=['station_closest'])\n",
    "ft_ext_met_ws_rwis_cs_aq.to_csv('./data/Serie_Total2016_ext.csv', index=False)"
   ]
  },
  {
   "cell_type": "code",
   "execution_count": 203,
   "metadata": {},
   "outputs": [
    {
     "data": {
      "text/plain": [
       "((4182480, 23),\n",
       " (4182480, 20),\n",
       " (4182480, 14),\n",
       " (4182480, 12),\n",
       " (4182480, 11),\n",
       " (4182480, 8))"
      ]
     },
     "execution_count": 203,
     "metadata": {},
     "output_type": "execute_result"
    }
   ],
   "source": [
    "# Comprobaciones\n",
    "ft_ext_met_ws_rwis_cs_aq.shape, ft_ext_met_ws_rwis_cs.shape, ft_ext_meteo_ws_rwis.shape, ft_ext_meteo_ws.shape, ft_ext_meteo.shape, ft_ext.shape"
   ]
  },
  {
   "cell_type": "markdown",
   "metadata": {},
   "source": [
    "## Filtramos la serie"
   ]
  },
  {
   "cell_type": "markdown",
   "metadata": {},
   "source": [
    "#### Filtrado de Element Keys con menos días sin transacciones"
   ]
  },
  {
   "cell_type": "code",
   "execution_count": 205,
   "metadata": {},
   "outputs": [],
   "source": [
    "ek_day_ocu = ft_ext_met_ws_rwis_cs_aq.groupby(['element_key','day_year']).occupation_perc.sum()\n",
    "ek_day_ocu = ek_day_ocu.reset_index()"
   ]
  },
  {
   "cell_type": "code",
   "execution_count": 244,
   "metadata": {},
   "outputs": [
    {
     "data": {
      "text/html": [
       "<div>\n",
       "<style scoped>\n",
       "    .dataframe tbody tr th:only-of-type {\n",
       "        vertical-align: middle;\n",
       "    }\n",
       "\n",
       "    .dataframe tbody tr th {\n",
       "        vertical-align: top;\n",
       "    }\n",
       "\n",
       "    .dataframe thead th {\n",
       "        text-align: right;\n",
       "    }\n",
       "</style>\n",
       "<table border=\"1\" class=\"dataframe\">\n",
       "  <thead>\n",
       "    <tr style=\"text-align: right;\">\n",
       "      <th></th>\n",
       "      <th>element_key</th>\n",
       "      <th>day_year</th>\n",
       "      <th>occupation_perc</th>\n",
       "    </tr>\n",
       "  </thead>\n",
       "  <tbody>\n",
       "    <tr>\n",
       "      <th>0</th>\n",
       "      <td>1001</td>\n",
       "      <td>1</td>\n",
       "      <td>0.00</td>\n",
       "    </tr>\n",
       "    <tr>\n",
       "      <th>1</th>\n",
       "      <td>1001</td>\n",
       "      <td>2</td>\n",
       "      <td>14.28</td>\n",
       "    </tr>\n",
       "    <tr>\n",
       "      <th>2</th>\n",
       "      <td>1001</td>\n",
       "      <td>4</td>\n",
       "      <td>71.43</td>\n",
       "    </tr>\n",
       "    <tr>\n",
       "      <th>3</th>\n",
       "      <td>1001</td>\n",
       "      <td>5</td>\n",
       "      <td>85.72</td>\n",
       "    </tr>\n",
       "    <tr>\n",
       "      <th>4</th>\n",
       "      <td>1001</td>\n",
       "      <td>6</td>\n",
       "      <td>164.28</td>\n",
       "    </tr>\n",
       "  </tbody>\n",
       "</table>\n",
       "</div>"
      ],
      "text/plain": [
       "   element_key  day_year  occupation_perc\n",
       "0         1001         1             0.00\n",
       "1         1001         2            14.28\n",
       "2         1001         4            71.43\n",
       "3         1001         5            85.72\n",
       "4         1001         6           164.28"
      ]
     },
     "execution_count": 244,
     "metadata": {},
     "output_type": "execute_result"
    }
   ],
   "source": [
    "ek_day_ocu.head()"
   ]
  },
  {
   "cell_type": "code",
   "execution_count": 238,
   "metadata": {},
   "outputs": [],
   "source": [
    "alldays_list = ek_day_ocu.loc[(ek_day_ocu.occupation_perc == 0)].groupby(\n",
    "    'element_key').day_year.count().sort_values().head(165).index.get_values()"
   ]
  },
  {
   "cell_type": "markdown",
   "metadata": {},
   "source": [
    "#### Filtrado de Element Keys con mayor número de transacciones"
   ]
  },
  {
   "cell_type": "code",
   "execution_count": 227,
   "metadata": {},
   "outputs": [],
   "source": [
    "top100_list = df_cnp.groupby('element_key').total_spaces.count().sort_values(\n",
    "    ascending=False).head(100).index.get_values()"
   ]
  },
  {
   "cell_type": "markdown",
   "metadata": {},
   "source": [
    "#### Selección final de Element Keys "
   ]
  },
  {
   "cell_type": "code",
   "execution_count": 239,
   "metadata": {},
   "outputs": [
    {
     "data": {
      "text/plain": [
       "30"
      ]
     },
     "execution_count": 239,
     "metadata": {},
     "output_type": "execute_result"
    }
   ],
   "source": [
    "len(set(top100_list) & set(alldays_list))"
   ]
  },
  {
   "cell_type": "code",
   "execution_count": 240,
   "metadata": {},
   "outputs": [],
   "source": [
    "selected_list = list(set(top100_list) & set(alldays_list))"
   ]
  },
  {
   "cell_type": "code",
   "execution_count": 279,
   "metadata": {},
   "outputs": [],
   "source": [
    "df_sel = ft_ext_met_ws_rwis_cs_aq.loc[ft_ext_met_ws_rwis_cs_aq.element_key.isin(selected_list)]"
   ]
  },
  {
   "cell_type": "code",
   "execution_count": 280,
   "metadata": {},
   "outputs": [
    {
     "data": {
      "text/html": [
       "<div>\n",
       "<style scoped>\n",
       "    .dataframe tbody tr th:only-of-type {\n",
       "        vertical-align: middle;\n",
       "    }\n",
       "\n",
       "    .dataframe tbody tr th {\n",
       "        vertical-align: top;\n",
       "    }\n",
       "\n",
       "    .dataframe thead th {\n",
       "        text-align: right;\n",
       "    }\n",
       "</style>\n",
       "<table border=\"1\" class=\"dataframe\">\n",
       "  <thead>\n",
       "    <tr style=\"text-align: right;\">\n",
       "      <th></th>\n",
       "      <th>day_year</th>\n",
       "      <th>element_key</th>\n",
       "      <th>hour</th>\n",
       "      <th>timestamp</th>\n",
       "      <th>occupation_perc</th>\n",
       "      <th>latitude</th>\n",
       "      <th>longitude</th>\n",
       "      <th>paid_parking_area</th>\n",
       "      <th>prcp</th>\n",
       "      <th>tmax</th>\n",
       "      <th>...</th>\n",
       "      <th>poi</th>\n",
       "      <th>baseball</th>\n",
       "      <th>tennis</th>\n",
       "      <th>basket</th>\n",
       "      <th>soccer</th>\n",
       "      <th>event</th>\n",
       "      <th>no2</th>\n",
       "      <th>co</th>\n",
       "      <th>pm2_5</th>\n",
       "      <th>o3</th>\n",
       "    </tr>\n",
       "  </thead>\n",
       "  <tbody>\n",
       "    <tr>\n",
       "      <th>64056</th>\n",
       "      <td>1</td>\n",
       "      <td>1037</td>\n",
       "      <td>8</td>\n",
       "      <td>2016-01-01 08:00:00</td>\n",
       "      <td>0.0</td>\n",
       "      <td>47.621478</td>\n",
       "      <td>-122.355531</td>\n",
       "      <td>Uptown</td>\n",
       "      <td>0.0</td>\n",
       "      <td>7.78</td>\n",
       "      <td>...</td>\n",
       "      <td>0</td>\n",
       "      <td>0</td>\n",
       "      <td>0</td>\n",
       "      <td>0</td>\n",
       "      <td>0</td>\n",
       "      <td>0</td>\n",
       "      <td>75.262667</td>\n",
       "      <td>858.75</td>\n",
       "      <td>26.685</td>\n",
       "      <td>61.0</td>\n",
       "    </tr>\n",
       "    <tr>\n",
       "      <th>64057</th>\n",
       "      <td>1</td>\n",
       "      <td>1037</td>\n",
       "      <td>9</td>\n",
       "      <td>2016-01-01 09:00:00</td>\n",
       "      <td>0.0</td>\n",
       "      <td>47.621478</td>\n",
       "      <td>-122.355531</td>\n",
       "      <td>Uptown</td>\n",
       "      <td>0.0</td>\n",
       "      <td>7.78</td>\n",
       "      <td>...</td>\n",
       "      <td>0</td>\n",
       "      <td>0</td>\n",
       "      <td>0</td>\n",
       "      <td>0</td>\n",
       "      <td>0</td>\n",
       "      <td>0</td>\n",
       "      <td>75.262667</td>\n",
       "      <td>858.75</td>\n",
       "      <td>26.685</td>\n",
       "      <td>61.0</td>\n",
       "    </tr>\n",
       "    <tr>\n",
       "      <th>64058</th>\n",
       "      <td>1</td>\n",
       "      <td>1037</td>\n",
       "      <td>10</td>\n",
       "      <td>2016-01-01 10:00:00</td>\n",
       "      <td>0.0</td>\n",
       "      <td>47.621478</td>\n",
       "      <td>-122.355531</td>\n",
       "      <td>Uptown</td>\n",
       "      <td>0.0</td>\n",
       "      <td>7.78</td>\n",
       "      <td>...</td>\n",
       "      <td>0</td>\n",
       "      <td>0</td>\n",
       "      <td>0</td>\n",
       "      <td>0</td>\n",
       "      <td>0</td>\n",
       "      <td>0</td>\n",
       "      <td>75.262667</td>\n",
       "      <td>858.75</td>\n",
       "      <td>26.685</td>\n",
       "      <td>61.0</td>\n",
       "    </tr>\n",
       "    <tr>\n",
       "      <th>64059</th>\n",
       "      <td>1</td>\n",
       "      <td>1037</td>\n",
       "      <td>11</td>\n",
       "      <td>2016-01-01 11:00:00</td>\n",
       "      <td>0.0</td>\n",
       "      <td>47.621478</td>\n",
       "      <td>-122.355531</td>\n",
       "      <td>Uptown</td>\n",
       "      <td>0.0</td>\n",
       "      <td>7.78</td>\n",
       "      <td>...</td>\n",
       "      <td>0</td>\n",
       "      <td>0</td>\n",
       "      <td>0</td>\n",
       "      <td>0</td>\n",
       "      <td>0</td>\n",
       "      <td>0</td>\n",
       "      <td>75.262667</td>\n",
       "      <td>858.75</td>\n",
       "      <td>26.685</td>\n",
       "      <td>61.0</td>\n",
       "    </tr>\n",
       "    <tr>\n",
       "      <th>64060</th>\n",
       "      <td>1</td>\n",
       "      <td>1037</td>\n",
       "      <td>12</td>\n",
       "      <td>2016-01-01 12:00:00</td>\n",
       "      <td>0.0</td>\n",
       "      <td>47.621478</td>\n",
       "      <td>-122.355531</td>\n",
       "      <td>Uptown</td>\n",
       "      <td>0.0</td>\n",
       "      <td>7.78</td>\n",
       "      <td>...</td>\n",
       "      <td>0</td>\n",
       "      <td>0</td>\n",
       "      <td>0</td>\n",
       "      <td>0</td>\n",
       "      <td>0</td>\n",
       "      <td>0</td>\n",
       "      <td>75.262667</td>\n",
       "      <td>858.75</td>\n",
       "      <td>26.685</td>\n",
       "      <td>61.0</td>\n",
       "    </tr>\n",
       "  </tbody>\n",
       "</table>\n",
       "<p>5 rows × 23 columns</p>\n",
       "</div>"
      ],
      "text/plain": [
       "       day_year  element_key  hour           timestamp  occupation_perc  \\\n",
       "64056         1         1037     8 2016-01-01 08:00:00              0.0   \n",
       "64057         1         1037     9 2016-01-01 09:00:00              0.0   \n",
       "64058         1         1037    10 2016-01-01 10:00:00              0.0   \n",
       "64059         1         1037    11 2016-01-01 11:00:00              0.0   \n",
       "64060         1         1037    12 2016-01-01 12:00:00              0.0   \n",
       "\n",
       "        latitude   longitude paid_parking_area  prcp  tmax  ...   poi  \\\n",
       "64056  47.621478 -122.355531            Uptown   0.0  7.78  ...     0   \n",
       "64057  47.621478 -122.355531            Uptown   0.0  7.78  ...     0   \n",
       "64058  47.621478 -122.355531            Uptown   0.0  7.78  ...     0   \n",
       "64059  47.621478 -122.355531            Uptown   0.0  7.78  ...     0   \n",
       "64060  47.621478 -122.355531            Uptown   0.0  7.78  ...     0   \n",
       "\n",
       "       baseball  tennis  basket  soccer  event        no2      co   pm2_5  \\\n",
       "64056         0       0       0       0      0  75.262667  858.75  26.685   \n",
       "64057         0       0       0       0      0  75.262667  858.75  26.685   \n",
       "64058         0       0       0       0      0  75.262667  858.75  26.685   \n",
       "64059         0       0       0       0      0  75.262667  858.75  26.685   \n",
       "64060         0       0       0       0      0  75.262667  858.75  26.685   \n",
       "\n",
       "         o3  \n",
       "64056  61.0  \n",
       "64057  61.0  \n",
       "64058  61.0  \n",
       "64059  61.0  \n",
       "64060  61.0  \n",
       "\n",
       "[5 rows x 23 columns]"
      ]
     },
     "execution_count": 280,
     "metadata": {},
     "output_type": "execute_result"
    }
   ],
   "source": [
    "df_sel.head()"
   ]
  },
  {
   "cell_type": "code",
   "execution_count": 281,
   "metadata": {},
   "outputs": [],
   "source": [
    "# Para los días festivos interpolamos\n",
    "eks_sel = sorted(df_sel.element_key.unique())\n",
    "hol_days = [1, 18, 46, 151, 186, 249, 316, 329, 361]\n",
    "hours = list(range(8,20))\n",
    "\n",
    "for ek in eks_sel:\n",
    "    for hd in hol_days:\n",
    "        for h in hours:\n",
    "            i = df_sel.loc[(df_sel.element_key == ek) & (df_sel.day_year == hd) & (df_sel.hour == h)].index[0]\n",
    "            if hd != 1:\n",
    "                new_op1 = df_sel.occupation_perc.loc[(df_sel.element_key == ek) & (df_sel.day_year == (hd-7)) & (\n",
    "                    df_sel.hour == h)].values[0]\n",
    "                new_op2 = df_sel.occupation_perc.loc[(df_sel.element_key == ek) & (df_sel.day_year == (hd-14)) & (\n",
    "                    df_sel.hour == h)].values[0]\n",
    "            else:\n",
    "                new_op1 = df_sel.occupation_perc.loc[(df_sel.element_key == ek) & (df_sel.day_year == (hd+7)) & (\n",
    "                    df_sel.hour == h)].values[0]\n",
    "                new_op2 = df_sel.occupation_perc.loc[(df_sel.element_key == ek) & (df_sel.day_year == (hd+14)) & (\n",
    "                    df_sel.hour == h)].values[0]\n",
    "            df_sel.at[i,'occupation_perc'] = (new_op1 + new_op2)/2"
   ]
  },
  {
   "cell_type": "code",
   "execution_count": 282,
   "metadata": {},
   "outputs": [
    {
     "data": {
      "text/plain": [
       "(113040, 23)"
      ]
     },
     "execution_count": 282,
     "metadata": {},
     "output_type": "execute_result"
    }
   ],
   "source": [
    "df_sel.shape"
   ]
  },
  {
   "cell_type": "code",
   "execution_count": 283,
   "metadata": {},
   "outputs": [
    {
     "data": {
      "text/plain": [
       "62458    1257\n",
       "81117     896\n",
       "13793     832\n",
       "13549     789\n",
       "41030     679\n",
       "69098     672\n",
       "86449     647\n",
       "1433      641\n",
       "35681     632\n",
       "35682     631\n",
       "18622     630\n",
       "85381     237\n",
       "59958     209\n",
       "85385     185\n",
       "37134     179\n",
       "76962     154\n",
       "63125     136\n",
       "34938     122\n",
       "1045      121\n",
       "9510      120\n",
       "14677     115\n",
       "37177     102\n",
       "24557      75\n",
       "1046       67\n",
       "11878      63\n",
       "76961      62\n",
       "1037       54\n",
       "79741      38\n",
       "30698      31\n",
       "12289      18\n",
       "Name: element_key, dtype: int64"
      ]
     },
     "execution_count": 283,
     "metadata": {},
     "output_type": "execute_result"
    }
   ],
   "source": [
    "df_sel.element_key.loc[df_sel.occupation_perc == 0].value_counts()"
   ]
  },
  {
   "cell_type": "code",
   "execution_count": 284,
   "metadata": {},
   "outputs": [
    {
     "data": {
      "text/plain": [
       "9.194975230007078"
      ]
     },
     "execution_count": 284,
     "metadata": {},
     "output_type": "execute_result"
    }
   ],
   "source": [
    "df_sel.element_key.loc[df_sel.occupation_perc == 0].count()/df_sel.shape[0]*100  # 9.5%"
   ]
  },
  {
   "cell_type": "code",
   "execution_count": 285,
   "metadata": {},
   "outputs": [
    {
     "data": {
      "text/html": [
       "<div>\n",
       "<style scoped>\n",
       "    .dataframe tbody tr th:only-of-type {\n",
       "        vertical-align: middle;\n",
       "    }\n",
       "\n",
       "    .dataframe tbody tr th {\n",
       "        vertical-align: top;\n",
       "    }\n",
       "\n",
       "    .dataframe thead th {\n",
       "        text-align: right;\n",
       "    }\n",
       "</style>\n",
       "<table border=\"1\" class=\"dataframe\">\n",
       "  <thead>\n",
       "    <tr style=\"text-align: right;\">\n",
       "      <th></th>\n",
       "      <th>day_year</th>\n",
       "      <th>element_key</th>\n",
       "      <th>hour</th>\n",
       "      <th>timestamp</th>\n",
       "      <th>occupation_perc</th>\n",
       "      <th>latitude</th>\n",
       "      <th>longitude</th>\n",
       "      <th>paid_parking_area</th>\n",
       "      <th>prcp</th>\n",
       "      <th>tmax</th>\n",
       "      <th>...</th>\n",
       "      <th>poi</th>\n",
       "      <th>baseball</th>\n",
       "      <th>tennis</th>\n",
       "      <th>basket</th>\n",
       "      <th>soccer</th>\n",
       "      <th>event</th>\n",
       "      <th>no2</th>\n",
       "      <th>co</th>\n",
       "      <th>pm2_5</th>\n",
       "      <th>o3</th>\n",
       "    </tr>\n",
       "  </thead>\n",
       "  <tbody>\n",
       "    <tr>\n",
       "      <th>64056</th>\n",
       "      <td>1</td>\n",
       "      <td>1037</td>\n",
       "      <td>8</td>\n",
       "      <td>2016-01-01 08:00:00</td>\n",
       "      <td>5.770</td>\n",
       "      <td>47.621478</td>\n",
       "      <td>-122.355531</td>\n",
       "      <td>Uptown</td>\n",
       "      <td>0.0</td>\n",
       "      <td>7.78</td>\n",
       "      <td>...</td>\n",
       "      <td>0</td>\n",
       "      <td>0</td>\n",
       "      <td>0</td>\n",
       "      <td>0</td>\n",
       "      <td>0</td>\n",
       "      <td>0</td>\n",
       "      <td>75.262667</td>\n",
       "      <td>858.75</td>\n",
       "      <td>26.685</td>\n",
       "      <td>61.0</td>\n",
       "    </tr>\n",
       "    <tr>\n",
       "      <th>64057</th>\n",
       "      <td>1</td>\n",
       "      <td>1037</td>\n",
       "      <td>9</td>\n",
       "      <td>2016-01-01 09:00:00</td>\n",
       "      <td>7.695</td>\n",
       "      <td>47.621478</td>\n",
       "      <td>-122.355531</td>\n",
       "      <td>Uptown</td>\n",
       "      <td>0.0</td>\n",
       "      <td>7.78</td>\n",
       "      <td>...</td>\n",
       "      <td>0</td>\n",
       "      <td>0</td>\n",
       "      <td>0</td>\n",
       "      <td>0</td>\n",
       "      <td>0</td>\n",
       "      <td>0</td>\n",
       "      <td>75.262667</td>\n",
       "      <td>858.75</td>\n",
       "      <td>26.685</td>\n",
       "      <td>61.0</td>\n",
       "    </tr>\n",
       "    <tr>\n",
       "      <th>64058</th>\n",
       "      <td>1</td>\n",
       "      <td>1037</td>\n",
       "      <td>10</td>\n",
       "      <td>2016-01-01 10:00:00</td>\n",
       "      <td>9.615</td>\n",
       "      <td>47.621478</td>\n",
       "      <td>-122.355531</td>\n",
       "      <td>Uptown</td>\n",
       "      <td>0.0</td>\n",
       "      <td>7.78</td>\n",
       "      <td>...</td>\n",
       "      <td>0</td>\n",
       "      <td>0</td>\n",
       "      <td>0</td>\n",
       "      <td>0</td>\n",
       "      <td>0</td>\n",
       "      <td>0</td>\n",
       "      <td>75.262667</td>\n",
       "      <td>858.75</td>\n",
       "      <td>26.685</td>\n",
       "      <td>61.0</td>\n",
       "    </tr>\n",
       "    <tr>\n",
       "      <th>64059</th>\n",
       "      <td>1</td>\n",
       "      <td>1037</td>\n",
       "      <td>11</td>\n",
       "      <td>2016-01-01 11:00:00</td>\n",
       "      <td>13.465</td>\n",
       "      <td>47.621478</td>\n",
       "      <td>-122.355531</td>\n",
       "      <td>Uptown</td>\n",
       "      <td>0.0</td>\n",
       "      <td>7.78</td>\n",
       "      <td>...</td>\n",
       "      <td>0</td>\n",
       "      <td>0</td>\n",
       "      <td>0</td>\n",
       "      <td>0</td>\n",
       "      <td>0</td>\n",
       "      <td>0</td>\n",
       "      <td>75.262667</td>\n",
       "      <td>858.75</td>\n",
       "      <td>26.685</td>\n",
       "      <td>61.0</td>\n",
       "    </tr>\n",
       "    <tr>\n",
       "      <th>64060</th>\n",
       "      <td>1</td>\n",
       "      <td>1037</td>\n",
       "      <td>12</td>\n",
       "      <td>2016-01-01 12:00:00</td>\n",
       "      <td>19.230</td>\n",
       "      <td>47.621478</td>\n",
       "      <td>-122.355531</td>\n",
       "      <td>Uptown</td>\n",
       "      <td>0.0</td>\n",
       "      <td>7.78</td>\n",
       "      <td>...</td>\n",
       "      <td>0</td>\n",
       "      <td>0</td>\n",
       "      <td>0</td>\n",
       "      <td>0</td>\n",
       "      <td>0</td>\n",
       "      <td>0</td>\n",
       "      <td>75.262667</td>\n",
       "      <td>858.75</td>\n",
       "      <td>26.685</td>\n",
       "      <td>61.0</td>\n",
       "    </tr>\n",
       "  </tbody>\n",
       "</table>\n",
       "<p>5 rows × 23 columns</p>\n",
       "</div>"
      ],
      "text/plain": [
       "       day_year  element_key  hour           timestamp  occupation_perc  \\\n",
       "64056         1         1037     8 2016-01-01 08:00:00            5.770   \n",
       "64057         1         1037     9 2016-01-01 09:00:00            7.695   \n",
       "64058         1         1037    10 2016-01-01 10:00:00            9.615   \n",
       "64059         1         1037    11 2016-01-01 11:00:00           13.465   \n",
       "64060         1         1037    12 2016-01-01 12:00:00           19.230   \n",
       "\n",
       "        latitude   longitude paid_parking_area  prcp  tmax  ...   poi  \\\n",
       "64056  47.621478 -122.355531            Uptown   0.0  7.78  ...     0   \n",
       "64057  47.621478 -122.355531            Uptown   0.0  7.78  ...     0   \n",
       "64058  47.621478 -122.355531            Uptown   0.0  7.78  ...     0   \n",
       "64059  47.621478 -122.355531            Uptown   0.0  7.78  ...     0   \n",
       "64060  47.621478 -122.355531            Uptown   0.0  7.78  ...     0   \n",
       "\n",
       "       baseball  tennis  basket  soccer  event        no2      co   pm2_5  \\\n",
       "64056         0       0       0       0      0  75.262667  858.75  26.685   \n",
       "64057         0       0       0       0      0  75.262667  858.75  26.685   \n",
       "64058         0       0       0       0      0  75.262667  858.75  26.685   \n",
       "64059         0       0       0       0      0  75.262667  858.75  26.685   \n",
       "64060         0       0       0       0      0  75.262667  858.75  26.685   \n",
       "\n",
       "         o3  \n",
       "64056  61.0  \n",
       "64057  61.0  \n",
       "64058  61.0  \n",
       "64059  61.0  \n",
       "64060  61.0  \n",
       "\n",
       "[5 rows x 23 columns]"
      ]
     },
     "execution_count": 285,
     "metadata": {},
     "output_type": "execute_result"
    }
   ],
   "source": [
    "df_sel.head()"
   ]
  },
  {
   "cell_type": "code",
   "execution_count": 286,
   "metadata": {},
   "outputs": [],
   "source": [
    "df_sel.to_csv('./data/SerieTotal2016_ext_selected.csv', index=False)"
   ]
  },
  {
   "cell_type": "code",
   "execution_count": null,
   "metadata": {},
   "outputs": [],
   "source": []
  }
 ],
 "metadata": {
  "hide_input": false,
  "kernelspec": {
   "display_name": "Python 3",
   "language": "python",
   "name": "python3"
  },
  "language_info": {
   "codemirror_mode": {
    "name": "ipython",
    "version": 3
   },
   "file_extension": ".py",
   "mimetype": "text/x-python",
   "name": "python",
   "nbconvert_exporter": "python",
   "pygments_lexer": "ipython3",
   "version": "3.6.4"
  },
  "toc": {
   "colors": {
    "hover_highlight": "#DAA520",
    "navigate_num": "#000000",
    "navigate_text": "#333333",
    "running_highlight": "#FF0000",
    "selected_highlight": "#FFD700",
    "sidebar_border": "#EEEEEE",
    "wrapper_background": "#FFFFFF"
   },
   "moveMenuLeft": true,
   "nav_menu": {
    "height": "200px",
    "width": "254px"
   },
   "navigate_menu": true,
   "number_sections": true,
   "sideBar": true,
   "threshold": 4,
   "toc_cell": true,
   "toc_section_display": "block",
   "toc_window_display": false,
   "widenNotebook": false
  }
 },
 "nbformat": 4,
 "nbformat_minor": 2
}
