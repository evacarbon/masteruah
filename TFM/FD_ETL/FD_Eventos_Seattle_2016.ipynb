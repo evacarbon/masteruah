{
 "cells": [
  {
   "cell_type": "code",
   "execution_count": 1,
   "metadata": {},
   "outputs": [],
   "source": [
    "import numpy as np\n",
    "import pandas as pd\n",
    "import os\n",
    "import seaborn as sns\n",
    "% matplotlib inline"
   ]
  },
  {
   "cell_type": "code",
   "execution_count": 2,
   "metadata": {},
   "outputs": [
    {
     "data": {
      "text/html": [
       "<div>\n",
       "<style scoped>\n",
       "    .dataframe tbody tr th:only-of-type {\n",
       "        vertical-align: middle;\n",
       "    }\n",
       "\n",
       "    .dataframe tbody tr th {\n",
       "        vertical-align: top;\n",
       "    }\n",
       "\n",
       "    .dataframe thead th {\n",
       "        text-align: right;\n",
       "    }\n",
       "</style>\n",
       "<table border=\"1\" class=\"dataframe\">\n",
       "  <thead>\n",
       "    <tr style=\"text-align: right;\">\n",
       "      <th></th>\n",
       "      <th>Event</th>\n",
       "      <th>start_time</th>\n",
       "      <th>Latitude</th>\n",
       "      <th>Longitude</th>\n",
       "      <th>day_year</th>\n",
       "    </tr>\n",
       "  </thead>\n",
       "  <tbody>\n",
       "    <tr>\n",
       "      <th>0</th>\n",
       "      <td>IT Summit</td>\n",
       "      <td>2016-09-21</td>\n",
       "      <td>47.611823</td>\n",
       "      <td>-122.331616</td>\n",
       "      <td>265</td>\n",
       "    </tr>\n",
       "    <tr>\n",
       "      <th>1</th>\n",
       "      <td>Seattle Capitol Hill Block party</td>\n",
       "      <td>2016-07-22</td>\n",
       "      <td>47.614145</td>\n",
       "      <td>-122.318763</td>\n",
       "      <td>204</td>\n",
       "    </tr>\n",
       "    <tr>\n",
       "      <th>2</th>\n",
       "      <td>Aerospace Summit</td>\n",
       "      <td>2016-04-14</td>\n",
       "      <td>47.611543</td>\n",
       "      <td>-122.332630</td>\n",
       "      <td>105</td>\n",
       "    </tr>\n",
       "    <tr>\n",
       "      <th>3</th>\n",
       "      <td>Aerospace Summit</td>\n",
       "      <td>2016-04-15</td>\n",
       "      <td>47.611543</td>\n",
       "      <td>-122.332630</td>\n",
       "      <td>106</td>\n",
       "    </tr>\n",
       "    <tr>\n",
       "      <th>4</th>\n",
       "      <td>Pass Summit</td>\n",
       "      <td>2016-10-24</td>\n",
       "      <td>47.611543</td>\n",
       "      <td>-122.334818</td>\n",
       "      <td>298</td>\n",
       "    </tr>\n",
       "  </tbody>\n",
       "</table>\n",
       "</div>"
      ],
      "text/plain": [
       "                              Event start_time   Latitude   Longitude  \\\n",
       "0                         IT Summit 2016-09-21  47.611823 -122.331616   \n",
       "1  Seattle Capitol Hill Block party 2016-07-22  47.614145 -122.318763   \n",
       "2                  Aerospace Summit 2016-04-14  47.611543 -122.332630   \n",
       "3                  Aerospace Summit 2016-04-15  47.611543 -122.332630   \n",
       "4                       Pass Summit 2016-10-24  47.611543 -122.334818   \n",
       "\n",
       "   day_year  \n",
       "0       265  \n",
       "1       204  \n",
       "2       105  \n",
       "3       106  \n",
       "4       298  "
      ]
     },
     "execution_count": 2,
     "metadata": {},
     "output_type": "execute_result"
    }
   ],
   "source": [
    "# Creo un dataframe con los eventos que he encontrado en internet\n",
    "e = {'Event': [\"IT Summit\", \"Seattle Capitol Hill Block party\", \"Aerospace Summit\", \"Aerospace Summit\", \"Pass Summit\", \"Pass Summit\",\n",
    "              \"Pass Summit\", \"Pass Summit\", \"Pass Summit\", \"Cider Summit\", \"Cider Summit\"], \n",
    "     'start_time': [\"21-09-2016\", \"22-07-2016\", \"14-04-2016\", \"15-04-2016\", \"24-10-2016\", \"25-10-2016\", \"26-10-2016\", \"27-10-2016\",\n",
    "                   \"28-10-2016\", \"09-09-2016\", \"09-10-2016\"],\n",
    "     'Latitude': [\"47.611823\", \"47.6141446\", \"47.6115429\", \"47.6115429\", \"47.6115429\", \"47.6115429\", \"47.6115429\", \"47.6115429\",\n",
    "                 \"47.6115429\", \"47.618933\", \"47.618933\"], \n",
    "     'Longitude': [\"-122.3316156\", \"-122.3187625\", \"-122.3326296\", \"-122.3326296\", \"-122.3348183\", \"-122.3348183\", \"-122.3348183\",\n",
    "                  \"-122.3348183\", \"-122.3348183\", \"-122.338819\", \"-122.338819\"]\n",
    "    }\n",
    "eventos = pd.DataFrame(data=e)\n",
    "eventos.start_time = pd.to_datetime(eventos.start_time)\n",
    "eventos['day_year'] = eventos.start_time.dt.dayofyear\n",
    "eventos.Latitude = pd.to_numeric(eventos.Latitude)\n",
    "eventos.Longitude = pd.to_numeric(eventos.Longitude)\n",
    "\n",
    "eventos.head()"
   ]
  },
  {
   "cell_type": "code",
   "execution_count": 3,
   "metadata": {},
   "outputs": [
    {
     "data": {
      "text/plain": [
       "0"
      ]
     },
     "execution_count": 3,
     "metadata": {},
     "output_type": "execute_result"
    }
   ],
   "source": [
    "eventos[['start_time','Latitude','Longitude']].duplicated().sum()"
   ]
  },
  {
   "cell_type": "markdown",
   "metadata": {},
   "source": [
    "Fuente:\n",
    "\n",
    "http://www.theitsummit.com/event/seattle-2016/\n",
    "\n",
    "http://www.capitolhillblockparty.com/\n",
    "\n",
    "http://seattle.bciaerospace.com/\n",
    "\n",
    "https://www.pass.org/summit/2016/live.aspx\n",
    "\n",
    "https://brewpublic.com/craft-cider/2016-cider-summit-seattle-takes-place-september-9-10/"
   ]
  },
  {
   "cell_type": "code",
   "execution_count": 4,
   "metadata": {},
   "outputs": [],
   "source": [
    "import urllib.request\n",
    "\n",
    "def dl_data(url, output):\n",
    "    try:        \n",
    "        f = urllib.request.urlopen(url)\n",
    "        print (\"Downloading \" + url)\n",
    "\n",
    "        os.makedirs(os.path.dirname(output), exist_ok=True)\n",
    "        with open(output, \"wb\") as local_file:\n",
    "            local_file.write(f.read())\n",
    "\n",
    "    except URLError:\n",
    "        print (\"Error\", url)"
   ]
  },
  {
   "cell_type": "code",
   "execution_count": 5,
   "metadata": {},
   "outputs": [
    {
     "name": "stdout",
     "output_type": "stream",
     "text": [
      "Downloading https://data.seattle.gov/api/views/cprz-jsz8/rows.csv?accessType=DOWNLOAD\n"
     ]
    }
   ],
   "source": [
    "# Descarga de eventos de Seattle\n",
    "url = \"https://data.seattle.gov/api/views/cprz-jsz8/rows.csv?accessType=DOWNLOAD\"\n",
    "output1 = './data/City_of_Seattle_Events.csv'\n",
    "dl_data(url,output1)"
   ]
  },
  {
   "cell_type": "code",
   "execution_count": 6,
   "metadata": {},
   "outputs": [
    {
     "data": {
      "text/html": [
       "<div>\n",
       "<style scoped>\n",
       "    .dataframe tbody tr th:only-of-type {\n",
       "        vertical-align: middle;\n",
       "    }\n",
       "\n",
       "    .dataframe tbody tr th {\n",
       "        vertical-align: top;\n",
       "    }\n",
       "\n",
       "    .dataframe thead th {\n",
       "        text-align: right;\n",
       "    }\n",
       "</style>\n",
       "<table border=\"1\" class=\"dataframe\">\n",
       "  <thead>\n",
       "    <tr style=\"text-align: right;\">\n",
       "      <th></th>\n",
       "      <th>Event</th>\n",
       "      <th>Start time</th>\n",
       "      <th>End time</th>\n",
       "      <th>Building Name/Room Number</th>\n",
       "      <th>Website</th>\n",
       "      <th>Event Description/Agenda</th>\n",
       "      <th>Sponsoring Organization</th>\n",
       "      <th>Event Contact</th>\n",
       "      <th>Event Contact Position/Department</th>\n",
       "      <th>Event Contact Phone</th>\n",
       "      <th>Event Contact Email</th>\n",
       "      <th>Street Address</th>\n",
       "      <th>Latitude</th>\n",
       "      <th>Longitude</th>\n",
       "      <th>Location</th>\n",
       "      <th>Event Info Url</th>\n",
       "      <th>Classification</th>\n",
       "    </tr>\n",
       "  </thead>\n",
       "  <tbody>\n",
       "    <tr>\n",
       "      <th>0</th>\n",
       "      <td>Open Call for Performance/Live Art</td>\n",
       "      <td>05/15/2016 12:00:00 AM</td>\n",
       "      <td>NaN</td>\n",
       "      <td>doesliveart.wordpress.com</td>\n",
       "      <td>https://doesliveart.wordpress.com/</td>\n",
       "      <td>This open call is looking for contemporary per...</td>\n",
       "      <td>NaN</td>\n",
       "      <td>Morgan Cahn</td>\n",
       "      <td>NaN</td>\n",
       "      <td>206-471-4178</td>\n",
       "      <td>doesliveart@gmail.com</td>\n",
       "      <td>112 3rd Ave S</td>\n",
       "      <td>47.60113</td>\n",
       "      <td>-122.32980</td>\n",
       "      <td>(47.60113, -122.3298)</td>\n",
       "      <td>http://www.seattle.gov/living-in-seattle/event...</td>\n",
       "      <td>art</td>\n",
       "    </tr>\n",
       "    <tr>\n",
       "      <th>1</th>\n",
       "      <td>Keys to the Kingdom: Sea Stars and Our Coastal...</td>\n",
       "      <td>05/15/2016 10:00:00 AM</td>\n",
       "      <td>05/15/2016 05:00:00 PM</td>\n",
       "      <td>NaN</td>\n",
       "      <td>http://www.nps.gov/klse/index.htm</td>\n",
       "      <td>Please join the Klondike Gold Rush National Hi...</td>\n",
       "      <td>NaN</td>\n",
       "      <td>Klondike Gold Rush National Historical Park</td>\n",
       "      <td>NaN</td>\n",
       "      <td>NaN</td>\n",
       "      <td>NaN</td>\n",
       "      <td>319 2nd Ave S</td>\n",
       "      <td>47.59938</td>\n",
       "      <td>-122.33197</td>\n",
       "      <td>(47.59938, -122.33197)</td>\n",
       "      <td>http://www.seattle.gov/living-in-seattle/event...</td>\n",
       "      <td>art</td>\n",
       "    </tr>\n",
       "    <tr>\n",
       "      <th>2</th>\n",
       "      <td>Posing Beauty in African American Culture</td>\n",
       "      <td>05/15/2016 11:00:00 AM</td>\n",
       "      <td>05/15/2016 07:00:00 PM</td>\n",
       "      <td>NaN</td>\n",
       "      <td>http://www.naamnw.org/</td>\n",
       "      <td>You&amp;#8217;re posing for the camera. How do you...</td>\n",
       "      <td>Northwest African American Museum</td>\n",
       "      <td>Amie Newman</td>\n",
       "      <td>NaN</td>\n",
       "      <td>2065186000</td>\n",
       "      <td>info@naamnw.org</td>\n",
       "      <td>2300 S Massachusetts St</td>\n",
       "      <td>47.58874</td>\n",
       "      <td>-122.30185</td>\n",
       "      <td>(47.58874, -122.30185)</td>\n",
       "      <td>http://www.seattle.gov/living-in-seattle/event...</td>\n",
       "      <td>art</td>\n",
       "    </tr>\n",
       "    <tr>\n",
       "      <th>3</th>\n",
       "      <td>Posing Beauty in African American Culture</td>\n",
       "      <td>05/15/2016 11:00:00 AM</td>\n",
       "      <td>05/15/2016 05:00:00 PM</td>\n",
       "      <td>NaN</td>\n",
       "      <td>http://www.naamnw.org/</td>\n",
       "      <td>You&amp;#8217;re posing for the camera. How do you...</td>\n",
       "      <td>Northwest African American Museum</td>\n",
       "      <td>Amie Newman</td>\n",
       "      <td>NaN</td>\n",
       "      <td>2065186000</td>\n",
       "      <td>info@naamnw.org</td>\n",
       "      <td>2300 S Massachusetts St</td>\n",
       "      <td>47.58874</td>\n",
       "      <td>-122.30185</td>\n",
       "      <td>(47.58874, -122.30185)</td>\n",
       "      <td>http://www.seattle.gov/living-in-seattle/event...</td>\n",
       "      <td>art</td>\n",
       "    </tr>\n",
       "    <tr>\n",
       "      <th>4</th>\n",
       "      <td>Open Call for Performance/Live Art</td>\n",
       "      <td>05/16/2016 12:00:00 AM</td>\n",
       "      <td>NaN</td>\n",
       "      <td>doesliveart.wordpress.com</td>\n",
       "      <td>https://doesliveart.wordpress.com/</td>\n",
       "      <td>This open call is looking for contemporary per...</td>\n",
       "      <td>NaN</td>\n",
       "      <td>Morgan Cahn</td>\n",
       "      <td>NaN</td>\n",
       "      <td>206-471-4178</td>\n",
       "      <td>doesliveart@gmail.com</td>\n",
       "      <td>112 3rd Ave S</td>\n",
       "      <td>47.60113</td>\n",
       "      <td>-122.32980</td>\n",
       "      <td>(47.60113, -122.3298)</td>\n",
       "      <td>http://www.seattle.gov/living-in-seattle/event...</td>\n",
       "      <td>art</td>\n",
       "    </tr>\n",
       "  </tbody>\n",
       "</table>\n",
       "</div>"
      ],
      "text/plain": [
       "                                               Event              Start time  \\\n",
       "0                 Open Call for Performance/Live Art  05/15/2016 12:00:00 AM   \n",
       "1  Keys to the Kingdom: Sea Stars and Our Coastal...  05/15/2016 10:00:00 AM   \n",
       "2          Posing Beauty in African American Culture  05/15/2016 11:00:00 AM   \n",
       "3          Posing Beauty in African American Culture  05/15/2016 11:00:00 AM   \n",
       "4                 Open Call for Performance/Live Art  05/16/2016 12:00:00 AM   \n",
       "\n",
       "                 End time  Building Name/Room Number  \\\n",
       "0                     NaN  doesliveart.wordpress.com   \n",
       "1  05/15/2016 05:00:00 PM                        NaN   \n",
       "2  05/15/2016 07:00:00 PM                        NaN   \n",
       "3  05/15/2016 05:00:00 PM                        NaN   \n",
       "4                     NaN  doesliveart.wordpress.com   \n",
       "\n",
       "                              Website  \\\n",
       "0  https://doesliveart.wordpress.com/   \n",
       "1   http://www.nps.gov/klse/index.htm   \n",
       "2              http://www.naamnw.org/   \n",
       "3              http://www.naamnw.org/   \n",
       "4  https://doesliveart.wordpress.com/   \n",
       "\n",
       "                            Event Description/Agenda  \\\n",
       "0  This open call is looking for contemporary per...   \n",
       "1  Please join the Klondike Gold Rush National Hi...   \n",
       "2  You&#8217;re posing for the camera. How do you...   \n",
       "3  You&#8217;re posing for the camera. How do you...   \n",
       "4  This open call is looking for contemporary per...   \n",
       "\n",
       "              Sponsoring Organization  \\\n",
       "0                                 NaN   \n",
       "1                                 NaN   \n",
       "2  Northwest African American Museum    \n",
       "3  Northwest African American Museum    \n",
       "4                                 NaN   \n",
       "\n",
       "                                  Event Contact  \\\n",
       "0                                  Morgan Cahn    \n",
       "1  Klondike Gold Rush National Historical Park    \n",
       "2                                  Amie Newman    \n",
       "3                                  Amie Newman    \n",
       "4                                  Morgan Cahn    \n",
       "\n",
       "  Event Contact Position/Department Event Contact Phone  \\\n",
       "0                               NaN       206-471-4178    \n",
       "1                               NaN                 NaN   \n",
       "2                               NaN         2065186000    \n",
       "3                               NaN         2065186000    \n",
       "4                               NaN       206-471-4178    \n",
       "\n",
       "     Event Contact Email           Street Address  Latitude  Longitude  \\\n",
       "0  doesliveart@gmail.com            112 3rd Ave S  47.60113 -122.32980   \n",
       "1                    NaN            319 2nd Ave S  47.59938 -122.33197   \n",
       "2        info@naamnw.org  2300 S Massachusetts St  47.58874 -122.30185   \n",
       "3        info@naamnw.org  2300 S Massachusetts St  47.58874 -122.30185   \n",
       "4  doesliveart@gmail.com            112 3rd Ave S  47.60113 -122.32980   \n",
       "\n",
       "                 Location                                     Event Info Url  \\\n",
       "0   (47.60113, -122.3298)  http://www.seattle.gov/living-in-seattle/event...   \n",
       "1  (47.59938, -122.33197)  http://www.seattle.gov/living-in-seattle/event...   \n",
       "2  (47.58874, -122.30185)  http://www.seattle.gov/living-in-seattle/event...   \n",
       "3  (47.58874, -122.30185)  http://www.seattle.gov/living-in-seattle/event...   \n",
       "4   (47.60113, -122.3298)  http://www.seattle.gov/living-in-seattle/event...   \n",
       "\n",
       "  Classification  \n",
       "0            art  \n",
       "1            art  \n",
       "2            art  \n",
       "3            art  \n",
       "4            art  "
      ]
     },
     "execution_count": 6,
     "metadata": {},
     "output_type": "execute_result"
    }
   ],
   "source": [
    "# Cargamos eventos de Seattle\n",
    "df_events = pd.read_csv(os.path.join(\"./data/City_of_Seattle_Events.csv\"))\n",
    "df_events.head()"
   ]
  },
  {
   "cell_type": "code",
   "execution_count": 7,
   "metadata": {},
   "outputs": [],
   "source": [
    "# Renombramos algunas columnas para referirnos a ellas fácilmente más adelante\n",
    "df_events.rename(columns={'Start time': 'start_time', 'End time': 'end_time'}, inplace=True)"
   ]
  },
  {
   "cell_type": "code",
   "execution_count": 8,
   "metadata": {},
   "outputs": [],
   "source": [
    "df_events['start_time'] = pd.to_datetime(df_events.start_time)"
   ]
  },
  {
   "cell_type": "code",
   "execution_count": 9,
   "metadata": {},
   "outputs": [],
   "source": [
    "# Ordenamos por fecha\n",
    "df_events.sort_values(by='start_time');"
   ]
  },
  {
   "cell_type": "code",
   "execution_count": 10,
   "metadata": {},
   "outputs": [],
   "source": [
    "# Eliminamos los na de la columna start_time. Si no tienen fecha no nos interesan\n",
    "df_events.dropna(subset=['start_time'], inplace=True)"
   ]
  },
  {
   "cell_type": "code",
   "execution_count": 11,
   "metadata": {},
   "outputs": [
    {
     "data": {
      "text/plain": [
       "0"
      ]
     },
     "execution_count": 11,
     "metadata": {},
     "output_type": "execute_result"
    }
   ],
   "source": [
    "df_events.start_time.isnull().sum()"
   ]
  },
  {
   "cell_type": "code",
   "execution_count": 12,
   "metadata": {},
   "outputs": [
    {
     "data": {
      "text/plain": [
       "count                    2856\n",
       "unique                   1290\n",
       "top       2016-05-21 10:00:00\n",
       "freq                       19\n",
       "first     2016-05-15 00:00:00\n",
       "last      2018-02-13 16:00:00\n",
       "Name: start_time, dtype: object"
      ]
     },
     "execution_count": 12,
     "metadata": {},
     "output_type": "execute_result"
    }
   ],
   "source": [
    "# Vemos la descripción de la columna start_time\n",
    "df_events['start_time'].describe()"
   ]
  },
  {
   "cell_type": "code",
   "execution_count": 13,
   "metadata": {},
   "outputs": [
    {
     "data": {
      "text/plain": [
       "count                    2809\n",
       "unique                   1249\n",
       "top       2016-05-21 10:00:00\n",
       "freq                       19\n",
       "first     2016-05-15 00:00:00\n",
       "last      2016-12-31 10:00:00\n",
       "Name: start_time, dtype: object"
      ]
     },
     "execution_count": 13,
     "metadata": {},
     "output_type": "execute_result"
    }
   ],
   "source": [
    "# Filtramos para quedarnos sólo con los eventos anteriores al 1 de enero de 2017, esto es, con los eventos del 2016\n",
    "events_2016 = df_events.loc[df_events.start_time < '2017-01-01']\n",
    "events_2016['start_time'].describe()"
   ]
  },
  {
   "cell_type": "code",
   "execution_count": 14,
   "metadata": {},
   "outputs": [],
   "source": [
    "# También eliminamos las filas que no tengan localización\n",
    "events_2016_location = events_2016.dropna(subset=['Location'])"
   ]
  },
  {
   "cell_type": "code",
   "execution_count": 15,
   "metadata": {},
   "outputs": [
    {
     "data": {
      "text/html": [
       "<div>\n",
       "<style scoped>\n",
       "    .dataframe tbody tr th:only-of-type {\n",
       "        vertical-align: middle;\n",
       "    }\n",
       "\n",
       "    .dataframe tbody tr th {\n",
       "        vertical-align: top;\n",
       "    }\n",
       "\n",
       "    .dataframe thead th {\n",
       "        text-align: right;\n",
       "    }\n",
       "</style>\n",
       "<table border=\"1\" class=\"dataframe\">\n",
       "  <thead>\n",
       "    <tr style=\"text-align: right;\">\n",
       "      <th></th>\n",
       "      <th>Event</th>\n",
       "      <th>start_time</th>\n",
       "      <th>Latitude</th>\n",
       "      <th>Longitude</th>\n",
       "    </tr>\n",
       "  </thead>\n",
       "  <tbody>\n",
       "    <tr>\n",
       "      <th>0</th>\n",
       "      <td>Open Call for Performance/Live Art</td>\n",
       "      <td>2016-05-15 00:00:00</td>\n",
       "      <td>47.60113</td>\n",
       "      <td>-122.32980</td>\n",
       "    </tr>\n",
       "    <tr>\n",
       "      <th>1</th>\n",
       "      <td>Keys to the Kingdom: Sea Stars and Our Coastal...</td>\n",
       "      <td>2016-05-15 10:00:00</td>\n",
       "      <td>47.59938</td>\n",
       "      <td>-122.33197</td>\n",
       "    </tr>\n",
       "    <tr>\n",
       "      <th>2</th>\n",
       "      <td>Posing Beauty in African American Culture</td>\n",
       "      <td>2016-05-15 11:00:00</td>\n",
       "      <td>47.58874</td>\n",
       "      <td>-122.30185</td>\n",
       "    </tr>\n",
       "    <tr>\n",
       "      <th>4</th>\n",
       "      <td>Open Call for Performance/Live Art</td>\n",
       "      <td>2016-05-16 00:00:00</td>\n",
       "      <td>47.60113</td>\n",
       "      <td>-122.32980</td>\n",
       "    </tr>\n",
       "    <tr>\n",
       "      <th>5</th>\n",
       "      <td>Keys to the Kingdom: Sea Stars and Our Coastal...</td>\n",
       "      <td>2016-05-16 10:00:00</td>\n",
       "      <td>47.59938</td>\n",
       "      <td>-122.33197</td>\n",
       "    </tr>\n",
       "  </tbody>\n",
       "</table>\n",
       "</div>"
      ],
      "text/plain": [
       "                                               Event          start_time  \\\n",
       "0                 Open Call for Performance/Live Art 2016-05-15 00:00:00   \n",
       "1  Keys to the Kingdom: Sea Stars and Our Coastal... 2016-05-15 10:00:00   \n",
       "2          Posing Beauty in African American Culture 2016-05-15 11:00:00   \n",
       "4                 Open Call for Performance/Live Art 2016-05-16 00:00:00   \n",
       "5  Keys to the Kingdom: Sea Stars and Our Coastal... 2016-05-16 10:00:00   \n",
       "\n",
       "   Latitude  Longitude  \n",
       "0  47.60113 -122.32980  \n",
       "1  47.59938 -122.33197  \n",
       "2  47.58874 -122.30185  \n",
       "4  47.60113 -122.32980  \n",
       "5  47.59938 -122.33197  "
      ]
     },
     "execution_count": 15,
     "metadata": {},
     "output_type": "execute_result"
    }
   ],
   "source": [
    "# Quitamos los duplicados, y nos quedamos sólo con las columnas que queremos y vemos los 5 primeros registros.\n",
    "events_2016_unique = events_2016_location.drop_duplicates()\n",
    "\n",
    "events_2016_clean2 =events_2016_unique.drop(columns =\n",
    "                                            ['end_time', 'Building Name/Room Number', 'Website', 'Event Description/Agenda',\n",
    "                                             'Sponsoring Organization', 'Event Contact', 'Event Contact Phone',\n",
    "                                             'Event Contact Position/Department', 'Event Contact Email', 'Street Address',\n",
    "                                             'Location', 'Event Info Url', 'Classification'])\n",
    "\n",
    "events_2016_clean = events_2016_clean2.drop_duplicates()\n",
    "events_2016_clean.head()"
   ]
  },
  {
   "cell_type": "code",
   "execution_count": 16,
   "metadata": {},
   "outputs": [
    {
     "name": "stderr",
     "output_type": "stream",
     "text": [
      "/anaconda3/lib/python3.6/site-packages/ipykernel_launcher.py:3: SettingWithCopyWarning: \n",
      "A value is trying to be set on a copy of a slice from a DataFrame.\n",
      "Try using .loc[row_indexer,col_indexer] = value instead\n",
      "\n",
      "See the caveats in the documentation: http://pandas.pydata.org/pandas-docs/stable/indexing.html#indexing-view-versus-copy\n",
      "  This is separate from the ipykernel package so we can avoid doing imports until\n"
     ]
    },
    {
     "data": {
      "text/html": [
       "<div>\n",
       "<style scoped>\n",
       "    .dataframe tbody tr th:only-of-type {\n",
       "        vertical-align: middle;\n",
       "    }\n",
       "\n",
       "    .dataframe tbody tr th {\n",
       "        vertical-align: top;\n",
       "    }\n",
       "\n",
       "    .dataframe thead th {\n",
       "        text-align: right;\n",
       "    }\n",
       "</style>\n",
       "<table border=\"1\" class=\"dataframe\">\n",
       "  <thead>\n",
       "    <tr style=\"text-align: right;\">\n",
       "      <th></th>\n",
       "      <th>Event</th>\n",
       "      <th>start_time</th>\n",
       "      <th>Latitude</th>\n",
       "      <th>Longitude</th>\n",
       "      <th>day_year</th>\n",
       "    </tr>\n",
       "  </thead>\n",
       "  <tbody>\n",
       "    <tr>\n",
       "      <th>4</th>\n",
       "      <td>Open Call for Performance/Live Art</td>\n",
       "      <td>2016-05-16 00:00:00</td>\n",
       "      <td>47.60113</td>\n",
       "      <td>-122.32980</td>\n",
       "      <td>137</td>\n",
       "    </tr>\n",
       "    <tr>\n",
       "      <th>5</th>\n",
       "      <td>Keys to the Kingdom: Sea Stars and Our Coastal...</td>\n",
       "      <td>2016-05-16 10:00:00</td>\n",
       "      <td>47.59938</td>\n",
       "      <td>-122.33197</td>\n",
       "      <td>137</td>\n",
       "    </tr>\n",
       "    <tr>\n",
       "      <th>6</th>\n",
       "      <td>Living Small: Ideas for Living in the City</td>\n",
       "      <td>2016-05-20 10:00:00</td>\n",
       "      <td>47.60470</td>\n",
       "      <td>-122.33739</td>\n",
       "      <td>141</td>\n",
       "    </tr>\n",
       "    <tr>\n",
       "      <th>7</th>\n",
       "      <td>Posing Beauty in African American Culture</td>\n",
       "      <td>2016-05-16 11:00:00</td>\n",
       "      <td>47.58874</td>\n",
       "      <td>-122.30185</td>\n",
       "      <td>137</td>\n",
       "    </tr>\n",
       "    <tr>\n",
       "      <th>9</th>\n",
       "      <td>The Atomic Weight of Love with Author Elizabet...</td>\n",
       "      <td>2016-05-16 19:00:00</td>\n",
       "      <td>47.66024</td>\n",
       "      <td>-122.31278</td>\n",
       "      <td>137</td>\n",
       "    </tr>\n",
       "  </tbody>\n",
       "</table>\n",
       "</div>"
      ],
      "text/plain": [
       "                                               Event          start_time  \\\n",
       "4                 Open Call for Performance/Live Art 2016-05-16 00:00:00   \n",
       "5  Keys to the Kingdom: Sea Stars and Our Coastal... 2016-05-16 10:00:00   \n",
       "6         Living Small: Ideas for Living in the City 2016-05-20 10:00:00   \n",
       "7          Posing Beauty in African American Culture 2016-05-16 11:00:00   \n",
       "9  The Atomic Weight of Love with Author Elizabet... 2016-05-16 19:00:00   \n",
       "\n",
       "   Latitude  Longitude  day_year  \n",
       "4  47.60113 -122.32980       137  \n",
       "5  47.59938 -122.33197       137  \n",
       "6  47.60470 -122.33739       141  \n",
       "7  47.58874 -122.30185       137  \n",
       "9  47.66024 -122.31278       137  "
      ]
     },
     "execution_count": 16,
     "metadata": {},
     "output_type": "execute_result"
    }
   ],
   "source": [
    "# El número 6 se corresponde con los domingos, fuera del horario de los parquímetros, así que los eliminamos\n",
    "events_2016_without_sun = events_2016_clean.loc[events_2016_clean.start_time.dt.dayofweek != 6]\n",
    "events_2016_without_sun['day_year'] = events_2016_without_sun.start_time.dt.dayofyear\n",
    "events_2016_without_sun.head()"
   ]
  },
  {
   "cell_type": "code",
   "execution_count": 17,
   "metadata": {},
   "outputs": [
    {
     "data": {
      "text/plain": [
       "171"
      ]
     },
     "execution_count": 17,
     "metadata": {},
     "output_type": "execute_result"
    }
   ],
   "source": [
    "events_2016_without_sun[['Latitude','Longitude','day_year']].duplicated().sum()"
   ]
  },
  {
   "cell_type": "code",
   "execution_count": 18,
   "metadata": {},
   "outputs": [],
   "source": [
    "events_2016_without_sun = events_2016_without_sun[['Latitude','Longitude','day_year']].drop_duplicates()"
   ]
  },
  {
   "cell_type": "code",
   "execution_count": 19,
   "metadata": {},
   "outputs": [
    {
     "data": {
      "text/html": [
       "<div>\n",
       "<style scoped>\n",
       "    .dataframe tbody tr th:only-of-type {\n",
       "        vertical-align: middle;\n",
       "    }\n",
       "\n",
       "    .dataframe tbody tr th {\n",
       "        vertical-align: top;\n",
       "    }\n",
       "\n",
       "    .dataframe thead th {\n",
       "        text-align: right;\n",
       "    }\n",
       "</style>\n",
       "<table border=\"1\" class=\"dataframe\">\n",
       "  <thead>\n",
       "    <tr style=\"text-align: right;\">\n",
       "      <th></th>\n",
       "      <th>Latitude</th>\n",
       "      <th>Longitude</th>\n",
       "      <th>day_year</th>\n",
       "    </tr>\n",
       "  </thead>\n",
       "  <tbody>\n",
       "    <tr>\n",
       "      <th>4</th>\n",
       "      <td>47.60113</td>\n",
       "      <td>-122.32980</td>\n",
       "      <td>137</td>\n",
       "    </tr>\n",
       "    <tr>\n",
       "      <th>5</th>\n",
       "      <td>47.59938</td>\n",
       "      <td>-122.33197</td>\n",
       "      <td>137</td>\n",
       "    </tr>\n",
       "    <tr>\n",
       "      <th>6</th>\n",
       "      <td>47.60470</td>\n",
       "      <td>-122.33739</td>\n",
       "      <td>141</td>\n",
       "    </tr>\n",
       "    <tr>\n",
       "      <th>7</th>\n",
       "      <td>47.58874</td>\n",
       "      <td>-122.30185</td>\n",
       "      <td>137</td>\n",
       "    </tr>\n",
       "    <tr>\n",
       "      <th>9</th>\n",
       "      <td>47.66024</td>\n",
       "      <td>-122.31278</td>\n",
       "      <td>137</td>\n",
       "    </tr>\n",
       "  </tbody>\n",
       "</table>\n",
       "</div>"
      ],
      "text/plain": [
       "   Latitude  Longitude  day_year\n",
       "4  47.60113 -122.32980       137\n",
       "5  47.59938 -122.33197       137\n",
       "6  47.60470 -122.33739       141\n",
       "7  47.58874 -122.30185       137\n",
       "9  47.66024 -122.31278       137"
      ]
     },
     "execution_count": 19,
     "metadata": {},
     "output_type": "execute_result"
    }
   ],
   "source": [
    "events_2016_without_sun.head()"
   ]
  },
  {
   "cell_type": "code",
   "execution_count": 20,
   "metadata": {
    "scrolled": true
   },
   "outputs": [],
   "source": [
    "#Juntamos los dos datasets de eventos que tenemos\n",
    "events_c = events_2016_without_sun.append(eventos[['Latitude','Longitude','day_year']], ignore_index=True, sort=True)"
   ]
  },
  {
   "cell_type": "code",
   "execution_count": 21,
   "metadata": {},
   "outputs": [],
   "source": [
    "events = events_c.sort_values(by='day_year')"
   ]
  },
  {
   "cell_type": "code",
   "execution_count": 22,
   "metadata": {},
   "outputs": [
    {
     "data": {
      "text/plain": [
       "0"
      ]
     },
     "execution_count": 22,
     "metadata": {},
     "output_type": "execute_result"
    }
   ],
   "source": [
    "events.duplicated().sum()"
   ]
  },
  {
   "cell_type": "code",
   "execution_count": 23,
   "metadata": {},
   "outputs": [
    {
     "data": {
      "text/html": [
       "<div>\n",
       "<style scoped>\n",
       "    .dataframe tbody tr th:only-of-type {\n",
       "        vertical-align: middle;\n",
       "    }\n",
       "\n",
       "    .dataframe tbody tr th {\n",
       "        vertical-align: top;\n",
       "    }\n",
       "\n",
       "    .dataframe thead th {\n",
       "        text-align: right;\n",
       "    }\n",
       "</style>\n",
       "<table border=\"1\" class=\"dataframe\">\n",
       "  <thead>\n",
       "    <tr style=\"text-align: right;\">\n",
       "      <th></th>\n",
       "      <th>Latitude</th>\n",
       "      <th>Longitude</th>\n",
       "      <th>day_year</th>\n",
       "    </tr>\n",
       "  </thead>\n",
       "  <tbody>\n",
       "    <tr>\n",
       "      <th>968</th>\n",
       "      <td>47.611543</td>\n",
       "      <td>-122.33263</td>\n",
       "      <td>105</td>\n",
       "    </tr>\n",
       "    <tr>\n",
       "      <th>969</th>\n",
       "      <td>47.611543</td>\n",
       "      <td>-122.33263</td>\n",
       "      <td>106</td>\n",
       "    </tr>\n",
       "    <tr>\n",
       "      <th>0</th>\n",
       "      <td>47.601130</td>\n",
       "      <td>-122.32980</td>\n",
       "      <td>137</td>\n",
       "    </tr>\n",
       "    <tr>\n",
       "      <th>852</th>\n",
       "      <td>47.628560</td>\n",
       "      <td>-122.33979</td>\n",
       "      <td>137</td>\n",
       "    </tr>\n",
       "    <tr>\n",
       "      <th>754</th>\n",
       "      <td>47.636290</td>\n",
       "      <td>-122.35922</td>\n",
       "      <td>137</td>\n",
       "    </tr>\n",
       "  </tbody>\n",
       "</table>\n",
       "</div>"
      ],
      "text/plain": [
       "      Latitude  Longitude  day_year\n",
       "968  47.611543 -122.33263       105\n",
       "969  47.611543 -122.33263       106\n",
       "0    47.601130 -122.32980       137\n",
       "852  47.628560 -122.33979       137\n",
       "754  47.636290 -122.35922       137"
      ]
     },
     "execution_count": 23,
     "metadata": {},
     "output_type": "execute_result"
    }
   ],
   "source": [
    "events.head()"
   ]
  },
  {
   "cell_type": "code",
   "execution_count": 24,
   "metadata": {},
   "outputs": [],
   "source": [
    "events.to_csv('./data/Events_2016.csv', index=False)"
   ]
  },
  {
   "cell_type": "markdown",
   "metadata": {},
   "source": [
    "### Mapa de eventos"
   ]
  },
  {
   "cell_type": "code",
   "execution_count": 26,
   "metadata": {},
   "outputs": [],
   "source": [
    "#! pip install gmplot\n",
    "from gmplot import gmplot"
   ]
  },
  {
   "cell_type": "code",
   "execution_count": 27,
   "metadata": {},
   "outputs": [],
   "source": [
    "gmap8 = gmplot.GoogleMapPlotter.from_geocode(\"Seattle\") # Si da error, cambiar número de gmap (poner gmap8 por ejemplo)"
   ]
  },
  {
   "cell_type": "code",
   "execution_count": 28,
   "metadata": {},
   "outputs": [],
   "source": [
    "la=events_c['Latitude'].tolist()\n",
    "lo=events_c['Longitude'].tolist()"
   ]
  },
  {
   "cell_type": "code",
   "execution_count": 29,
   "metadata": {},
   "outputs": [],
   "source": [
    "lat = np.array(la, dtype=np.float32)"
   ]
  },
  {
   "cell_type": "code",
   "execution_count": 30,
   "metadata": {},
   "outputs": [],
   "source": [
    "lon = np.array(lo, dtype=np.float32)"
   ]
  },
  {
   "cell_type": "code",
   "execution_count": 31,
   "metadata": {},
   "outputs": [],
   "source": [
    "gmap8.scatter(lat, lon, '#DC143C', size=40, marker=False)"
   ]
  },
  {
   "cell_type": "code",
   "execution_count": 32,
   "metadata": {},
   "outputs": [],
   "source": [
    "gmap8.draw(\"my_map1.html\")"
   ]
  },
  {
   "cell_type": "markdown",
   "metadata": {},
   "source": [
    "### Según el día, queremos que revise si los ek tienen algún evento cercano"
   ]
  },
  {
   "cell_type": "code",
   "execution_count": 34,
   "metadata": {},
   "outputs": [],
   "source": [
    "df = pd.read_csv(os.path.join('./data/Serie_Total2016.csv'))"
   ]
  },
  {
   "cell_type": "code",
   "execution_count": 35,
   "metadata": {},
   "outputs": [
    {
     "data": {
      "text/html": [
       "<div>\n",
       "<style scoped>\n",
       "    .dataframe tbody tr th:only-of-type {\n",
       "        vertical-align: middle;\n",
       "    }\n",
       "\n",
       "    .dataframe tbody tr th {\n",
       "        vertical-align: top;\n",
       "    }\n",
       "\n",
       "    .dataframe thead th {\n",
       "        text-align: right;\n",
       "    }\n",
       "</style>\n",
       "<table border=\"1\" class=\"dataframe\">\n",
       "  <thead>\n",
       "    <tr style=\"text-align: right;\">\n",
       "      <th></th>\n",
       "      <th>element_key</th>\n",
       "      <th>latitude</th>\n",
       "      <th>longitude</th>\n",
       "      <th>timestamp</th>\n",
       "      <th>paid_parking_area</th>\n",
       "      <th>day_year</th>\n",
       "      <th>occupation_perc</th>\n",
       "      <th>prcp</th>\n",
       "      <th>tmax</th>\n",
       "      <th>tmin</th>\n",
       "    </tr>\n",
       "  </thead>\n",
       "  <tbody>\n",
       "    <tr>\n",
       "      <th>0</th>\n",
       "      <td>75865</td>\n",
       "      <td>47.598052</td>\n",
       "      <td>-122.326466</td>\n",
       "      <td>2016-01-02 08:00:00</td>\n",
       "      <td>Chinatown/ID</td>\n",
       "      <td>2</td>\n",
       "      <td>11.76</td>\n",
       "      <td>0.0</td>\n",
       "      <td>42</td>\n",
       "      <td>25</td>\n",
       "    </tr>\n",
       "    <tr>\n",
       "      <th>1</th>\n",
       "      <td>75865</td>\n",
       "      <td>47.598052</td>\n",
       "      <td>-122.326466</td>\n",
       "      <td>2016-01-02 09:00:00</td>\n",
       "      <td>Chinatown/ID</td>\n",
       "      <td>2</td>\n",
       "      <td>11.76</td>\n",
       "      <td>0.0</td>\n",
       "      <td>42</td>\n",
       "      <td>25</td>\n",
       "    </tr>\n",
       "    <tr>\n",
       "      <th>2</th>\n",
       "      <td>75865</td>\n",
       "      <td>47.598052</td>\n",
       "      <td>-122.326466</td>\n",
       "      <td>2016-01-02 10:00:00</td>\n",
       "      <td>Chinatown/ID</td>\n",
       "      <td>2</td>\n",
       "      <td>11.76</td>\n",
       "      <td>0.0</td>\n",
       "      <td>42</td>\n",
       "      <td>25</td>\n",
       "    </tr>\n",
       "    <tr>\n",
       "      <th>3</th>\n",
       "      <td>75865</td>\n",
       "      <td>47.598052</td>\n",
       "      <td>-122.326466</td>\n",
       "      <td>2016-01-02 11:00:00</td>\n",
       "      <td>Chinatown/ID</td>\n",
       "      <td>2</td>\n",
       "      <td>29.41</td>\n",
       "      <td>0.0</td>\n",
       "      <td>42</td>\n",
       "      <td>25</td>\n",
       "    </tr>\n",
       "    <tr>\n",
       "      <th>4</th>\n",
       "      <td>75865</td>\n",
       "      <td>47.598052</td>\n",
       "      <td>-122.326466</td>\n",
       "      <td>2016-01-02 12:00:00</td>\n",
       "      <td>Chinatown/ID</td>\n",
       "      <td>2</td>\n",
       "      <td>52.94</td>\n",
       "      <td>0.0</td>\n",
       "      <td>42</td>\n",
       "      <td>25</td>\n",
       "    </tr>\n",
       "  </tbody>\n",
       "</table>\n",
       "</div>"
      ],
      "text/plain": [
       "   element_key   latitude   longitude            timestamp paid_parking_area  \\\n",
       "0        75865  47.598052 -122.326466  2016-01-02 08:00:00      Chinatown/ID   \n",
       "1        75865  47.598052 -122.326466  2016-01-02 09:00:00      Chinatown/ID   \n",
       "2        75865  47.598052 -122.326466  2016-01-02 10:00:00      Chinatown/ID   \n",
       "3        75865  47.598052 -122.326466  2016-01-02 11:00:00      Chinatown/ID   \n",
       "4        75865  47.598052 -122.326466  2016-01-02 12:00:00      Chinatown/ID   \n",
       "\n",
       "   day_year  occupation_perc  prcp  tmax  tmin  \n",
       "0         2            11.76   0.0    42    25  \n",
       "1         2            11.76   0.0    42    25  \n",
       "2         2            11.76   0.0    42    25  \n",
       "3         2            29.41   0.0    42    25  \n",
       "4         2            52.94   0.0    42    25  "
      ]
     },
     "execution_count": 35,
     "metadata": {},
     "output_type": "execute_result"
    }
   ],
   "source": [
    "df.head()"
   ]
  },
  {
   "cell_type": "code",
   "execution_count": 36,
   "metadata": {},
   "outputs": [],
   "source": [
    "df.timestamp = pd.to_datetime(df.timestamp)"
   ]
  },
  {
   "cell_type": "code",
   "execution_count": 37,
   "metadata": {},
   "outputs": [],
   "source": [
    "# Función para calcular la distancia entre dos puntos teniendo en cuenta la curvatura de la tierra (no Euclidea)\n",
    "from math import radians, cos, sin, asin, sqrt, acos\n",
    "\n",
    "def haversine(lon1, lat1, lon2, lat2):\n",
    "    # convert decimal degrees to radians \n",
    "    lon1, lat1, lon2, lat2 = map(radians, [lon1, lat1, lon2, lat2])\n",
    "    # haversine formula \n",
    "    dlon = lon2 - lon1 \n",
    "    dlat = lat2 - lat1 \n",
    "    a = sin(dlat/2)**2 + cos(lat1) * cos(lat2) * sin(dlon/2)**2\n",
    "    c = 2 * asin(sqrt(a)) \n",
    "    r = 6373 # Radius of earth kilometers\n",
    "    return c * r"
   ]
  },
  {
   "cell_type": "code",
   "execution_count": 41,
   "metadata": {},
   "outputs": [],
   "source": [
    "# Creamos una nueva columna que indica si hay un evento próximo al element_key\n",
    "# Una vez que un element_key tiene un punto cercano (<=100-200 metros) no es necesario revisar otros (break)\n",
    "df['event'] = 0\n",
    "for df_index2, df_row2 in df.iterrows():\n",
    "    events_sub = events.loc[events.day_year == df_row2.day_year]\n",
    "    for e_index, e_row in events_sub.iterrows():\n",
    "        dist = haversine(e_row.Longitude, e_row.Latitude, df_row2.longitude, df_row2.latitude)\n",
    "        if dist <= 0.15:  # 150 metros\n",
    "            df.at[df_index2,'event'] = 1\n",
    "            break"
   ]
  },
  {
   "cell_type": "code",
   "execution_count": 42,
   "metadata": {},
   "outputs": [
    {
     "data": {
      "text/plain": [
       "362"
      ]
     },
     "execution_count": 42,
     "metadata": {},
     "output_type": "execute_result"
    }
   ],
   "source": [
    "df.loc[df.event == 1].element_key.unique().size"
   ]
  },
  {
   "cell_type": "code",
   "execution_count": 31,
   "metadata": {},
   "outputs": [],
   "source": [
    "df.to_csv('./data/Serie_Total2016_eventos100m.csv')\n",
    "# Con distancia de 100 metros, hay 181 parquímetros próximos a un evento"
   ]
  },
  {
   "cell_type": "code",
   "execution_count": 43,
   "metadata": {},
   "outputs": [],
   "source": [
    "df.to_csv('./data/Serie_Total2016_eventos150m.csv')\n",
    "# Con distancia de 150 metros, hay 362 parquímetros próximos a un evento"
   ]
  },
  {
   "cell_type": "code",
   "execution_count": 28,
   "metadata": {},
   "outputs": [],
   "source": [
    "df.to_csv('./data/Serie_Total2016_eventos200m.csv')\n",
    "# Con distancia de 200 metros, hay 542 parquímetros próximos a un evento"
   ]
  }
 ],
 "metadata": {
  "kernelspec": {
   "display_name": "Python 3",
   "language": "python",
   "name": "python3"
  },
  "language_info": {
   "codemirror_mode": {
    "name": "ipython",
    "version": 3
   },
   "file_extension": ".py",
   "mimetype": "text/x-python",
   "name": "python",
   "nbconvert_exporter": "python",
   "pygments_lexer": "ipython3",
   "version": "3.6.4"
  }
 },
 "nbformat": 4,
 "nbformat_minor": 2
}
